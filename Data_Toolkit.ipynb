{
  "nbformat": 4,
  "nbformat_minor": 0,
  "metadata": {
    "colab": {
      "provenance": []
    },
    "kernelspec": {
      "name": "python3",
      "display_name": "Python 3"
    },
    "language_info": {
      "name": "python"
    }
  },
  "cells": [
    {
      "cell_type": "markdown",
      "source": [
        "# **Data Toolkit**"
      ],
      "metadata": {
        "id": "1tJ9lj7WMKOV"
      }
    },
    {
      "cell_type": "markdown",
      "source": [
        "1 What is NumPy, and why is it widely used in Python?\n",
        "\n",
        " - NumPy (Numerical Python) is a powerful open-source library in Python used for numerical and scientific computing.\n",
        "\n",
        "  - It provides:\n",
        "\n",
        " - A multi-dimensional array object (ndarray) that is much faster and more efficient than Python’s built-in lists.\n",
        "\n",
        " - A wide range of mathematical, statistical, and linear algebra functions.\n",
        "\n",
        " - Tools for integrating with C/C++ and Fortran code.\n",
        "\n",
        " - The foundation for many other scientific libraries like Pandas, SciPy, scikit-learn, TensorFlow, and PyTorch.\n",
        "\n",
        "2 How does broadcasting work in NumPy?\n",
        " - Broadcasting in NumPy is the process of performing operations on arrays of different shapes without explicitly copying or looping.\n",
        "It automatically “stretches” smaller arrays across larger ones so that arithmetic operations can be performed element-wise.\n",
        "\n",
        "3 What is a Pandas DataFrame?\n",
        " - A DataFrame is a 2-dimensional labeled data structure (like a table in Excel or SQL) with rows and columns.\n",
        "\n",
        " - Rows → represent observations/records.\n",
        "\n",
        " - Columns → represent features/variables.\n",
        "\n",
        " - Each column can hold different data types (integers, floats, strings, etc.).\n",
        " - Think of it as a combination of:\n",
        " - A NumPy array (for fast numerical operations).\n",
        " - A dictionary (because columns can have labels).\n",
        "\n",
        "4 Explain the use of the groupby() method in Pandas?\n",
        " - The groupby() method in Pandas is used to split data into groups based on one or more columns, apply a function to each group, and then combine the results.\n",
        "\n",
        " - This follows the “Split → Apply → Combine” strategy:\n",
        "\n",
        " - Split → Divide the DataFrame into groups based on some criteria.\n",
        "\n",
        " - Apply → Perform a function (sum, mean, count, etc.) on each group.\n",
        "\n",
        "5 Why is Seaborn preferred for statistical visualizations?\n",
        " - Unlike raw Matplotlib, Seaborn is designed for statistical visualizations.\n",
        "\n",
        " - It has built-in support for:\n",
        "\n",
        " - Distribution plots (histplot, kdeplot)\n",
        "\n",
        " - Relationship plots (scatterplot, lineplot, relplot)\n",
        "\n",
        " - Categorical plots (barplot, boxplot, violinplot, swarmplot)\n",
        "\n",
        " - Heatmaps and pair plots\n",
        "\n",
        "6 What are the differences between NumPy arrays and Python lists?\n",
        " - NumPy Array (ndarray)\n",
        "\n",
        "   - A data structure from the NumPy library designed for numerical computations.Stores elements of the same data type (homogeneous).Provides powerful operations like vectorization, broadcasting, linear algebra, statistical functions.\n",
        " - Python List\n",
        "\n",
        "   - A built-in data structure in Python that can store a collection of items.Can hold heterogeneous data types (integers, strings, floats, objects, etc.).Implemented as dynamic arrays (like flexible containers).\n",
        "\n",
        "7 What is a heatmap, and when should it be used?\n",
        " - A heatmap is a data visualization technique that uses color shading to represent the magnitude of values in a matrix or table.\n",
        " - Correlation Analysis\n",
        "\n",
        "   - To quickly see relationships between variables.\n",
        "\n",
        "   - Example: Correlation matrix of features in a dataset.\n",
        "\n",
        "   - Visualizing Matrices / Grids\n",
        "\n",
        "   - Useful for 2D data (confusion matrices, distance matrices).\n",
        "\n",
        "   - Pattern Detection\n",
        "\n",
        "   - Identify clusters, trends, or anomalies in large datasets.\n",
        "\n",
        "   - Categorical vs Numerical Data\n",
        "\n",
        "   - Show how numerical values change across categories (e.g., sales per region per month).\n",
        "\n",
        "8  What does the term “vectorized operation” mean in NumPy?\n",
        " - A vectorized operation in NumPy means applying an operation to entire arrays (vectors, matrices, tensors) at once, without using explicit Python loops.\n",
        "\n",
        "9 How does Matplotlib differ from Plotly?\n",
        "\n",
        " -- Matplotlib\n",
        "\n",
        " - Definition: A low-level, flexible plotting library in Python, often called the \"grandfather\" of visualization libraries.\n",
        "\n",
        " - Nature:\n",
        "\n",
        " - Static plots by default (good for publications, reports, papers).\n",
        "\n",
        " - Can make basic interactive plots (with %matplotlib notebook or tools like mpld3), but not as feature-rich as Plotly.\n",
        "\n",
        "- Strengths:\n",
        "\n",
        " - Highly customizable.\n",
        "\n",
        "- Works well with NumPy and Pandas.\n",
        "\n",
        "- Foundation for other libraries (Seaborn, Pandas plotting).\n",
        "\n",
        "-- Plotly\n",
        "\n",
        " - Definition: A high-level plotting library for interactive visualizations.\n",
        "\n",
        "- Nature:\n",
        "\n",
        "- Interactive plots by default (zoom, pan, hover tooltips).\n",
        "\n",
        "- Can be embedded into web applications (Dash framework).\n",
        "\n",
        "- Strengths:\n",
        "\n",
        "- Beautiful, ready-to-use interactive charts.\n",
        "\n",
        "- Built-in support for 3D plots, maps, and dashboards.\n",
        "\n",
        "- Great for data exploration and dashboards.\n",
        "\n",
        "10 What is the significance of hierarchical indexing in Pandas?\n",
        "\n",
        "--  Organizes Complex Data\n",
        "\n",
        "- Lets you store data with multiple keys (e.g., country & year, department & employee).\n",
        "\n",
        "- Makes the DataFrame look like a nested structure, but still behaves like a 2D table.\n",
        "\n",
        "-- Enables Multi-level Grouping & Aggregation\n",
        "\n",
        "- Works well with groupby() results, which often produce multiple levels of indexes.\n",
        "\n",
        "- You can drill down into subsets using .loc[].\n",
        "\n",
        "-- Compact Representation\n",
        "\n",
        "- Instead of expanding data into multiple dimensions, you can stack it using MultiIndex.  \n",
        "\n",
        "11 What is the role of Seaborn’s pairplot() function?\n",
        "- The pairplot() function in Seaborn creates a grid of scatter plots (pairwise relationships) for all numeric variables in a dataset, along with histograms (or KDE plots) on the diagonal.\n",
        "\n",
        "12 What is the purpose of the describe() function in Pandas?\n",
        "\n",
        "-- Purpose of describe()\n",
        "\n",
        "- To summarize central tendency, dispersion, and distribution of numeric data.\n",
        "\n",
        "- To quickly check data quality (e.g., missing values, extreme values).\n",
        "\n",
        "- To compare statistics across columns.\n",
        "\n",
        "13 Why is handling missing data important in Pandas?\n",
        "\n",
        "--Real-world datasets are messy\n",
        "\n",
        "- In practice, datasets often have missing values (NaN, None, blanks) due to data entry errors, sensor failures, incomplete surveys, etc.\n",
        "\n",
        "-- Prevents errors in analysis\n",
        "\n",
        "- Many Pandas and NumPy functions cannot handle NaN values directly (e.g., mean, sum, ML algorithms).\n",
        "\n",
        "- If not handled, missing values may cause errors, misleading results, or model failures.\n",
        "\n",
        "-- Ensures accuracy\n",
        "\n",
        "- Missing values can bias statistical analysis if ignored.\n",
        "\n",
        "- Example: Calculating the average salary with missing entries may lead to underestimation.\n",
        "\n",
        "-- Improves model performance\n",
        "\n",
        "- Machine learning models typically don’t accept missing data.\n",
        "\n",
        "- Proper handling (imputation, removal) ensures better predictions.\n",
        "\n",
        "14 What are the benefits of using Plotly for data visualization?\n",
        "\n",
        "-- Interactive Visualizations (by default)\n",
        "\n",
        "- Unlike Matplotlib (static plots), Plotly charts are interactive:\n",
        "\n",
        "- Zoom, pan, hover tooltips, and legend toggling.\n",
        "\n",
        "- Makes data exploration more engaging and insightful.\n",
        "\n",
        "15 How does NumPy handle multidimensional arrays?\n",
        "\n",
        "-- In NumPy, arrays are represented by the ndarray object.\n",
        "\n",
        "-- It can have any number of dimensions:\n",
        "\n",
        "- 1D array → like a list [1, 2, 3]\n",
        "\n",
        "- 2D array → like a matrix [[1, 2], [3, 4]]\n",
        "\n",
        "- 3D array → like a cube of numbers\n",
        "\n",
        "- nD arrays → tensors with n axes\n",
        "\n",
        "16 What is the role of Bokeh in data visualization?\n",
        "\n",
        "-- Interactive Visualizations\n",
        "\n",
        "- Unlike Matplotlib (static) and Seaborn (statistical focus), Bokeh provides zooming, panning, hover tooltips, linked brushing, and selection tools by default.\n",
        "\n",
        "--Web-ready Plots\n",
        "\n",
        "- Bokeh renders visualizations as HTML + JavaScript, so plots can be embedded directly in:\n",
        "\n",
        "- Web applications\n",
        "\n",
        "- Dashboards\n",
        "\n",
        "- Jupyter notebooks\n",
        "\n",
        "-- Handles Large Datasets Efficiently\n",
        "\n",
        "- Bokeh can stream and handle large or real-time datasets, which is valuable for big data analytics.\n",
        "\n",
        "-- Integration with Other Tools\n",
        "\n",
        "- Works well with Pandas, NumPy, and Jupyter.\n",
        "\n",
        "- Can be combined with Flask/Django for custom web dashboards.\n",
        "\n",
        "-- Server and Dashboarding\n",
        "\n",
        "- Bokeh Server allows developers to build real-time interactive dashboards with Python callbacks (without JavaScript).\n",
        "\n",
        "17 Explain the difference between apply() and map() in Pandas?\n",
        "\n",
        " -- map() in Pandas\n",
        " -  Used only with Pandas Series (1D).\n",
        "\n",
        " -- apply() in Pandas\n",
        "\n",
        "- Works with both Series and DataFrames.\n",
        "\n",
        "- On a Series → behaves similar to map() (applies function element-wise).\n",
        "\n",
        "- On a DataFrame → applies a function along rows or columns.\n",
        "\n",
        "18  What are some advanced features of NumPy?\n",
        "- Multidimensional Arrays (ndarray)\n",
        "\n",
        "NumPy can handle n-dimensional arrays, not just 1D or 2D, allowing for complex data structures.\n",
        "\n",
        "- Vectorized Operations\n",
        "\n",
        "Enables element-wise operations on arrays without explicit Python loops for speed and efficiency.\n",
        "\n",
        "- Broadcasting\n",
        "\n",
        "Supports operations on arrays of different shapes by automatically expanding smaller arrays to match larger ones.\n",
        "\n",
        "- Universal Functions (ufuncs)\n",
        "\n",
        "Provides optimized element-wise mathematical functions (e.g., np.sin, np.exp, np.sqrt).\n",
        "\n",
        "- Advanced Indexing & Slicing\n",
        "\n",
        "Supports boolean indexing, fancy indexing, and multi-dimensional slicing.\n",
        "\n",
        "- Linear Algebra Support\n",
        "\n",
        "Includes matrix multiplication, determinant, eigenvalues, singular value decomposition via numpy.linalg.\n",
        "\n",
        "- Random Number Generation\n",
        "\n",
        "Powerful random module (numpy.random) for generating random numbers, distributions, and sampling.\n",
        "\n",
        "- FFT and Signal Processing\n",
        "\n",
        "Fast Fourier Transform (numpy.fft) for signal processing and frequency analysis.\n",
        "\n",
        "- Memory Efficiency\n",
        "\n",
        "Uses contiguous memory blocks to store homogeneous data, reducing overhead compared to Python lists.\n",
        "\n",
        "- Structured Arrays\n",
        "\n",
        "Supports heterogeneous data types and custom structures for complex datasets.\n",
        "\n",
        "- Masking and Conditional Operations\n",
        "\n",
        "Apply conditions directly on arrays using boolean masks (arr[arr > 0]).\n",
        "\n",
        "- Integration with C/C++ and Fortran\n",
        "\n",
        "NumPy arrays can be passed efficiently to C/C++ or Fortran routines for high-performance computing.\n",
        "\n",
        "- Sorting and Searching Algorithms\n",
        "\n",
        "Functions like np.argsort, np.searchsorted, and np.partition allow fast sorting and searching.\n",
        "\n",
        "- Memory-mapped Files (memmap)\n",
        "\n",
        "Handle very large arrays stored on disk without loading everything into RAM.\n",
        "\n",
        "- Polynomials and Mathematical Tools\n",
        "\n",
        "Provides polynomial operations, statistics, and combinatorial functions for advanced mathematics.\n",
        "\n",
        "19 How does Pandas simplify time series analysis?\n",
        "\n",
        "DateTime Data Type (datetime64)\n",
        "\n",
        "- Pandas provides a native datetime type for storing and manipulating dates and times efficiently.\n",
        "\n",
        "Date Range Generation (pd.date_range)\n",
        "\n",
        "- Easily generate sequences of dates with custom frequency (daily, monthly, yearly).\n",
        "\n",
        "Resampling (resample())\n",
        "\n",
        "- Aggregate or downsample time series data (e.g., convert daily data to monthly averages).\n",
        "\n",
        "Shifting and Lagging (shift())\n",
        "\n",
        "- Create lagged or shifted series for calculating differences or trends.\n",
        "\n",
        "Rolling and Window Functions (rolling())\n",
        "\n",
        "- Compute moving averages, rolling sums, or other window statistics efficiently.\n",
        "\n",
        "Time-based Indexing\n",
        "\n",
        "- Allows indexing, slicing, and filtering by dates using the datetime index.\n",
        "\n",
        "Handling Missing Dates\n",
        "\n",
        "- Can fill missing timestamps or forward/backward fill missing values using asfreq(), fillna().\n",
        "\n",
        "Time Zone Support (tz_localize / tz_convert)\n",
        "\n",
        "- Convert and work with time zones easily.\n",
        "\n",
        "Frequency Conversion (asfreq())\n",
        "\n",
        "- Convert data from one frequency to another (e.g., daily → weekly).\n",
        "\n",
        "Period and Timestamp Objects\n",
        "\n",
        "- Use Period for intervals (monthly, quarterly) and Timestamp for precise points in time.\n",
        "\n",
        "Date Offsets (pd.offsets)\n",
        "\n",
        "- Perform date arithmetic (add months, business days, quarters, etc.).\n",
        "\n",
        "Integration with Plotting\n",
        "\n",
        "- Pandas integrates with Matplotlib/Seaborn to easily plot time series trends.\n",
        "\n",
        "Fast Grouping by Time (groupby)\n",
        "\n",
        "- Aggregate data by year, month, week, or day efficiently using time-based grouping.\n",
        "\n",
        "String Parsing of Dates (pd.to_datetime)\n",
        "\n",
        "- Convert string representations of dates into datetime objects for analysis.\n",
        "\n",
        "Support for Irregular Time Series\n",
        "\n",
        "- Can handle non-uniform time intervals, missing timestamps, or irregular observations.\n",
        "\n",
        "20 What is the role of a pivot table in Pandas?\n",
        "\n",
        "Data Aggregation\n",
        "\n",
        "- Summarizes data by applying aggregate functions like sum, mean, count, etc.\n",
        "\n",
        "Multi-dimensional Analysis\n",
        "\n",
        "- Allows grouping by rows and columns simultaneously for better insights.\n",
        "\n",
        "Simplifies Large Datasets\n",
        "\n",
        "- Converts detailed, row-wise data into a concise, readable table.\n",
        "\n",
        "Flexible Aggregation\n",
        "\n",
        "- Can apply different aggregation functions for different columns.\n",
        "\n",
        "Easy Data Exploration\n",
        "\n",
        "- Quickly identify patterns, trends, or anomalies across categories.\n",
        "\n",
        "21 Why is NumPy’s array slicing faster than Python’s list slicing?\n",
        "\n",
        "Contiguous Memory Storage\n",
        "\n",
        "- NumPy arrays store data in a continuous block of memory, while Python lists store references to objects scattered in memory.\n",
        "\n",
        "- This allows fast access to consecutive elements in memory.\n",
        "\n",
        "Homogeneous Data Type\n",
        "\n",
        "- All elements in a NumPy array have the same data type, so operations (including slicing) can be done without type checks.\n",
        "\n",
        "- Python lists can hold heterogeneous types, so each element access requires type inspection.\n",
        "\n",
        "Vectorized Operations\n",
        "\n",
        "- NumPy slices are views of the original array rather than copies (by default).\n",
        "\n",
        "- Python list slicing creates a new list copy, which takes extra time for large lists.\n",
        "\n",
        "Low-level Implementation\n",
        "\n",
        "- NumPy is implemented in C, so slicing operations are compiled and optimized.\n",
        "\n",
        "- Python lists are implemented in Python, so slicing involves interpreted code overhead.\n",
        "\n",
        "No Pointer Dereferencing Overhead\n",
        "\n",
        "- Accessing NumPy array elements during slicing is direct memory access.\n",
        "\n",
        "- Python lists require pointer dereferencing for each element, which is slower.\n",
        "\n",
        "Efficient Bulk Operations\n",
        "\n",
        "- NumPy can operate on large slices at once using internal C loops.\n",
        "\n",
        "- Python lists require explicit Python-level iteration for bulk operations.\n",
        "\n",
        "22 What are some common use cases for Seaborn?\n",
        "\n",
        "Exploratory Data Analysis (EDA)\n",
        "\n",
        "- Quickly visualize distributions, correlations, and relationships in a dataset.\n",
        "\n",
        "Visualizing Distributions\n",
        "\n",
        "- Use histplot(), kdeplot(), or distplot() to see how values are spread.\n",
        "\n",
        "Analyzing Relationships Between Variables\n",
        "\n",
        "- Use scatterplot(), relplot(), or pairplot() to study pairwise relationships.\n",
        "\n",
        "Correlation Heatmaps\n",
        "\n",
        "- Use heatmap() to visualize correlations or any matrix-like data.\n",
        "\n",
        "Categorical Data Visualization\n",
        "\n",
        "- Use boxplot(), violinplot(), barplot(), or countplot() to compare categories.\n",
        "\n",
        "Time Series Data\n",
        "\n",
        "- Plot trends over time using lineplot() with time on the x-axis.\n",
        "\n",
        "Multi-variable Analysis\n",
        "\n",
        "- Combine features with hue, style, or col in plots to explore multidimensional data.\n",
        "\n",
        "Outlier Detection\n",
        "\n",
        "- Boxplots and violinplots make it easy to spot outliers in datasets.\n",
        "\n",
        "Statistical Modeling Visualization\n",
        "\n",
        "- Use lmplot() for linear regression visualization with confidence intervals.\n",
        "\n",
        "Data Presentation\n",
        "\n",
        "- Seaborn provides publication-quality visuals with aesthetic themes and color palettes."
      ],
      "metadata": {
        "id": "TAvqlvyIMUBc"
      }
    },
    {
      "cell_type": "markdown",
      "source": [
        "# **Practical**"
      ],
      "metadata": {
        "id": "GqNNJ4MyXPuk"
      }
    },
    {
      "cell_type": "markdown",
      "source": [
        " How do you create a 2D NumPy array and calculate the sum of each row"
      ],
      "metadata": {
        "id": "u1ytKI0NXWtU"
      }
    },
    {
      "cell_type": "code",
      "execution_count": 1,
      "metadata": {
        "colab": {
          "base_uri": "https://localhost:8080/"
        },
        "id": "6aldpx8iMJOU",
        "outputId": "036658f4-545a-4b6c-c005-a0113c84d95a"
      },
      "outputs": [
        {
          "output_type": "stream",
          "name": "stdout",
          "text": [
            "2D Array:\n",
            " [[1 2 3]\n",
            " [4 5 6]\n",
            " [7 8 9]]\n"
          ]
        }
      ],
      "source": [
        "import numpy as np\n",
        "arr = np.array([[1, 2, 3],\n",
        "                [4, 5, 6],\n",
        "                [7, 8, 9]])\n",
        "\n",
        "print(\"2D Array:\\n\", arr)\n"
      ]
    },
    {
      "cell_type": "markdown",
      "source": [
        "Write a Pandas script to find the mean of a specific column in a DataFrame"
      ],
      "metadata": {
        "id": "OJV-GA-hXwgu"
      }
    },
    {
      "cell_type": "code",
      "source": [
        "import pandas as pd\n",
        "\n",
        "# Sample DataFrame\n",
        "data = {\n",
        "    \"Name\": [\"Alice\", \"Bob\", \"Charlie\", \"David\"],\n",
        "    \"Age\": [25, 30, 35, 40],\n",
        "    \"Salary\": [50000, 60000, 70000, 80000]\n",
        "}\n",
        "\n",
        "df = pd.DataFrame(data)\n",
        "\n",
        "# Calculate the mean of the 'Salary' column\n",
        "mean_salary = df['Salary'].mean()\n",
        "\n",
        "print(\"Mean Salary:\", mean_salary)\n",
        "\n"
      ],
      "metadata": {
        "colab": {
          "base_uri": "https://localhost:8080/"
        },
        "id": "wMIYIEjWXplo",
        "outputId": "95c6fe52-de12-43ff-8745-e2790616e7ee"
      },
      "execution_count": 2,
      "outputs": [
        {
          "output_type": "stream",
          "name": "stdout",
          "text": [
            "Mean Salary: 65000.0\n"
          ]
        }
      ]
    },
    {
      "cell_type": "markdown",
      "source": [
        " Create a scatter plot using Matplotlib"
      ],
      "metadata": {
        "id": "o4lwkvDeX7Pg"
      }
    },
    {
      "cell_type": "code",
      "source": [
        "import matplotlib.pyplot as plt\n",
        "\n",
        "# Sample data\n",
        "x = [5, 7, 8, 7, 2, 17, 2, 9, 4, 11]\n",
        "y = [99, 86, 87, 88, 100, 86, 103, 87, 94, 78]\n",
        "\n",
        "# Create scatter plot\n",
        "plt.scatter(x, y, color='blue', marker='o')  # You can change color/marker\n",
        "\n",
        "# Add title and labels\n",
        "plt.title(\"Sample Scatter Plot\")\n",
        "plt.xlabel(\"X-axis Values\")\n",
        "plt.ylabel(\"Y-axis Values\")\n",
        "\n",
        "# Show plot\n",
        "plt.show()\n"
      ],
      "metadata": {
        "colab": {
          "base_uri": "https://localhost:8080/",
          "height": 472
        },
        "id": "ycF4YIgCX4R_",
        "outputId": "93047aa9-878f-4166-d062-170c0fe2fe4d"
      },
      "execution_count": 3,
      "outputs": [
        {
          "output_type": "display_data",
          "data": {
            "text/plain": [
              "<Figure size 640x480 with 1 Axes>"
            ],
            "image/png": "[encoded data removed]"
          },
          "metadata": {}
        }
      ]
    },
    {
      "cell_type": "markdown",
      "source": [
        " How do you calculate the correlation matrix using Seaborn and visualize it with a heatmap?\n"
      ],
      "metadata": {
        "id": "j0VvPBvqYAqd"
      }
    },
    {
      "cell_type": "code",
      "source": [
        "import pandas as pd\n",
        "import seaborn as sns\n",
        "import matplotlib.pyplot as plt\n",
        "\n",
        "# Sample data\n",
        "data = {\n",
        "    \"Age\": [25, 30, 35, 40, 28],\n",
        "    \"Salary\": [50000, 60000, 70000, 80000, 55000],\n",
        "    \"Experience\": [2, 5, 7, 10, 3]\n",
        "}\n",
        "\n",
        "df = pd.DataFrame(data)\n",
        "\n",
        "corr_matrix = df.corr()  # Pearson correlation by default\n",
        "print(corr_matrix)\n"
      ],
      "metadata": {
        "colab": {
          "base_uri": "https://localhost:8080/"
        },
        "id": "WMOMAs4eYAFM",
        "outputId": "5ca6b313-c39e-4c71-c17b-ca55b8e94a2e"
      },
      "execution_count": 4,
      "outputs": [
        {
          "output_type": "stream",
          "name": "stdout",
          "text": [
            "                 Age    Salary  Experience\n",
            "Age         1.000000  0.999389    0.993810\n",
            "Salary      0.999389  1.000000    0.996227\n",
            "Experience  0.993810  0.996227    1.000000\n"
          ]
        }
      ]
    },
    {
      "cell_type": "markdown",
      "source": [
        " Generate a bar plot using Plotly"
      ],
      "metadata": {
        "id": "5EqP5P8xYVE7"
      }
    },
    {
      "cell_type": "code",
      "source": [
        "import plotly.express as px\n",
        "import pandas as pd\n",
        "\n",
        "# Sample data\n",
        "data = {\n",
        "    \"Fruits\": [\"Apple\", \"Banana\", \"Orange\", \"Mango\"],\n",
        "    \"Quantity\": [10, 15, 7, 12]\n",
        "}\n",
        "\n",
        "df = pd.DataFrame(data)\n",
        "fig = px.bar(df, x=\"Fruits\", y=\"Quantity\",\n",
        "             title=\"Fruit Quantity Bar Plot\",\n",
        "             color=\"Fruits\",  # Optional: color by category\n",
        "             text=\"Quantity\")  # Display values on bars\n",
        "\n",
        "fig.show()\n"
      ],
      "metadata": {
        "colab": {
          "base_uri": "https://localhost:8080/",
          "height": 542
        },
        "id": "2x9DED72YRyp",
        "outputId": "7fc8dbf3-e79e-4052-8a33-15c791eaa6f0"
      },
      "execution_count": 5,
      "outputs": [
        {
          "output_type": "display_data",
          "data": {
            "text/html": [
              "<html>\n",
              "<head><meta charset=\"utf-8\" /></head>\n",
              "<body>\n",
              "    <div>            <script src=\"https://cdnjs.cloudflare.com/ajax/libs/mathjax/2.7.5/MathJax.js?config=TeX-AMS-MML_SVG\"></script><script type=\"text/javascript\">if (window.MathJax && window.MathJax.Hub && window.MathJax.Hub.Config) {window.MathJax.Hub.Config({SVG: {font: \"STIX-Web\"}});}</script>                <script type=\"text/javascript\">window.PlotlyConfig = {MathJaxConfig: 'local'};</script>\n",
              "        <script charset=\"utf-8\" src=\"https://cdn.plot.ly/plotly-2.35.2.min.js\"></script>                <div id=\"a1355cd1-3baa-4d0c-a0d1-0f2dc63c8880\" class=\"plotly-graph-div\" style=\"height:525px; width:100%;\"></div>            <script type=\"text/javascript\">                                    window.PLOTLYENV=window.PLOTLYENV || {};                                    if (document.getElementById(\"a1355cd1-3baa-4d0c-a0d1-0f2dc63c8880\")) {                    Plotly.newPlot(                        \"a1355cd1-3baa-4d0c-a0d1-0f2dc63c8880\",                        [{\"alignmentgroup\":\"True\",\"hovertemplate\":\"Fruits=%{x}\\u003cbr\\u003eQuantity=%{text}\\u003cextra\\u003e\\u003c\\u002fextra\\u003e\",\"legendgroup\":\"Apple\",\"marker\":{\"color\":\"#636efa\",\"pattern\":{\"shape\":\"\"}},\"name\":\"Apple\",\"offsetgroup\":\"Apple\",\"orientation\":\"v\",\"showlegend\":true,\"text\":[10.0],\"textposition\":\"auto\",\"x\":[\"Apple\"],\"xaxis\":\"x\",\"y\":[10],\"yaxis\":\"y\",\"type\":\"bar\"},{\"alignmentgroup\":\"True\",\"hovertemplate\":\"Fruits=%{x}\\u003cbr\\u003eQuantity=%{text}\\u003cextra\\u003e\\u003c\\u002fextra\\u003e\",\"legendgroup\":\"Banana\",\"marker\":{\"color\":\"#EF553B\",\"pattern\":{\"shape\":\"\"}},\"name\":\"Banana\",\"offsetgroup\":\"Banana\",\"orientation\":\"v\",\"showlegend\":true,\"text\":[15.0],\"textposition\":\"auto\",\"x\":[\"Banana\"],\"xaxis\":\"x\",\"y\":[15],\"yaxis\":\"y\",\"type\":\"bar\"},{\"alignmentgroup\":\"True\",\"hovertemplate\":\"Fruits=%{x}\\u003cbr\\u003eQuantity=%{text}\\u003cextra\\u003e\\u003c\\u002fextra\\u003e\",\"legendgroup\":\"Orange\",\"marker\":{\"color\":\"#00cc96\",\"pattern\":{\"shape\":\"\"}},\"name\":\"Orange\",\"offsetgroup\":\"Orange\",\"orientation\":\"v\",\"showlegend\":true,\"text\":[7.0],\"textposition\":\"auto\",\"x\":[\"Orange\"],\"xaxis\":\"x\",\"y\":[7],\"yaxis\":\"y\",\"type\":\"bar\"},{\"alignmentgroup\":\"True\",\"hovertemplate\":\"Fruits=%{x}\\u003cbr\\u003eQuantity=%{text}\\u003cextra\\u003e\\u003c\\u002fextra\\u003e\",\"legendgroup\":\"Mango\",\"marker\":{\"color\":\"#ab63fa\",\"pattern\":{\"shape\":\"\"}},\"name\":\"Mango\",\"offsetgroup\":\"Mango\",\"orientation\":\"v\",\"showlegend\":true,\"text\":[12.0],\"textposition\":\"auto\",\"x\":[\"Mango\"],\"xaxis\":\"x\",\"y\":[12],\"yaxis\":\"y\",\"type\":\"bar\"}],                        {\"template\":{\"data\":{\"histogram2dcontour\":[{\"type\":\"histogram2dcontour\",\"colorbar\":{\"outlinewidth\":0,\"ticks\":\"\"},\"colorscale\":[[0.0,\"#0d0887\"],[0.1111111111111111,\"#46039f\"],[0.2222222222222222,\"#7201a8\"],[0.3333333333333333,\"#9c179e\"],[0.4444444444444444,\"#bd3786\"],[0.5555555555555556,\"#d8576b\"],[0.6666666666666666,\"#ed7953\"],[0.7777777777777778,\"#fb9f3a\"],[0.8888888888888888,\"#fdca26\"],[1.0,\"#f0f921\"]]}],\"choropleth\":[{\"type\":\"choropleth\",\"colorbar\":{\"outlinewidth\":0,\"ticks\":\"\"}}],\"histogram2d\":[{\"type\":\"histogram2d\",\"colorbar\":{\"outlinewidth\":0,\"ticks\":\"\"},\"colorscale\":[[0.0,\"#0d0887\"],[0.1111111111111111,\"#46039f\"],[0.2222222222222222,\"#7201a8\"],[0.3333333333333333,\"#9c179e\"],[0.4444444444444444,\"#bd3786\"],[0.5555555555555556,\"#d8576b\"],[0.6666666666666666,\"#ed7953\"],[0.7777777777777778,\"#fb9f3a\"],[0.8888888888888888,\"#fdca26\"],[1.0,\"#f0f921\"]]}],\"heatmap\":[{\"type\":\"heatmap\",\"colorbar\":{\"outlinewidth\":0,\"ticks\":\"\"},\"colorscale\":[[0.0,\"#0d0887\"],[0.1111111111111111,\"#46039f\"],[0.2222222222222222,\"#7201a8\"],[0.3333333333333333,\"#9c179e\"],[0.4444444444444444,\"#bd3786\"],[0.5555555555555556,\"#d8576b\"],[0.6666666666666666,\"#ed7953\"],[0.7777777777777778,\"#fb9f3a\"],[0.8888888888888888,\"#fdca26\"],[1.0,\"#f0f921\"]]}],\"heatmapgl\":[{\"type\":\"heatmapgl\",\"colorbar\":{\"outlinewidth\":0,\"ticks\":\"\"},\"colorscale\":[[0.0,\"#0d0887\"],[0.1111111111111111,\"#46039f\"],[0.2222222222222222,\"#7201a8\"],[0.3333333333333333,\"#9c179e\"],[0.4444444444444444,\"#bd3786\"],[0.5555555555555556,\"#d8576b\"],[0.6666666666666666,\"#ed7953\"],[0.7777777777777778,\"#fb9f3a\"],[0.8888888888888888,\"#fdca26\"],[1.0,\"#f0f921\"]]}],\"contourcarpet\":[{\"type\":\"contourcarpet\",\"colorbar\":{\"outlinewidth\":0,\"ticks\":\"\"}}],\"contour\":[{\"type\":\"contour\",\"colorbar\":{\"outlinewidth\":0,\"ticks\":\"\"},\"colorscale\":[[0.0,\"#0d0887\"],[0.1111111111111111,\"#46039f\"],[0.2222222222222222,\"#7201a8\"],[0.3333333333333333,\"#9c179e\"],[0.4444444444444444,\"#bd3786\"],[0.5555555555555556,\"#d8576b\"],[0.6666666666666666,\"#ed7953\"],[0.7777777777777778,\"#fb9f3a\"],[0.8888888888888888,\"#fdca26\"],[1.0,\"#f0f921\"]]}],\"surface\":[{\"type\":\"surface\",\"colorbar\":{\"outlinewidth\":0,\"ticks\":\"\"},\"colorscale\":[[0.0,\"#0d0887\"],[0.1111111111111111,\"#46039f\"],[0.2222222222222222,\"#7201a8\"],[0.3333333333333333,\"#9c179e\"],[0.4444444444444444,\"#bd3786\"],[0.5555555555555556,\"#d8576b\"],[0.6666666666666666,\"#ed7953\"],[0.7777777777777778,\"#fb9f3a\"],[0.8888888888888888,\"#fdca26\"],[1.0,\"#f0f921\"]]}],\"mesh3d\":[{\"type\":\"mesh3d\",\"colorbar\":{\"outlinewidth\":0,\"ticks\":\"\"}}],\"scatter\":[{\"fillpattern\":{\"fillmode\":\"overlay\",\"size\":10,\"solidity\":0.2},\"type\":\"scatter\"}],\"parcoords\":[{\"type\":\"parcoords\",\"line\":{\"colorbar\":{\"outlinewidth\":0,\"ticks\":\"\"}}}],\"scatterpolargl\":[{\"type\":\"scatterpolargl\",\"marker\":{\"colorbar\":{\"outlinewidth\":0,\"ticks\":\"\"}}}],\"bar\":[{\"error_x\":{\"color\":\"#2a3f5f\"},\"error_y\":{\"color\":\"#2a3f5f\"},\"marker\":{\"line\":{\"color\":\"#E5ECF6\",\"width\":0.5},\"pattern\":{\"fillmode\":\"overlay\",\"size\":10,\"solidity\":0.2}},\"type\":\"bar\"}],\"scattergeo\":[{\"type\":\"scattergeo\",\"marker\":{\"colorbar\":{\"outlinewidth\":0,\"ticks\":\"\"}}}],\"scatterpolar\":[{\"type\":\"scatterpolar\",\"marker\":{\"colorbar\":{\"outlinewidth\":0,\"ticks\":\"\"}}}],\"histogram\":[{\"marker\":{\"pattern\":{\"fillmode\":\"overlay\",\"size\":10,\"solidity\":0.2}},\"type\":\"histogram\"}],\"scattergl\":[{\"type\":\"scattergl\",\"marker\":{\"colorbar\":{\"outlinewidth\":0,\"ticks\":\"\"}}}],\"scatter3d\":[{\"type\":\"scatter3d\",\"line\":{\"colorbar\":{\"outlinewidth\":0,\"ticks\":\"\"}},\"marker\":{\"colorbar\":{\"outlinewidth\":0,\"ticks\":\"\"}}}],\"scattermapbox\":[{\"type\":\"scattermapbox\",\"marker\":{\"colorbar\":{\"outlinewidth\":0,\"ticks\":\"\"}}}],\"scatterternary\":[{\"type\":\"scatterternary\",\"marker\":{\"colorbar\":{\"outlinewidth\":0,\"ticks\":\"\"}}}],\"scattercarpet\":[{\"type\":\"scattercarpet\",\"marker\":{\"colorbar\":{\"outlinewidth\":0,\"ticks\":\"\"}}}],\"carpet\":[{\"aaxis\":{\"endlinecolor\":\"#2a3f5f\",\"gridcolor\":\"white\",\"linecolor\":\"white\",\"minorgridcolor\":\"white\",\"startlinecolor\":\"#2a3f5f\"},\"baxis\":{\"endlinecolor\":\"#2a3f5f\",\"gridcolor\":\"white\",\"linecolor\":\"white\",\"minorgridcolor\":\"white\",\"startlinecolor\":\"#2a3f5f\"},\"type\":\"carpet\"}],\"table\":[{\"cells\":{\"fill\":{\"color\":\"#EBF0F8\"},\"line\":{\"color\":\"white\"}},\"header\":{\"fill\":{\"color\":\"#C8D4E3\"},\"line\":{\"color\":\"white\"}},\"type\":\"table\"}],\"barpolar\":[{\"marker\":{\"line\":{\"color\":\"#E5ECF6\",\"width\":0.5},\"pattern\":{\"fillmode\":\"overlay\",\"size\":10,\"solidity\":0.2}},\"type\":\"barpolar\"}],\"pie\":[{\"automargin\":true,\"type\":\"pie\"}]},\"layout\":{\"autotypenumbers\":\"strict\",\"colorway\":[\"#636efa\",\"#EF553B\",\"#00cc96\",\"#ab63fa\",\"#FFA15A\",\"#19d3f3\",\"#FF6692\",\"#B6E880\",\"#FF97FF\",\"#FECB52\"],\"font\":{\"color\":\"#2a3f5f\"},\"hovermode\":\"closest\",\"hoverlabel\":{\"align\":\"left\"},\"paper_bgcolor\":\"white\",\"plot_bgcolor\":\"#E5ECF6\",\"polar\":{\"bgcolor\":\"#E5ECF6\",\"angularaxis\":{\"gridcolor\":\"white\",\"linecolor\":\"white\",\"ticks\":\"\"},\"radialaxis\":{\"gridcolor\":\"white\",\"linecolor\":\"white\",\"ticks\":\"\"}},\"ternary\":{\"bgcolor\":\"#E5ECF6\",\"aaxis\":{\"gridcolor\":\"white\",\"linecolor\":\"white\",\"ticks\":\"\"},\"baxis\":{\"gridcolor\":\"white\",\"linecolor\":\"white\",\"ticks\":\"\"},\"caxis\":{\"gridcolor\":\"white\",\"linecolor\":\"white\",\"ticks\":\"\"}},\"coloraxis\":{\"colorbar\":{\"outlinewidth\":0,\"ticks\":\"\"}},\"colorscale\":{\"sequential\":[[0.0,\"#0d0887\"],[0.1111111111111111,\"#46039f\"],[0.2222222222222222,\"#7201a8\"],[0.3333333333333333,\"#9c179e\"],[0.4444444444444444,\"#bd3786\"],[0.5555555555555556,\"#d8576b\"],[0.6666666666666666,\"#ed7953\"],[0.7777777777777778,\"#fb9f3a\"],[0.8888888888888888,\"#fdca26\"],[1.0,\"#f0f921\"]],\"sequentialminus\":[[0.0,\"#0d0887\"],[0.1111111111111111,\"#46039f\"],[0.2222222222222222,\"#7201a8\"],[0.3333333333333333,\"#9c179e\"],[0.4444444444444444,\"#bd3786\"],[0.5555555555555556,\"#d8576b\"],[0.6666666666666666,\"#ed7953\"],[0.7777777777777778,\"#fb9f3a\"],[0.8888888888888888,\"#fdca26\"],[1.0,\"#f0f921\"]],\"diverging\":[[0,\"#8e0152\"],[0.1,\"#c51b7d\"],[0.2,\"#de77ae\"],[0.3,\"#f1b6da\"],[0.4,\"#fde0ef\"],[0.5,\"#f7f7f7\"],[0.6,\"#e6f5d0\"],[0.7,\"#b8e186\"],[0.8,\"#7fbc41\"],[0.9,\"#4d9221\"],[1,\"#276419\"]]},\"xaxis\":{\"gridcolor\":\"white\",\"linecolor\":\"white\",\"ticks\":\"\",\"title\":{\"standoff\":15},\"zerolinecolor\":\"white\",\"automargin\":true,\"zerolinewidth\":2},\"yaxis\":{\"gridcolor\":\"white\",\"linecolor\":\"white\",\"ticks\":\"\",\"title\":{\"standoff\":15},\"zerolinecolor\":\"white\",\"automargin\":true,\"zerolinewidth\":2},\"scene\":{\"xaxis\":{\"backgroundcolor\":\"#E5ECF6\",\"gridcolor\":\"white\",\"linecolor\":\"white\",\"showbackground\":true,\"ticks\":\"\",\"zerolinecolor\":\"white\",\"gridwidth\":2},\"yaxis\":{\"backgroundcolor\":\"#E5ECF6\",\"gridcolor\":\"white\",\"linecolor\":\"white\",\"showbackground\":true,\"ticks\":\"\",\"zerolinecolor\":\"white\",\"gridwidth\":2},\"zaxis\":{\"backgroundcolor\":\"#E5ECF6\",\"gridcolor\":\"white\",\"linecolor\":\"white\",\"showbackground\":true,\"ticks\":\"\",\"zerolinecolor\":\"white\",\"gridwidth\":2}},\"shapedefaults\":{\"line\":{\"color\":\"#2a3f5f\"}},\"annotationdefaults\":{\"arrowcolor\":\"#2a3f5f\",\"arrowhead\":0,\"arrowwidth\":1},\"geo\":{\"bgcolor\":\"white\",\"landcolor\":\"#E5ECF6\",\"subunitcolor\":\"white\",\"showland\":true,\"showlakes\":true,\"lakecolor\":\"white\"},\"title\":{\"x\":0.05},\"mapbox\":{\"style\":\"light\"}}},\"xaxis\":{\"anchor\":\"y\",\"domain\":[0.0,1.0],\"title\":{\"text\":\"Fruits\"},\"categoryorder\":\"array\",\"categoryarray\":[\"Apple\",\"Banana\",\"Orange\",\"Mango\"]},\"yaxis\":{\"anchor\":\"x\",\"domain\":[0.0,1.0],\"title\":{\"text\":\"Quantity\"}},\"legend\":{\"title\":{\"text\":\"Fruits\"},\"tracegroupgap\":0},\"title\":{\"text\":\"Fruit Quantity Bar Plot\"},\"barmode\":\"relative\"},                        {\"responsive\": true}                    ).then(function(){\n",
              "                            \n",
              "var gd = document.getElementById('a1355cd1-3baa-4d0c-a0d1-0f2dc63c8880');\n",
              "var x = new MutationObserver(function (mutations, observer) {{\n",
              "        var display = window.getComputedStyle(gd).display;\n",
              "        if (!display || display === 'none') {{\n",
              "            console.log([gd, 'removed!']);\n",
              "            Plotly.purge(gd);\n",
              "            observer.disconnect();\n",
              "        }}\n",
              "}});\n",
              "\n",
              "// Listen for the removal of the full notebook cells\n",
              "var notebookContainer = gd.closest('#notebook-container');\n",
              "if (notebookContainer) {{\n",
              "    x.observe(notebookContainer, {childList: true});\n",
              "}}\n",
              "\n",
              "// Listen for the clearing of the current output cell\n",
              "var outputEl = gd.closest('.output');\n",
              "if (outputEl) {{\n",
              "    x.observe(outputEl, {childList: true});\n",
              "}}\n",
              "\n",
              "                        })                };                            </script>        </div>\n",
              "</body>\n",
              "</html>"
            ]
          },
          "metadata": {}
        }
      ]
    },
    {
      "cell_type": "markdown",
      "source": [
        "Create a DataFrame and add a new column based on an existing column?"
      ],
      "metadata": {
        "id": "sW6QcpkgYid4"
      }
    },
    {
      "cell_type": "code",
      "source": [
        "import pandas as pd\n",
        "# Sample data\n",
        "data = {\n",
        "    \"Name\": [\"Alice\", \"Bob\", \"Charlie\", \"David\"],\n",
        "    \"Salary\": [50000, 60000, 70000, 80000]\n",
        "}\n",
        "\n",
        "df = pd.DataFrame(data)\n",
        "print(\"Original DataFrame:\\n\", df)\n"
      ],
      "metadata": {
        "colab": {
          "base_uri": "https://localhost:8080/"
        },
        "id": "_pmgKV-2YfDp",
        "outputId": "f6a76eb0-7bf6-469a-ab06-7c8ae440b78e"
      },
      "execution_count": 6,
      "outputs": [
        {
          "output_type": "stream",
          "name": "stdout",
          "text": [
            "Original DataFrame:\n",
            "       Name  Salary\n",
            "0    Alice   50000\n",
            "1      Bob   60000\n",
            "2  Charlie   70000\n",
            "3    David   80000\n"
          ]
        }
      ]
    },
    {
      "cell_type": "markdown",
      "source": [
        "Write a program to perform element-wise multiplication of two NumPy arrays"
      ],
      "metadata": {
        "id": "OFb3kGdLZI_n"
      }
    },
    {
      "cell_type": "code",
      "source": [
        "import numpy as np\n",
        "# Define two arrays\n",
        "arr1 = np.array([1, 2, 3, 4])\n",
        "arr2 = np.array([5, 6, 7, 8])\n",
        "\n",
        "print(\"Array 1:\", arr1)\n",
        "print(\"Array 2:\", arr2)\n",
        "# Element-wise multiplication\n",
        "result = arr1 * arr2\n",
        "print(\"Element-wise multiplication:\", result)\n"
      ],
      "metadata": {
        "colab": {
          "base_uri": "https://localhost:8080/"
        },
        "id": "gK4VNqciZFmq",
        "outputId": "7a04d56c-514e-4092-a50d-634402fa8e54"
      },
      "execution_count": 7,
      "outputs": [
        {
          "output_type": "stream",
          "name": "stdout",
          "text": [
            "Array 1: [1 2 3 4]\n",
            "Array 2: [5 6 7 8]\n",
            "Element-wise multiplication: [ 5 12 21 32]\n"
          ]
        }
      ]
    },
    {
      "cell_type": "markdown",
      "source": [
        "Create a line plot with multiple lines using Matplotlib?"
      ],
      "metadata": {
        "id": "ABfU91QGZUrB"
      }
    },
    {
      "cell_type": "code",
      "source": [
        "import matplotlib.pyplot as plt\n",
        "# Sample data\n",
        "x = [1, 2, 3, 4, 5]\n",
        "y1 = [2, 4, 6, 8, 10]\n",
        "y2 = [1, 3, 5, 7, 9]\n",
        "y3 = [5, 3, 4, 2, 6]\n",
        "plt.plot(x, y1, label=\"Line 1\", color=\"blue\", marker=\"o\")\n",
        "plt.plot(x, y2, label=\"Line 2\", color=\"red\", marker=\"s\")\n",
        "plt.plot(x, y3, label=\"Line 3\", color=\"green\", marker=\"^\")\n",
        "\n",
        "# Add title and labels\n",
        "plt.title(\"Multiple Line Plot Example\")\n",
        "plt.xlabel(\"X-axis\")\n",
        "plt.ylabel(\"Y-axis\")\n",
        "\n",
        "# Add legend\n",
        "plt.legend()\n",
        "\n",
        "# Show plot\n",
        "plt.show()\n"
      ],
      "metadata": {
        "colab": {
          "base_uri": "https://localhost:8080/",
          "height": 472
        },
        "id": "pT1VgwBzZRee",
        "outputId": "dcb7627d-38ba-4fbb-81fa-c2316d0cfad6"
      },
      "execution_count": 9,
      "outputs": [
        {
          "output_type": "display_data",
          "data": {
            "text/plain": [
              "<Figure size 640x480 with 1 Axes>"
            ],
            "image/png": "[encoded data removed]"
          },
          "metadata": {}
        }
      ]
    },
    {
      "cell_type": "markdown",
      "source": [
        "Generate a Pandas DataFrame and filter rows where a column value is greater than a threshold?"
      ],
      "metadata": {
        "id": "E1PahiyXZusy"
      }
    },
    {
      "cell_type": "code",
      "source": [
        "import pandas as pd\n",
        "# Sample data\n",
        "data = {\n",
        "    \"Name\": [\"Alice\", \"Bob\", \"Charlie\", \"David\", \"Eva\"],\n",
        "    \"Age\": [25, 30, 35, 40, 28],\n",
        "    \"Salary\": [50000, 60000, 70000, 80000, 55000]\n",
        "}\n",
        "\n",
        "df = pd.DataFrame(data)\n",
        "print(\"Original DataFrame:\\n\", df)\n"
      ],
      "metadata": {
        "colab": {
          "base_uri": "https://localhost:8080/"
        },
        "id": "FBguRVSaZfAq",
        "outputId": "aa843a91-965e-458c-9fd4-589ace5da666"
      },
      "execution_count": 10,
      "outputs": [
        {
          "output_type": "stream",
          "name": "stdout",
          "text": [
            "Original DataFrame:\n",
            "       Name  Age  Salary\n",
            "0    Alice   25   50000\n",
            "1      Bob   30   60000\n",
            "2  Charlie   35   70000\n",
            "3    David   40   80000\n",
            "4      Eva   28   55000\n"
          ]
        }
      ]
    },
    {
      "cell_type": "markdown",
      "source": [
        "Create a histogram using Seaborn to visualize a distribution"
      ],
      "metadata": {
        "id": "PDfa5pvOaC0f"
      }
    },
    {
      "cell_type": "code",
      "source": [
        "import seaborn as sns\n",
        "import matplotlib.pyplot as plt\n",
        "# Sample data: ages of people\n",
        "ages = [22, 25, 27, 30, 22, 24, 28, 29, 31, 35, 40, 38, 26, 27, 30]\n",
        "sns.histplot(ages, bins=5, kde=True, color='skyblue')\n",
        "\n",
        "# Add title and labels\n",
        "plt.title(\"Age Distribution Histogram\")\n",
        "plt.xlabel(\"Age\")\n",
        "plt.ylabel(\"Frequency\")\n",
        "\n",
        "# Show plot\n",
        "plt.show()\n"
      ],
      "metadata": {
        "colab": {
          "base_uri": "https://localhost:8080/",
          "height": 472
        },
        "id": "QSQEV5JBZ_hA",
        "outputId": "8001a77a-d125-4550-d06f-40ea3a5bc4a7"
      },
      "execution_count": 11,
      "outputs": [
        {
          "output_type": "display_data",
          "data": {
            "text/plain": [
              "<Figure size 640x480 with 1 Axes>"
            ],
            "image/png": "[encoded data removed]"
          },
          "metadata": {}
        }
      ]
    },
    {
      "cell_type": "markdown",
      "source": [
        "Perform matrix multiplication using NumPy?"
      ],
      "metadata": {
        "id": "foRbx05YaVf9"
      }
    },
    {
      "cell_type": "code",
      "source": [
        "import numpy as np\n",
        "# 2x3 matrix\n",
        "A = np.array([[1, 2, 3],\n",
        "              [4, 5, 6]])\n",
        "\n",
        "# 3x2 matrix\n",
        "B = np.array([[7, 8],\n",
        "              [9, 10],\n",
        "              [11, 12]])\n",
        "result = np.dot(A, B)\n",
        "print(\"Matrix multiplication result:\\n\", result)\n",
        "result2 = A @ B\n",
        "print(\"Matrix multiplication using @:\\n\", result2)\n"
      ],
      "metadata": {
        "colab": {
          "base_uri": "https://localhost:8080/"
        },
        "id": "Kd9D0g0KaidJ",
        "outputId": "c01dd31e-487e-401f-95f2-0bc63a1ad204"
      },
      "execution_count": 12,
      "outputs": [
        {
          "output_type": "stream",
          "name": "stdout",
          "text": [
            "Matrix multiplication result:\n",
            " [[ 58  64]\n",
            " [139 154]]\n",
            "Matrix multiplication using @:\n",
            " [[ 58  64]\n",
            " [139 154]]\n"
          ]
        }
      ]
    },
    {
      "cell_type": "markdown",
      "source": [
        " Use Pandas to load a CSV file and display its first 5 rows?"
      ],
      "metadata": {
        "id": "GX5yfZGga-Zq"
      }
    },
    {
      "cell_type": "code",
      "source": [
        "import pandas as pd\n",
        "# Replace 'file.csv' with your CSV file path\n",
        "df = pd.read_csv('file.csv')\n",
        "print(df.head())"
      ],
      "metadata": {
        "id": "OtDj1JmKbJOh"
      },
      "execution_count": null,
      "outputs": []
    },
    {
      "cell_type": "markdown",
      "source": [
        "Create a 3D scatter plot using Plotly.\n"
      ],
      "metadata": {
        "id": "vp5n1u-fbcgJ"
      }
    },
    {
      "cell_type": "code",
      "source": [
        "import plotly.express as px\n",
        "import pandas as pd\n",
        "# Sample data\n",
        "data = {\n",
        "    \"X\": [1, 2, 3, 4, 5, 6],\n",
        "    \"Y\": [10, 11, 12, 13, 14, 15],\n",
        "    \"Z\": [5, 6, 7, 8, 9, 10],\n",
        "    \"Category\": [\"A\", \"B\", \"A\", \"B\", \"A\", \"B\"]\n",
        "}\n",
        "\n",
        "df = pd.DataFrame(data)\n",
        "fig = px.scatter_3d(df, x='X', y='Y', z='Z',\n",
        "                    color='Category',  # Color by category\n",
        "                    size='Z',         # Optional: size of markers\n",
        "                    symbol='Category',# Optional: different symbols\n",
        "                    title=\"3D Scatter Plot Example\")\n",
        "\n",
        "fig.show()\n"
      ],
      "metadata": {
        "colab": {
          "base_uri": "https://localhost:8080/",
          "height": 542
        },
        "id": "GjB6oknabgIK",
        "outputId": "a784f409-9dbc-4e70-e041-8a416d9a4372"
      },
      "execution_count": 14,
      "outputs": [
        {
          "output_type": "display_data",
          "data": {
            "text/html": [
              "<html>\n",
              "<head><meta charset=\"utf-8\" /></head>\n",
              "<body>\n",
              "    <div>            <script src=\"https://cdnjs.cloudflare.com/ajax/libs/mathjax/2.7.5/MathJax.js?config=TeX-AMS-MML_SVG\"></script><script type=\"text/javascript\">if (window.MathJax && window.MathJax.Hub && window.MathJax.Hub.Config) {window.MathJax.Hub.Config({SVG: {font: \"STIX-Web\"}});}</script>                <script type=\"text/javascript\">window.PlotlyConfig = {MathJaxConfig: 'local'};</script>\n",
              "        <script charset=\"utf-8\" src=\"https://cdn.plot.ly/plotly-2.35.2.min.js\"></script>                <div id=\"e1ac6ca3-51c7-4c03-ba93-d0d16c73f82e\" class=\"plotly-graph-div\" style=\"height:525px; width:100%;\"></div>            <script type=\"text/javascript\">                                    window.PLOTLYENV=window.PLOTLYENV || {};                                    if (document.getElementById(\"e1ac6ca3-51c7-4c03-ba93-d0d16c73f82e\")) {                    Plotly.newPlot(                        \"e1ac6ca3-51c7-4c03-ba93-d0d16c73f82e\",                        [{\"hovertemplate\":\"Category=A\\u003cbr\\u003eX=%{x}\\u003cbr\\u003eY=%{y}\\u003cbr\\u003eZ=%{marker.size}\\u003cextra\\u003e\\u003c\\u002fextra\\u003e\",\"legendgroup\":\"A\",\"marker\":{\"color\":\"#636efa\",\"size\":[5,7,9],\"sizemode\":\"area\",\"sizeref\":0.025,\"symbol\":\"circle\"},\"mode\":\"markers\",\"name\":\"A\",\"scene\":\"scene\",\"showlegend\":true,\"x\":[1,3,5],\"y\":[10,12,14],\"z\":[5,7,9],\"type\":\"scatter3d\"},{\"hovertemplate\":\"Category=B\\u003cbr\\u003eX=%{x}\\u003cbr\\u003eY=%{y}\\u003cbr\\u003eZ=%{marker.size}\\u003cextra\\u003e\\u003c\\u002fextra\\u003e\",\"legendgroup\":\"B\",\"marker\":{\"color\":\"#EF553B\",\"size\":[6,8,10],\"sizemode\":\"area\",\"sizeref\":0.025,\"symbol\":\"diamond\"},\"mode\":\"markers\",\"name\":\"B\",\"scene\":\"scene\",\"showlegend\":true,\"x\":[2,4,6],\"y\":[11,13,15],\"z\":[6,8,10],\"type\":\"scatter3d\"}],                        {\"template\":{\"data\":{\"histogram2dcontour\":[{\"type\":\"histogram2dcontour\",\"colorbar\":{\"outlinewidth\":0,\"ticks\":\"\"},\"colorscale\":[[0.0,\"#0d0887\"],[0.1111111111111111,\"#46039f\"],[0.2222222222222222,\"#7201a8\"],[0.3333333333333333,\"#9c179e\"],[0.4444444444444444,\"#bd3786\"],[0.5555555555555556,\"#d8576b\"],[0.6666666666666666,\"#ed7953\"],[0.7777777777777778,\"#fb9f3a\"],[0.8888888888888888,\"#fdca26\"],[1.0,\"#f0f921\"]]}],\"choropleth\":[{\"type\":\"choropleth\",\"colorbar\":{\"outlinewidth\":0,\"ticks\":\"\"}}],\"histogram2d\":[{\"type\":\"histogram2d\",\"colorbar\":{\"outlinewidth\":0,\"ticks\":\"\"},\"colorscale\":[[0.0,\"#0d0887\"],[0.1111111111111111,\"#46039f\"],[0.2222222222222222,\"#7201a8\"],[0.3333333333333333,\"#9c179e\"],[0.4444444444444444,\"#bd3786\"],[0.5555555555555556,\"#d8576b\"],[0.6666666666666666,\"#ed7953\"],[0.7777777777777778,\"#fb9f3a\"],[0.8888888888888888,\"#fdca26\"],[1.0,\"#f0f921\"]]}],\"heatmap\":[{\"type\":\"heatmap\",\"colorbar\":{\"outlinewidth\":0,\"ticks\":\"\"},\"colorscale\":[[0.0,\"#0d0887\"],[0.1111111111111111,\"#46039f\"],[0.2222222222222222,\"#7201a8\"],[0.3333333333333333,\"#9c179e\"],[0.4444444444444444,\"#bd3786\"],[0.5555555555555556,\"#d8576b\"],[0.6666666666666666,\"#ed7953\"],[0.7777777777777778,\"#fb9f3a\"],[0.8888888888888888,\"#fdca26\"],[1.0,\"#f0f921\"]]}],\"heatmapgl\":[{\"type\":\"heatmapgl\",\"colorbar\":{\"outlinewidth\":0,\"ticks\":\"\"},\"colorscale\":[[0.0,\"#0d0887\"],[0.1111111111111111,\"#46039f\"],[0.2222222222222222,\"#7201a8\"],[0.3333333333333333,\"#9c179e\"],[0.4444444444444444,\"#bd3786\"],[0.5555555555555556,\"#d8576b\"],[0.6666666666666666,\"#ed7953\"],[0.7777777777777778,\"#fb9f3a\"],[0.8888888888888888,\"#fdca26\"],[1.0,\"#f0f921\"]]}],\"contourcarpet\":[{\"type\":\"contourcarpet\",\"colorbar\":{\"outlinewidth\":0,\"ticks\":\"\"}}],\"contour\":[{\"type\":\"contour\",\"colorbar\":{\"outlinewidth\":0,\"ticks\":\"\"},\"colorscale\":[[0.0,\"#0d0887\"],[0.1111111111111111,\"#46039f\"],[0.2222222222222222,\"#7201a8\"],[0.3333333333333333,\"#9c179e\"],[0.4444444444444444,\"#bd3786\"],[0.5555555555555556,\"#d8576b\"],[0.6666666666666666,\"#ed7953\"],[0.7777777777777778,\"#fb9f3a\"],[0.8888888888888888,\"#fdca26\"],[1.0,\"#f0f921\"]]}],\"surface\":[{\"type\":\"surface\",\"colorbar\":{\"outlinewidth\":0,\"ticks\":\"\"},\"colorscale\":[[0.0,\"#0d0887\"],[0.1111111111111111,\"#46039f\"],[0.2222222222222222,\"#7201a8\"],[0.3333333333333333,\"#9c179e\"],[0.4444444444444444,\"#bd3786\"],[0.5555555555555556,\"#d8576b\"],[0.6666666666666666,\"#ed7953\"],[0.7777777777777778,\"#fb9f3a\"],[0.8888888888888888,\"#fdca26\"],[1.0,\"#f0f921\"]]}],\"mesh3d\":[{\"type\":\"mesh3d\",\"colorbar\":{\"outlinewidth\":0,\"ticks\":\"\"}}],\"scatter\":[{\"fillpattern\":{\"fillmode\":\"overlay\",\"size\":10,\"solidity\":0.2},\"type\":\"scatter\"}],\"parcoords\":[{\"type\":\"parcoords\",\"line\":{\"colorbar\":{\"outlinewidth\":0,\"ticks\":\"\"}}}],\"scatterpolargl\":[{\"type\":\"scatterpolargl\",\"marker\":{\"colorbar\":{\"outlinewidth\":0,\"ticks\":\"\"}}}],\"bar\":[{\"error_x\":{\"color\":\"#2a3f5f\"},\"error_y\":{\"color\":\"#2a3f5f\"},\"marker\":{\"line\":{\"color\":\"#E5ECF6\",\"width\":0.5},\"pattern\":{\"fillmode\":\"overlay\",\"size\":10,\"solidity\":0.2}},\"type\":\"bar\"}],\"scattergeo\":[{\"type\":\"scattergeo\",\"marker\":{\"colorbar\":{\"outlinewidth\":0,\"ticks\":\"\"}}}],\"scatterpolar\":[{\"type\":\"scatterpolar\",\"marker\":{\"colorbar\":{\"outlinewidth\":0,\"ticks\":\"\"}}}],\"histogram\":[{\"marker\":{\"pattern\":{\"fillmode\":\"overlay\",\"size\":10,\"solidity\":0.2}},\"type\":\"histogram\"}],\"scattergl\":[{\"type\":\"scattergl\",\"marker\":{\"colorbar\":{\"outlinewidth\":0,\"ticks\":\"\"}}}],\"scatter3d\":[{\"type\":\"scatter3d\",\"line\":{\"colorbar\":{\"outlinewidth\":0,\"ticks\":\"\"}},\"marker\":{\"colorbar\":{\"outlinewidth\":0,\"ticks\":\"\"}}}],\"scattermapbox\":[{\"type\":\"scattermapbox\",\"marker\":{\"colorbar\":{\"outlinewidth\":0,\"ticks\":\"\"}}}],\"scatterternary\":[{\"type\":\"scatterternary\",\"marker\":{\"colorbar\":{\"outlinewidth\":0,\"ticks\":\"\"}}}],\"scattercarpet\":[{\"type\":\"scattercarpet\",\"marker\":{\"colorbar\":{\"outlinewidth\":0,\"ticks\":\"\"}}}],\"carpet\":[{\"aaxis\":{\"endlinecolor\":\"#2a3f5f\",\"gridcolor\":\"white\",\"linecolor\":\"white\",\"minorgridcolor\":\"white\",\"startlinecolor\":\"#2a3f5f\"},\"baxis\":{\"endlinecolor\":\"#2a3f5f\",\"gridcolor\":\"white\",\"linecolor\":\"white\",\"minorgridcolor\":\"white\",\"startlinecolor\":\"#2a3f5f\"},\"type\":\"carpet\"}],\"table\":[{\"cells\":{\"fill\":{\"color\":\"#EBF0F8\"},\"line\":{\"color\":\"white\"}},\"header\":{\"fill\":{\"color\":\"#C8D4E3\"},\"line\":{\"color\":\"white\"}},\"type\":\"table\"}],\"barpolar\":[{\"marker\":{\"line\":{\"color\":\"#E5ECF6\",\"width\":0.5},\"pattern\":{\"fillmode\":\"overlay\",\"size\":10,\"solidity\":0.2}},\"type\":\"barpolar\"}],\"pie\":[{\"automargin\":true,\"type\":\"pie\"}]},\"layout\":{\"autotypenumbers\":\"strict\",\"colorway\":[\"#636efa\",\"#EF553B\",\"#00cc96\",\"#ab63fa\",\"#FFA15A\",\"#19d3f3\",\"#FF6692\",\"#B6E880\",\"#FF97FF\",\"#FECB52\"],\"font\":{\"color\":\"#2a3f5f\"},\"hovermode\":\"closest\",\"hoverlabel\":{\"align\":\"left\"},\"paper_bgcolor\":\"white\",\"plot_bgcolor\":\"#E5ECF6\",\"polar\":{\"bgcolor\":\"#E5ECF6\",\"angularaxis\":{\"gridcolor\":\"white\",\"linecolor\":\"white\",\"ticks\":\"\"},\"radialaxis\":{\"gridcolor\":\"white\",\"linecolor\":\"white\",\"ticks\":\"\"}},\"ternary\":{\"bgcolor\":\"#E5ECF6\",\"aaxis\":{\"gridcolor\":\"white\",\"linecolor\":\"white\",\"ticks\":\"\"},\"baxis\":{\"gridcolor\":\"white\",\"linecolor\":\"white\",\"ticks\":\"\"},\"caxis\":{\"gridcolor\":\"white\",\"linecolor\":\"white\",\"ticks\":\"\"}},\"coloraxis\":{\"colorbar\":{\"outlinewidth\":0,\"ticks\":\"\"}},\"colorscale\":{\"sequential\":[[0.0,\"#0d0887\"],[0.1111111111111111,\"#46039f\"],[0.2222222222222222,\"#7201a8\"],[0.3333333333333333,\"#9c179e\"],[0.4444444444444444,\"#bd3786\"],[0.5555555555555556,\"#d8576b\"],[0.6666666666666666,\"#ed7953\"],[0.7777777777777778,\"#fb9f3a\"],[0.8888888888888888,\"#fdca26\"],[1.0,\"#f0f921\"]],\"sequentialminus\":[[0.0,\"#0d0887\"],[0.1111111111111111,\"#46039f\"],[0.2222222222222222,\"#7201a8\"],[0.3333333333333333,\"#9c179e\"],[0.4444444444444444,\"#bd3786\"],[0.5555555555555556,\"#d8576b\"],[0.6666666666666666,\"#ed7953\"],[0.7777777777777778,\"#fb9f3a\"],[0.8888888888888888,\"#fdca26\"],[1.0,\"#f0f921\"]],\"diverging\":[[0,\"#8e0152\"],[0.1,\"#c51b7d\"],[0.2,\"#de77ae\"],[0.3,\"#f1b6da\"],[0.4,\"#fde0ef\"],[0.5,\"#f7f7f7\"],[0.6,\"#e6f5d0\"],[0.7,\"#b8e186\"],[0.8,\"#7fbc41\"],[0.9,\"#4d9221\"],[1,\"#276419\"]]},\"xaxis\":{\"gridcolor\":\"white\",\"linecolor\":\"white\",\"ticks\":\"\",\"title\":{\"standoff\":15},\"zerolinecolor\":\"white\",\"automargin\":true,\"zerolinewidth\":2},\"yaxis\":{\"gridcolor\":\"white\",\"linecolor\":\"white\",\"ticks\":\"\",\"title\":{\"standoff\":15},\"zerolinecolor\":\"white\",\"automargin\":true,\"zerolinewidth\":2},\"scene\":{\"xaxis\":{\"backgroundcolor\":\"#E5ECF6\",\"gridcolor\":\"white\",\"linecolor\":\"white\",\"showbackground\":true,\"ticks\":\"\",\"zerolinecolor\":\"white\",\"gridwidth\":2},\"yaxis\":{\"backgroundcolor\":\"#E5ECF6\",\"gridcolor\":\"white\",\"linecolor\":\"white\",\"showbackground\":true,\"ticks\":\"\",\"zerolinecolor\":\"white\",\"gridwidth\":2},\"zaxis\":{\"backgroundcolor\":\"#E5ECF6\",\"gridcolor\":\"white\",\"linecolor\":\"white\",\"showbackground\":true,\"ticks\":\"\",\"zerolinecolor\":\"white\",\"gridwidth\":2}},\"shapedefaults\":{\"line\":{\"color\":\"#2a3f5f\"}},\"annotationdefaults\":{\"arrowcolor\":\"#2a3f5f\",\"arrowhead\":0,\"arrowwidth\":1},\"geo\":{\"bgcolor\":\"white\",\"landcolor\":\"#E5ECF6\",\"subunitcolor\":\"white\",\"showland\":true,\"showlakes\":true,\"lakecolor\":\"white\"},\"title\":{\"x\":0.05},\"mapbox\":{\"style\":\"light\"}}},\"scene\":{\"domain\":{\"x\":[0.0,1.0],\"y\":[0.0,1.0]},\"xaxis\":{\"title\":{\"text\":\"X\"}},\"yaxis\":{\"title\":{\"text\":\"Y\"}},\"zaxis\":{\"title\":{\"text\":\"Z\"}}},\"legend\":{\"title\":{\"text\":\"Category\"},\"tracegroupgap\":0,\"itemsizing\":\"constant\"},\"title\":{\"text\":\"3D Scatter Plot Example\"}},                        {\"responsive\": true}                    ).then(function(){\n",
              "                            \n",
              "var gd = document.getElementById('e1ac6ca3-51c7-4c03-ba93-d0d16c73f82e');\n",
              "var x = new MutationObserver(function (mutations, observer) {{\n",
              "        var display = window.getComputedStyle(gd).display;\n",
              "        if (!display || display === 'none') {{\n",
              "            console.log([gd, 'removed!']);\n",
              "            Plotly.purge(gd);\n",
              "            observer.disconnect();\n",
              "        }}\n",
              "}});\n",
              "\n",
              "// Listen for the removal of the full notebook cells\n",
              "var notebookContainer = gd.closest('#notebook-container');\n",
              "if (notebookContainer) {{\n",
              "    x.observe(notebookContainer, {childList: true});\n",
              "}}\n",
              "\n",
              "// Listen for the clearing of the current output cell\n",
              "var outputEl = gd.closest('.output');\n",
              "if (outputEl) {{\n",
              "    x.observe(outputEl, {childList: true});\n",
              "}}\n",
              "\n",
              "                        })                };                            </script>        </div>\n",
              "</body>\n",
              "</html>"
            ]
          },
          "metadata": {}
        }
      ]
    },
    {
      "cell_type": "code",
      "source": [],
      "metadata": {
        "id": "GADY1GjXboo-"
      },
      "execution_count": null,
      "outputs": []
    }
  ]
}