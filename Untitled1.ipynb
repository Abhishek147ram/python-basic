{
  "nbformat": 4,
  "nbformat_minor": 0,
  "metadata": {
    "colab": {
      "provenance": []
    },
    "kernelspec": {
      "name": "python3",
      "display_name": "Python 3"
    },
    "language_info": {
      "name": "python"
    }
  },
  "cells": [
    {
      "cell_type": "markdown",
      "source": [
        "# **Python OOPs Question**"
      ],
      "metadata": {
        "id": "ZVRsPAZw1_xv"
      }
    },
    {
      "cell_type": "markdown",
      "source": [
        "1 What is Object-Oriented Programming (OOP)?\n",
        " - Object-Oriented Programming (OOP) is a programming paradigm based on the concept of objects, which can contain data (attributes) and methods (functions) that operate on the data. It focuses on modeling real-world entities and their interactions in a structured way.\n",
        "\n",
        "2 What is a class in OOP?\n",
        " - In Object-Oriented Programming (OOP), a class is a blueprint or template for creating objects. It defines the attributes (data) and methods (functions) that the objects created from it will have.\n",
        "\n",
        "3  What is an object in OOP?\n",
        " - In Object-Oriented Programming (OOP), an object is an instance of a class. While a class is just a blueprint, an object is the real-world entity created from that blueprint, with its own data and behaviors.\n",
        "\n",
        "4  What is the difference between abstraction and encapsulation?\n",
        " - Abstraction is the process of hiding implementation details and showing only the essential features of an object (focus on what an object does).\n",
        " -Encapsulation is the process of bundling data and methods together and restricting direct access to some parts of the object (focus on how data is hidden and controlled).\n",
        "\n",
        "5  What are dunder methods in Python?\n",
        " - Dunder methods (short for double underscore methods) in Python are special methods that start and end with double underscores (__method__). They are also known as magic methods or special methods and are used to define the behavior of objects in specific situations.\n",
        "\n",
        "6 Explain the concept of inheritance in OOPH?\n",
        " - Inheritance in Object-Oriented Programming (OOP) is a mechanism where one class (child or subclass) can acquire the properties (attributes) and behaviors (methods) of another class (parent or superclass).\n",
        "\n",
        "7 What is polymorphism in OOP?\n",
        " - Polymorphism in Object-Oriented Programming (OOP) means \"many forms\" and allows different classes to use the same method name but implement it in different ways.\n",
        "\n",
        "8 How is encapsulation achieved in Python?\n",
        " - Encapsulation in Python is achieved by restricting direct access to an object's data and providing controlled ways to access or modify it.\n",
        "\n",
        "9 What is a constructor in Python?\n",
        " - In Python, a constructor is a special method used to initialize an object’s attributes when the object is created. It is defined using the __init__ method inside a class.\n",
        "\n",
        "10 What are class and static methods in Python?\n",
        " - Class Methods\n",
        "\n",
        " Defined with the @classmethod decorator.\n",
        "\n",
        " Take cls (class reference) as the first parameter instead of self.\n",
        "\n",
        " Used to operate on the class itself rather than instances.\n",
        "\n",
        " Can be called using the class name or an object.\n",
        "\n",
        " - Static Methods\n",
        "\n",
        " Defined with the @staticmethod decorator.\n",
        "\n",
        " Do not take self or cls as the first parameter.\n",
        "\n",
        " Behave like normal functions but belong to the class's namespace.\n",
        "\n",
        " Used when some processing is related to the class but does not need access to class or instance attributes.\n",
        "\n",
        "11 What is method overloading in Python?\n",
        " - Method overloading means defining multiple methods with the same name but different numbers or types of parameters.\n",
        "\n",
        "12 What is method overriding in OOP?\n",
        " - Method overriding occurs when a child class provides a new implementation of a method that already exists in its parent class.\n",
        "\n",
        "13 What is a property decorator in Python?\n",
        " - The property decorator in Python is used to convert a method into a read-only attribute, allowing you to access it like an attribute while still executing code inside the method.\n",
        "\n",
        "14 Why is polymorphism important in OOP?\n",
        " - Polymorphism allows objects of different classes to be treated through a common interface, making code flexible, reusable, and maintainable.\n",
        "\n",
        "15 What is an abstract class in Python?\n",
        " - An abstract class is a class that cannot be instantiated directly and may contain one or more abstract methods.\n",
        "\n",
        "16 What are the advantages of OOP?\n",
        " - Modularity\n",
        "\n",
        " Code is organized into classes and objects, making it easier to manage and understand.\n",
        "\n",
        " Code Reusability\n",
        "\n",
        " Inheritance allows classes to reuse code from other classes, reducing redundancy.\n",
        "\n",
        " Encapsulation\n",
        "\n",
        " Hides internal details and provides controlled access to data, improving security and maintainability.\n",
        "\n",
        " Polymorphism\n",
        "\n",
        " Enables the same interface to work with different data types or classes, increasing flexibility.\n",
        "\n",
        " Abstraction\n",
        "\n",
        " Simplifies complex systems by hiding unnecessary details and exposing only essential features.\n",
        "\n",
        " Maintainability and Scalability\n",
        "\n",
        " Well-structured OOP code is easier to update, extend, and debug.\n",
        "\n",
        " Real-World Modeling\n",
        "\n",
        " OOP mirrors real-world entities and interactions, making programs more intuitive to design.\n",
        "\n",
        "17 What is the difference between a class variable and an instance variable?\n",
        " - Class Variable: Shared by all objects of a class; defined outside methods and belongs to the class.\n",
        "\n",
        " - Instance Variable: Unique to each object; defined inside methods (usually __init__) and belongs to the instance\n",
        "\n",
        "18 What is multiple inheritance in Python?\n",
        " - Multiple inheritance is a feature where a child class inherits from more than one parent class, acquiring their attributes and methods.\n",
        "\n",
        "19 Explain the purpose of ‘’__str__’ and ‘__repr__’ ‘ methods in Python?\n",
        " - Both __str__ and __repr__ are dunder (double underscore) methods that control how an object is represented as a string.\n",
        "\n",
        " -  \"str\"\n",
        "\n",
        " Returns a user-friendly string representation of the object.\n",
        "\n",
        " Called when you use print(object) or str(object).\n",
        "\n",
        " Should return a readable description for end-users.\n",
        "\n",
        " -  \"__repr__\"\n",
        "\n",
        " Returns an unambiguous string representation of the object.\n",
        "\n",
        " Called when you use repr(object) or just type the object name in the Python shell.\n",
        "\n",
        " Should return a string that can recreate the object (if possible) or a detailed description for developers.\n",
        "\n",
        "20 What is the significance of the ‘super()’ function in Python?\n",
        " - The super() function is used to call methods from a parent (super) class inside a child (sub) class.\n",
        "It is most commonly used in inheritance to ensure the parent class’s methods are executed in addition to the child class's methods.\n",
        "\n",
        "21 What is the significance of the __del__ method in Python?\n",
        " - The __del__ method is a destructor in Python.\n",
        " It is automatically called when an object is about to be destroyed (i.e., when it goes out of scope or del is used).\n",
        " Used to perform cleanup operations such as closing files, releasing resources, or freeing memory.\n",
        "\n",
        "22 What is the difference between @staticmethod and @classmethod in Python?\n",
        " - staticmethod: Does not take self or cls; cannot access or modify class/instance attributes; used for utility functions related to the class.\n",
        "\n",
        " - classmethod: Takes cls as the first parameter; can access and modify class-level attributes; used for class-related operations.\n",
        "\n",
        "23 How does polymorphism work in Python with inheritance?\n",
        " - Polymorphism allows a method in a parent class to be overridden in a child class so that the same method name performs different actions depending on the object calling it.\n",
        "\n",
        " A base class defines a method (e.g., speak()).\n",
        " Subclasses provide their own implementation of that method.\n",
        " When called on an object, Python determines at runtime which version of the method to execute.\n",
        "\n",
        "24 What is method chaining in Python OOP?\n",
        " - Method Chaining is a technique where multiple methods are called sequentially on the same object in a single line.\n",
        "Each method returns the object (self) so that the next method can be called directly.\n",
        "\n",
        "25 What is the purpose of the __call__ method in Python?\n",
        " - The __call__ method allows an object of a class to be called like a function.\n",
        "When defined in a class, calling the object executes the __call__ method."
      ],
      "metadata": {
        "id": "nut7ACEr2Qbm"
      }
    },
    {
      "cell_type": "markdown",
      "source": [
        "# **Practical Question**"
      ],
      "metadata": {
        "id": "te_E8iYD-bqS"
      }
    },
    {
      "cell_type": "markdown",
      "source": [
        "1  Create a parent class Animal with a method speak() that prints a generic message. Create a child class Dog\n",
        "that overrides the speak() method to print \"Bark!\"."
      ],
      "metadata": {
        "id": "eyVk7hwl-l94"
      }
    },
    {
      "cell_type": "code",
      "execution_count": 1,
      "metadata": {
        "colab": {
          "base_uri": "https://localhost:8080/"
        },
        "id": "zysPWBDg176U",
        "outputId": "77d1113e-4e88-467c-9d3d-3d63535b84fb"
      },
      "outputs": [
        {
          "output_type": "stream",
          "name": "stdout",
          "text": [
            "Bark!\n"
          ]
        }
      ],
      "source": [
        "class Animal:\n",
        "    def speak(self):\n",
        "        print(\"This animal makes a sound.\")\n",
        "\n",
        "class Dog(Animal):\n",
        "    def speak(self):\n",
        "        print(\"Bark!\")\n",
        "\n",
        "D = Dog()\n",
        "D.speak()"
      ]
    },
    {
      "cell_type": "markdown",
      "source": [
        "2 Write a program to create an abstract class Shape with a method area(). Derive classes Circle and Rectangle\n",
        "from it and implement the area() method in both."
      ],
      "metadata": {
        "id": "_40sNk-o_tbW"
      }
    },
    {
      "cell_type": "code",
      "source": [
        "class Shape:\n",
        "  def area(self):\n",
        "    print(\"Area of a shape\")\n",
        "class Circle(Shape):\n",
        "  def area(self):\n",
        "    print(\"Area of a circle\")\n",
        "class Rectangle(Shape):\n",
        "  def area(self):\n",
        "    print(\"Area of a rectangle\")\n",
        "\n",
        "C = Circle()\n",
        "C.area()\n",
        "R = Rectangle()\n",
        "R.area()\n",
        ""
      ],
      "metadata": {
        "colab": {
          "base_uri": "https://localhost:8080/"
        },
        "id": "PS8u2ZfF_AKP",
        "outputId": "bf8dacb9-4c7a-42b2-e9c8-bbe802b453f3"
      },
      "execution_count": 3,
      "outputs": [
        {
          "output_type": "stream",
          "name": "stdout",
          "text": [
            "Area of a circle\n",
            "Area of a rectangle\n"
          ]
        }
      ]
    },
    {
      "cell_type": "markdown",
      "source": [
        "3  Implement a multi-level inheritance scenario where a class Vehicle has an attribute type. Derive a class Car\n",
        "and further derive a class ElectricCar that adds a battery attribute."
      ],
      "metadata": {
        "id": "oLDUSXywAa-f"
      }
    },
    {
      "cell_type": "code",
      "source": [
        "class Vehicle:\n",
        "    def __init__(self, vehicle_type):\n",
        "        self.type = vehicle_type\n",
        "\n",
        "    def show_type(self):\n",
        "        print(f\"Vehicle Type: {self.type}\")\n",
        "\n",
        "\n",
        "class Car(Vehicle):\n",
        "    def __init__(self, vehicle_type, brand):\n",
        "        super().__init__(vehicle_type)\n",
        "        self.brand = brand\n",
        "\n",
        "    def show_brand(self):\n",
        "        print(f\"Car Brand: {self.brand}\")\n",
        "\n",
        "\n",
        "class ElectricCar(Car):\n",
        "    def __init__(self, vehicle_type, brand, battery):\n",
        "        super().__init__(vehicle_type, brand)\n",
        "        self.battery = battery\n",
        "\n",
        "    def show_battery(self):\n",
        "        print(f\"Battery Capacity: {self.battery} kWh\")\n",
        "tesla = ElectricCar(\"Four-Wheeler\", \"Tesla\", 100)\n",
        "\n",
        "tesla.show_type()\n",
        "tesla.show_brand()\n",
        "tesla.show_battery()\n"
      ],
      "metadata": {
        "colab": {
          "base_uri": "https://localhost:8080/"
        },
        "id": "zgydr9dsAJhQ",
        "outputId": "d9a1a922-4af8-4fef-f7c0-4503b53c3780"
      },
      "execution_count": 4,
      "outputs": [
        {
          "output_type": "stream",
          "name": "stdout",
          "text": [
            "Vehicle Type: Four-Wheeler\n",
            "Car Brand: Tesla\n",
            "Battery Capacity: 100 kWh\n"
          ]
        }
      ]
    },
    {
      "cell_type": "markdown",
      "source": [
        "4 Demonstrate polymorphism by creating a base class Bird with a method fly(). Create two derived classes\n",
        "Sparrow and Penguin that override the fly() method.\n"
      ],
      "metadata": {
        "id": "Hum37mv7AswN"
      }
    },
    {
      "cell_type": "code",
      "source": [
        "class Bird:\n",
        "    def fly(self):\n",
        "        print(\"This bird can fly in some way.\")\n",
        "\n",
        "class Sparrow(Bird):\n",
        "    def fly(self):\n",
        "        print(\"Sparrow flies high in the sky.\")\n",
        "\n",
        "class Penguin(Bird):\n",
        "    def fly(self):\n",
        "        print(\"Penguins cannot fly but can swim.\")\n",
        "birds = [Sparrow(), Penguin()]\n",
        "\n",
        "for bird in birds:\n",
        "    bird.fly()\n"
      ],
      "metadata": {
        "colab": {
          "base_uri": "https://localhost:8080/"
        },
        "id": "QGlmVyTpAqwS",
        "outputId": "1831ac27-1685-4993-e697-95d502d546cc"
      },
      "execution_count": 5,
      "outputs": [
        {
          "output_type": "stream",
          "name": "stdout",
          "text": [
            "Sparrow flies high in the sky.\n",
            "Penguins cannot fly but can swim.\n"
          ]
        }
      ]
    },
    {
      "cell_type": "markdown",
      "source": [
        "5 Write a program to demonstrate encapsulation by creating a class BankAccount with private attributes\n",
        "balance and methods to deposit, withdraw, and check balance."
      ],
      "metadata": {
        "id": "KsqyV21HBdT9"
      }
    },
    {
      "cell_type": "code",
      "source": [
        "class BankAccount:\n",
        "  def __init__(self, balance):\n",
        "    self.__balance = balance\n",
        "\n",
        "  def deposit(self, amount):\n",
        "    if amount > 0:\n",
        "      self.__balance += amount\n",
        "\n",
        "  def withdraw(self, amount):\n",
        "    if amount > 0 and amount <= self.__balance:\n",
        "      self.__balance -= amount\n",
        "\n",
        "\n",
        "account = BankAccount(1000)\n"
      ],
      "metadata": {
        "id": "msjJ8K-ABVEc"
      },
      "execution_count": 10,
      "outputs": []
    },
    {
      "cell_type": "code",
      "source": [
        "account.deposit(500)\n",
        "print(account._BankAccount__balance)\n",
        "account.withdraw(200)\n",
        "print(account._BankAccount__balance)\n"
      ],
      "metadata": {
        "colab": {
          "base_uri": "https://localhost:8080/"
        },
        "id": "BjISmSTmCzWy",
        "outputId": "6dccdea8-e600-4570-cbcd-dc9320e4fe9f"
      },
      "execution_count": 11,
      "outputs": [
        {
          "output_type": "stream",
          "name": "stdout",
          "text": [
            "1500\n",
            "1300\n"
          ]
        }
      ]
    },
    {
      "cell_type": "markdown",
      "source": [
        "6. Demonstrate runtime polymorphism using a method play() in a base class Instrument. Derive classes Guitar\n",
        "and Piano that implement their own version of play()."
      ],
      "metadata": {
        "id": "qZPQu422DNR-"
      }
    },
    {
      "cell_type": "code",
      "source": [
        "class Instrument:\n",
        "    def play(self):\n",
        "        print(\"Playing an instrument.\")\n",
        "\n",
        "class Guitar(Instrument):\n",
        "    def play(self):\n",
        "        print(\"Strumming the guitar.\")\n",
        "\n",
        "class Piano(Instrument):\n",
        "    def play(self):\n",
        "        print(\"Playing the piano.\")\n",
        "instruments = [Guitar(), Piano(), Instrument()]\n",
        "\n",
        "for instrument in instruments:\n",
        "    instrument.play()\n"
      ],
      "metadata": {
        "colab": {
          "base_uri": "https://localhost:8080/"
        },
        "id": "SiZOWl75DLMb",
        "outputId": "d7fe18e7-d995-424e-ee90-0eb60317a742"
      },
      "execution_count": 12,
      "outputs": [
        {
          "output_type": "stream",
          "name": "stdout",
          "text": [
            "Strumming the guitar.\n",
            "Playing the piano.\n",
            "Playing an instrument.\n"
          ]
        }
      ]
    },
    {
      "cell_type": "markdown",
      "source": [
        "7. Create a class MathOperations with a class method add_numbers() to add two numbers and a static\n",
        "method subtract_numbers() to subtract two numbers."
      ],
      "metadata": {
        "id": "xR79-3X_DaU7"
      }
    },
    {
      "cell_type": "code",
      "source": [
        "class MathOperations:\n",
        "    @classmethod\n",
        "    def add_numbers(cls, a, b):\n",
        "        return a + b\n",
        "\n",
        "    @staticmethod\n",
        "    def subtract_numbers(a, b):\n",
        "        return a - b\n",
        "print(MathOperations.add_numbers(5, 3))\n",
        "print(MathOperations.subtract_numbers(10,12))"
      ],
      "metadata": {
        "colab": {
          "base_uri": "https://localhost:8080/"
        },
        "id": "3JoHZtOoDYKa",
        "outputId": "c512ecb1-1a38-40bf-dc23-20274c601365"
      },
      "execution_count": 14,
      "outputs": [
        {
          "output_type": "stream",
          "name": "stdout",
          "text": [
            "8\n",
            "-2\n"
          ]
        }
      ]
    },
    {
      "cell_type": "markdown",
      "source": [
        "8. Implement a class Person with a class method to count the total number of persons created"
      ],
      "metadata": {
        "id": "N_ypPIhvD0Ue"
      }
    },
    {
      "cell_type": "code",
      "source": [
        "class Person:\n",
        "    count = 0\n",
        "\n",
        "    def __init__(self, name):\n",
        "        self.name = name\n",
        "        Person.count += 1\n",
        "\n",
        "    @classmethod\n",
        "    def total_persons(cls):\n",
        "        return cls.count\n",
        "\n",
        "p1 = Person(\"Anushaka\")\n",
        "p2 = Person(\"Jonny\")\n",
        "p3 = Person(\"Abhishek\")\n",
        "print(Person.total_persons())"
      ],
      "metadata": {
        "colab": {
          "base_uri": "https://localhost:8080/"
        },
        "id": "d4vlxUGODi-I",
        "outputId": "dee40722-a997-4d79-eafc-9a9574571aea"
      },
      "execution_count": 16,
      "outputs": [
        {
          "output_type": "stream",
          "name": "stdout",
          "text": [
            "3\n"
          ]
        }
      ]
    },
    {
      "cell_type": "markdown",
      "source": [
        "9. Write a class Fraction with attributes numerator and denominator. Override the str method to display the\n",
        "fraction as \"numerator/denominator\"."
      ],
      "metadata": {
        "id": "gkvebsocET-n"
      }
    },
    {
      "cell_type": "code",
      "source": [
        "class Fraction:\n",
        "    def __init__(self, numerator, denominator):\n",
        "        self.numerator = numerator\n",
        "        self.denominator = denominator\n",
        "    def __str__(self):\n",
        "        return f\"{self.numerator}/{self.denominator}\"\n",
        "f1 = Fraction(3, 4)\n",
        "f2 = Fraction(5, 8)\n",
        "print(f1)\n",
        "print(f2)\n",
        "\n"
      ],
      "metadata": {
        "colab": {
          "base_uri": "https://localhost:8080/"
        },
        "id": "XPhYLvbXD6HF",
        "outputId": "ad27298a-e9ef-4d1b-c32e-63229509c3ad"
      },
      "execution_count": 17,
      "outputs": [
        {
          "output_type": "stream",
          "name": "stdout",
          "text": [
            "3/4\n",
            "5/8\n"
          ]
        }
      ]
    },
    {
      "cell_type": "markdown",
      "source": [
        "10. Demonstrate operator overloading by creating a class Vector and overriding the add method to add two\n",
        "vectors"
      ],
      "metadata": {
        "id": "_IzwfGTHE9sC"
      }
    },
    {
      "cell_type": "code",
      "source": [
        "class Vector:\n",
        "    def __init__(self, x, y):\n",
        "        self.x = x\n",
        "        self.y = y\n",
        "\n",
        "    def __add__(self, other):\n",
        "        return Vector(self.x + other.x, self.y + other.y)\n",
        "v1 = Vector(6,3)\n",
        "v2 = Vector(2,4)\n",
        "result = v1 + v2\n",
        "print(result.x, result.y)"
      ],
      "metadata": {
        "colab": {
          "base_uri": "https://localhost:8080/"
        },
        "id": "7W5-HVa4E2P-",
        "outputId": "fafe43f9-cdd3-4aa1-e6ff-3fc48f6558c9"
      },
      "execution_count": 18,
      "outputs": [
        {
          "output_type": "stream",
          "name": "stdout",
          "text": [
            "8 7\n"
          ]
        }
      ]
    },
    {
      "cell_type": "markdown",
      "source": [
        "11. Create a class Person with attributes name and age. Add a method greet() that prints \"Hello, my name is\n",
        "{name} and I am {age} years old.\""
      ],
      "metadata": {
        "id": "6-OcB_v3FYTk"
      }
    },
    {
      "cell_type": "code",
      "source": [
        "class Person:\n",
        "  def greet(self, name, age):\n",
        "    self.name = name\n",
        "    self.age = age\n",
        "    print(f\"Hello, my name is {self.name} and I am {self.age} years old.\")\n",
        "p1 = Person()\n",
        "p1.greet(\"Abhishek\", 23)"
      ],
      "metadata": {
        "colab": {
          "base_uri": "https://localhost:8080/"
        },
        "id": "0oEt2LDqFPoT",
        "outputId": "c69c73d6-c3cf-4a32-885f-bb4dc75fed17"
      },
      "execution_count": 21,
      "outputs": [
        {
          "output_type": "stream",
          "name": "stdout",
          "text": [
            "Hello, my name is Abhishek and I am 23 years old.\n"
          ]
        }
      ]
    },
    {
      "cell_type": "markdown",
      "source": [
        "12. Implement a class Student with attributes name and grades. Create a method average_grade() to compute\n",
        "the average of the grades."
      ],
      "metadata": {
        "id": "08JmeppiGTqy"
      }
    },
    {
      "cell_type": "code",
      "source": [
        "class Student:\n",
        "    def __init__(self, name, grades):\n",
        "        self.name = name\n",
        "        self.grades = grades\n",
        "        print(self.grades)\n",
        "    def average_grade(self):\n",
        "        total_grades = sum(self.grades)\n",
        "        average = total_grades / len(self.grades)\n",
        "        return average\n",
        "s1 = Student(\"John\", [85, 90, 78])\n",
        "s2 = Student(\"Emma\", [92, 88, 95, 100])\n",
        "\n",
        "print(f\"{s1.name}'s Average Grade: {s1.average_grade():.2f}\")\n",
        "print(f\"{s2.name}'s Average Grade: {s2.average_grade():.2f}\")"
      ],
      "metadata": {
        "colab": {
          "base_uri": "https://localhost:8080/"
        },
        "id": "qTTt0RwwFmF8",
        "outputId": "499332e8-3647-4760-ef8b-637002c9d7c3"
      },
      "execution_count": 22,
      "outputs": [
        {
          "output_type": "stream",
          "name": "stdout",
          "text": [
            "[85, 90, 78]\n",
            "[92, 88, 95, 100]\n",
            "John's Average Grade: 84.33\n",
            "Emma's Average Grade: 93.75\n"
          ]
        }
      ]
    },
    {
      "cell_type": "markdown",
      "source": [
        "13. Create a class Rectangle with methods set_dimensions() to set the dimensions and area() to calculate the\n",
        "area."
      ],
      "metadata": {
        "id": "FXgvR5ynGvR0"
      }
    },
    {
      "cell_type": "code",
      "source": [
        "class Rectangle:\n",
        "    def __init__(self, length, width):\n",
        "        self.length = length\n",
        "        self.width = width\n",
        "    def area(self):\n",
        "        return self.length * self.width\n",
        "r1 = Rectangle(4, 5)"
      ],
      "metadata": {
        "id": "9KASqUn9Gqz3"
      },
      "execution_count": 23,
      "outputs": []
    },
    {
      "cell_type": "code",
      "source": [
        "r1.area()"
      ],
      "metadata": {
        "colab": {
          "base_uri": "https://localhost:8080/"
        },
        "id": "1mjeJdMiHIGe",
        "outputId": "898678c2-0a9a-4fd0-83bd-5660a54fa34f"
      },
      "execution_count": 24,
      "outputs": [
        {
          "output_type": "execute_result",
          "data": {
            "text/plain": [
              "20"
            ]
          },
          "metadata": {},
          "execution_count": 24
        }
      ]
    },
    {
      "cell_type": "markdown",
      "source": [
        "14. Create a class Employee with a method calculate_salary() that computes the salary based on hours worked\n",
        "and hourly rate. Create a derived class Manager that adds a bonus to the salary."
      ],
      "metadata": {
        "id": "3_QS_uogHUfD"
      }
    },
    {
      "cell_type": "code",
      "source": [
        "class Employee:\n",
        "    def calculate_salary(self, hours_worked, hourly_rate):\n",
        "        return hours_worked * hourly_rate\n",
        "class Manager(Employee):\n",
        "    def calculate_salary(self, hours_worked, hourly_rate):\n",
        "        base_salary = super().calculate_salary(hours_worked, hourly_rate)\n",
        "        bonus = 0.1 * base_salary\n",
        "        return base_salary + bonus\n",
        "employee = Employee()\n",
        "manager = Manager()\n",
        "print(employee.calculate_salary(40, 50))\n",
        "print(manager.calculate_salary(40, 50))"
      ],
      "metadata": {
        "colab": {
          "base_uri": "https://localhost:8080/"
        },
        "id": "3-JFxM2NHMrQ",
        "outputId": "1da6cc54-4983-42c1-89e8-e18a6f58ebe2"
      },
      "execution_count": 25,
      "outputs": [
        {
          "output_type": "stream",
          "name": "stdout",
          "text": [
            "2000\n",
            "2200.0\n"
          ]
        }
      ]
    },
    {
      "cell_type": "markdown",
      "source": [
        "15. Create a class Product with attributes name, price, and quantity. Implement a method total_price() that\n",
        "calculates the total price of the product."
      ],
      "metadata": {
        "id": "Ha-rTP9gHtvR"
      }
    },
    {
      "cell_type": "code",
      "source": [
        "class Product:\n",
        "    def __init__(self, name, price, quantity):\n",
        "        self.name = name\n",
        "        self.price = price\n",
        "        self.quantity = quantity\n",
        "    def total_price(self):\n",
        "        return self.price * self.quantity\n",
        "total = Product(\"Apple\", 10, 2)\n",
        "total.total_price()\n"
      ],
      "metadata": {
        "colab": {
          "base_uri": "https://localhost:8080/"
        },
        "id": "YIXFs7JyHmQx",
        "outputId": "2febbdab-3733-45f8-e5a2-ebc79b659ec5"
      },
      "execution_count": 26,
      "outputs": [
        {
          "output_type": "execute_result",
          "data": {
            "text/plain": [
              "20"
            ]
          },
          "metadata": {},
          "execution_count": 26
        }
      ]
    },
    {
      "cell_type": "markdown",
      "source": [
        "16. Create a class Animal with an abstract method sound(). Create two derived classes Cow and Sheep that\n",
        "implement the sound() method."
      ],
      "metadata": {
        "id": "O4XmBbiCH9n7"
      }
    },
    {
      "cell_type": "code",
      "source": [
        "class animal:\n",
        "  def sound(self):\n",
        "    print(\"Animal sound\")\n",
        "class Cow(animal):\n",
        "  def sound(self):\n",
        "    print(\"Moo\")\n",
        "class Sheep(animal):\n",
        "  def sound(self):\n",
        "    print(\"Baa\")\n",
        "Sound = Sheep()\n",
        "Sound.sound()\n",
        "sou = Cow()\n",
        "sou.sound()"
      ],
      "metadata": {
        "colab": {
          "base_uri": "https://localhost:8080/"
        },
        "id": "uJ3LcOgEH8Rc",
        "outputId": "739d2fc3-e784-40dc-ee2c-854ccb91ce1f"
      },
      "execution_count": 29,
      "outputs": [
        {
          "output_type": "stream",
          "name": "stdout",
          "text": [
            "Baa\n",
            "Moo\n"
          ]
        }
      ]
    },
    {
      "cell_type": "markdown",
      "source": [
        "17. Create a class Book with attributes title, author, and year_published. Add a method get_book_info() that\n",
        "returns a formatted string with the book's details.\n"
      ],
      "metadata": {
        "id": "KW2kufiLIb2P"
      }
    },
    {
      "cell_type": "code",
      "source": [
        "class Book:\n",
        "    def __init__(self, title, author, year_published):\n",
        "        self.title = title\n",
        "        self.author = author\n",
        "        self.year_published = year_published\n",
        "\n",
        "    def get_book_info(self):\n",
        "        return f\"Title: {self.title}\\nAuthor: {self.author}\\nYear Published: {self.year_published}\"\n",
        "info = Book(\"Hanuman Calisha\",\"tulsidas\",1954)"
      ],
      "metadata": {
        "id": "pTnCSYRAINbU"
      },
      "execution_count": 30,
      "outputs": []
    },
    {
      "cell_type": "code",
      "source": [
        "print(info.get_book_info())"
      ],
      "metadata": {
        "colab": {
          "base_uri": "https://localhost:8080/"
        },
        "id": "HayW-fEwI8Ag",
        "outputId": "749e81f2-26a4-4209-81c4-d49dceb5b7d7"
      },
      "execution_count": 32,
      "outputs": [
        {
          "output_type": "stream",
          "name": "stdout",
          "text": [
            "Title: Hanuman Calisha\n",
            "Author: tulsidas\n",
            "Year Published: 1954\n"
          ]
        }
      ]
    },
    {
      "cell_type": "markdown",
      "source": [
        "18. Create a class House with attributes address and price. Create a derived class Mansion that adds an\n",
        "attribute number_of_rooms."
      ],
      "metadata": {
        "id": "eaPInvDHJIW4"
      }
    },
    {
      "cell_type": "code",
      "source": [
        "class House:\n",
        "    def __init__(self, address, price):\n",
        "        self.address = address\n",
        "        self.price = price\n",
        "        print(self.price)\n",
        "class Mansion(House):\n",
        "    def __init__(self, address, price, number_of_rooms):\n",
        "        super().__init__(address, price)\n",
        "        self.number_of_rooms = number_of_rooms\n",
        "        print(self.number_of_rooms)\n",
        ""
      ],
      "metadata": {
        "id": "h4XN_2UFJBBg"
      },
      "execution_count": 33,
      "outputs": []
    },
    {
      "cell_type": "code",
      "source": [
        "home = Mansion(\"123 Main St\", 250000, 8)\n",
        "home.number_of_rooms"
      ],
      "metadata": {
        "colab": {
          "base_uri": "https://localhost:8080/"
        },
        "id": "zetLx6ztJS8H",
        "outputId": "4f6783fd-1d1e-4b89-a9c4-ec391db37210"
      },
      "execution_count": 34,
      "outputs": [
        {
          "output_type": "stream",
          "name": "stdout",
          "text": [
            "250000\n",
            "8\n"
          ]
        },
        {
          "output_type": "execute_result",
          "data": {
            "text/plain": [
              "8"
            ]
          },
          "metadata": {},
          "execution_count": 34
        }
      ]
    }
  ]
}