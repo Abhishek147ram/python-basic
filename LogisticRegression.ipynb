{
  "nbformat": 4,
  "nbformat_minor": 0,
  "metadata": {
    "colab": {
      "provenance": []
    },
    "kernelspec": {
      "name": "python3",
      "display_name": "Python 3"
    },
    "language_info": {
      "name": "python"
    }
  },
  "cells": [
    {
      "cell_type": "markdown",
      "source": [
        "# **Supervised Learning: Regression Models and Performance Metrics |**\n",
        "\n",
        "\n"
      ],
      "metadata": {
        "id": "lXRhxbDDZqZn"
      }
    },
    {
      "cell_type": "markdown",
      "source": [
        "Question 1 : What is Simple Linear Regression (SLR)? Explain its purpose.\n",
        " - Simple Linear Regression (SLR) is a statistical method used to model the relationship between two variables — one independent variable (X) and one dependent variable (Y) — by fitting a straight line through the data points.\n",
        "\n",
        "Question 2: What are the key assumptions of Simple Linear Regression?\n",
        " - The key assumptions of Simple Linear Regression (SLR) ensure that the model’s estimates and predictions are reliable and valid. They are as follows:\n",
        "\n",
        "Linearity\n",
        "\n",
        "- The relationship between the independent variable (X) and the dependent variable (Y) must be linear.\n",
        "\n",
        "- This means a change in X leads to a proportional change in Y.\n",
        "\n",
        "Independence of Errors\n",
        "\n",
        " - The residuals (errors) should be independent of each other.\n",
        "\n",
        "- This means the error for one observation should not influence another.\n",
        "\n",
        "Homoscedasticity (Constant Variance of Errors)\n",
        "\n",
        "- The variance of residuals should be constant across all values of X.\n",
        "\n",
        "- If the spread of errors changes with X (called heteroscedasticity), it violates this assumption.\n",
        "\n",
        "Normality of Errors\n",
        "\n",
        "- The residuals (ε) should be normally distributed.\n",
        "\n",
        "- This is important for valid hypothesis testing and confidence intervals.\n",
        "\n",
        "No Multicollinearity (Not applicable in SLR)\n",
        "\n",
        "- Since SLR uses only one independent variable, this assumption mainly applies to multiple regression, not simple regression.\n",
        "\n",
        "Question 3: Write the mathematical equation for a simple linear regression model and\n",
        "explain each term.\n",
        "- The mathematical equation for a Simple Linear Regression (SLR) model is:\n",
        "\n",
        "- 𝑌 =𝛽0+𝛽1𝑋+𝜀\n",
        "\n",
        "Question 4: Provide a real-world example where simple linear regression can be\n",
        "applied.\n",
        "- Real-World Example of Simple Linear Regression (SLR):\n",
        "\n",
        "Scenario:\n",
        "A company wants to predict sales revenue based on advertising expenditure.\n",
        "\n",
        "Dependent Variable (Y): Sales revenue (in ₹ or $)\n",
        "\n",
        "Independent Variable (X): Advertising spend (in ₹ or $)\n",
        "\n",
        "Application:\n",
        "The company collects past data on how much they spent on advertising and the corresponding sales generated. By applying Simple Linear Regression, they can model the relationship as:\n",
        "\n",
        "- Sales=𝛽+𝛽(Advertising Spend)+\n",
        "𝜀\n",
        "Question 5: What is the method of least squares in linear regression?\n",
        "- The Method of Least Squares determines the line of best fit by minimizing the squared differences between actual and predicted values of the dependent variable.\n",
        "Question 6: What is Logistic Regression? How does it differ from Linear Regression?\n",
        " - Logistic Regression\n",
        "\n",
        "Logistic Regression is a statistical technique used to model the relationship between a categorical dependent variable (usually binary: 0 or 1) and one or more independent variables.\n",
        "\n",
        "It predicts the probability that an observation belongs to a particular category (e.g., “Yes” or “No”, “Spam” or “Not Spam”).\n",
        "\n",
        "The logistic regression model is based on the logistic (sigmoid) function:\n",
        "\n",
        "𝑃(𝑌=1)=1/(1+e−(β0\t​+β1\t​X))\n",
        "\t​\n",
        "Question 7: Name and briefly describe three common evaluation metrics for regression\n",
        "models\n",
        "- MAE → average absolute error (easy to interpret).\n",
        "\n",
        "- MSE → penalizes large errors more.\n",
        "\n",
        "- R² → explains how well the model fits the data.\n",
        "\n",
        "Question 8: What is the purpose of the R-squared metric in regression analysis?\n",
        " - Explains Model Fit\n",
        "\n",
        "R² indicates the proportion of the variance in the dependent variable (Y) that is explained by the independent variable(s) (X).\n",
        "\n",
        "Example: An R² of 0.85 means 85% of the variation in Y is explained by X, and the remaining 15% is due to other factors or random error.\n",
        "\n",
        "- Evaluates Model Performance\n",
        "\n",
        "A higher R² value (closer to 1) means the model fits the data better.\n",
        "\n",
        "A lower R² value (closer to 0) means the model explains very little of the variability in Y.\n",
        "\n",
        "- Helps Compare Models\n",
        "\n",
        "R² can be used to compare different regression models applied to the same dataset — the model with a higher R² generally provides a better fit."
      ],
      "metadata": {
        "id": "x49sR7qmZ8v7"
      }
    },
    {
      "cell_type": "markdown",
      "source": [
        "Question 9: Write Python code to fit a simple linear regression model using scikit-learn\n",
        "and print the slope and intercept.\n"
      ],
      "metadata": {
        "id": "Lq9iP0sIdooT"
      }
    },
    {
      "cell_type": "code",
      "source": [
        "# Import necessary libraries\n",
        "from sklearn.linear_model import LinearRegression\n",
        "import numpy as np\n",
        "\n",
        "# Example data\n",
        "# X = independent variable (e.g., years of experience)\n",
        "# y = dependent variable (e.g., salary)\n",
        "X = np.array([1, 2, 3, 4, 5]).reshape(-1, 1)\n",
        "y = np.array([15000, 18000, 21000, 24000, 27000])\n",
        "\n",
        "# Create and fit the model\n",
        "model = LinearRegression()\n",
        "model.fit(X, y)\n",
        "\n",
        "# Print the slope (coefficient) and intercept\n",
        "print(\"Slope (β1):\", model.coef_[0])\n",
        "print(\"Intercept (β0):\", model.intercept_)\n"
      ],
      "metadata": {
        "colab": {
          "base_uri": "https://localhost:8080/"
        },
        "id": "5irxG4_7Z8jz",
        "outputId": "14793ad5-81a0-4572-f899-57a9ad449a6d"
      },
      "execution_count": 1,
      "outputs": [
        {
          "output_type": "stream",
          "name": "stdout",
          "text": [
            "Slope (β1): 3000.0000000000005\n",
            "Intercept (β0): 11999.999999999998\n"
          ]
        }
      ]
    },
    {
      "cell_type": "markdown",
      "source": [
        "Question 10: How do you interpret the coefficients in a simple linear regression model?\n",
        "- Intercept (β₀): Predicted value of Y when X = 0.\n",
        "\n",
        "- Slope (β₁): Amount by which Y changes for every one-unit change in X."
      ],
      "metadata": {
        "id": "VXsYQdMOdxvv"
      }
    },
    {
      "cell_type": "code",
      "source": [],
      "metadata": {
        "id": "SIi0XSl3Z8gx"
      },
      "execution_count": null,
      "outputs": []
    },
    {
      "cell_type": "code",
      "execution_count": null,
      "metadata": {
        "id": "udjXL6JEZmyy"
      },
      "outputs": [],
      "source": []
    }
  ]
}