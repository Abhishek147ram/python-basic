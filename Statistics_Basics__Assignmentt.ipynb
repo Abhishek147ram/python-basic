{
  "nbformat": 4,
  "nbformat_minor": 0,
  "metadata": {
    "colab": {
      "provenance": []
    },
    "kernelspec": {
      "name": "python3",
      "display_name": "Python 3"
    },
    "language_info": {
      "name": "python"
    }
  },
  "cells": [
    {
      "cell_type": "markdown",
      "source": [
        "# **Statistics Basics| Assignmentt**"
      ],
      "metadata": {
        "id": "kPs-QoYO3Nmb"
      }
    },
    {
      "cell_type": "markdown",
      "source": [
        "Question 1: What is the difference between descriptive statistics and inferential\n",
        "statistics? Explain with examples\n",
        "\n",
        "-   Descriptive Statistics\n",
        "\n",
        "Definition:\n",
        "Descriptive statistics is the branch of statistics that summarizes and describes the main features of a dataset. It does not make predictions or generalizations beyond the data you have.\n",
        "\n",
        "Key Features:\n",
        "\n",
        "Summarizes data using numbers, tables, and graphs.\n",
        "\n",
        "Measures include mean, median, mode, range, variance, standard deviation, and percentages.\n",
        "\n",
        "Focuses only on the data collected; no assumptions about the population are made.\n",
        "\n",
        "Example:\n",
        "Suppose a teacher records the test scores of 50 students in a class:\n",
        "\n",
        "Scores: 45, 67, 78, 89, …\n",
        "\n",
        "Descriptive statistics would include:\n",
        "\n",
        "Mean score = 72\n",
        "\n",
        "Median score = 70\n",
        "\n",
        "Highest score = 95, Lowest score = 45\n",
        "\n",
        "Standard deviation = 12\n",
        "\n",
        "Here, we are describing the data from the 50 students but not making any predictions about other students.\n",
        "\n",
        "- Inferential Statistics\n",
        "\n",
        "Definition:\n",
        "Inferential statistics is the branch of statistics that makes predictions or generalizations about a population based on a sample. It uses probability theory to draw conclusions beyond the observed data.\n",
        "\n",
        "Key Features:\n",
        "\n",
        "Involves hypothesis testing, confidence intervals, regression analysis, and correlation.\n",
        "\n",
        "Helps in making decisions or predictions about a larger population.\n",
        "\n",
        "Relies on a sample rather than the entire population.\n",
        "\n",
        "Example:\n",
        "Suppose a researcher surveys 100 voters in a city to find their preference for an upcoming election:\n",
        "\n",
        "60% support Candidate A, 40% support Candidate B\n",
        "\n",
        "Using inferential statistics, the researcher might predict that Candidate A will win in the entire city, along with a margin of error (say ±5%).\n",
        "\n",
        "Question 2: What is sampling in statistics? Explain the differences between random\n",
        "and stratified sampling.\n",
        "-  Random Sampling\n",
        "\n",
        "Definition:\n",
        "Random sampling is a method where every individual in the population has an equal chance of being selected. The selection is completely by chance, without any bias.\n",
        "\n",
        "Key Features:\n",
        "\n",
        "Simple and easy to implement.\n",
        "\n",
        "No prior knowledge of the population is needed.\n",
        "\n",
        "Useful when the population is homogeneous (similar).\n",
        "\n",
        "Example:\n",
        "A teacher wants to select 5 students from a class of 50 to answer questions. She writes all students’ names on slips, mixes them, and picks 5 randomly.\n",
        "Here, every student has an equal chance of being selected.\n",
        "\n",
        "- Stratified Sampling\n",
        "\n",
        "Definition:\n",
        "Stratified sampling is a method where the population is divided into subgroups (strata) based on specific characteristics, and then random samples are taken from each subgroup.\n",
        "\n",
        "Key Features:\n",
        "\n",
        "Ensures that each subgroup is represented proportionally.\n",
        "\n",
        "Reduces sampling bias if the population is heterogeneous (diverse).\n",
        "\n",
        "Requires knowledge of the population structure.\n",
        "\n",
        "Example:\n",
        "A school has 100 students: 60 boys and 40 girls. A researcher wants to select 10 students:\n",
        "\n",
        "First, divide students into two strata: boys and girls.\n",
        "\n",
        "Then randomly select 6 boys and 4 girls proportionally.\n",
        "\n",
        "Question 3: Define mean, median, and mode. Explain why these measures of central\n",
        "tendency are important.\n",
        "-  Mean\n",
        "\n",
        "Definition:\n",
        "The mean (or average) is the sum of all data values divided by the total number of values.\n",
        "\n",
        "Formula:\n",
        "\n",
        "Mean\n",
        "=\n",
        "Sum of all observations\n",
        "Number of observations\n",
        "Mean=\n",
        "Number of observations\n",
        "Sum of all observations\n",
        "\t​\n",
        "\n",
        "\n",
        "Example:\n",
        "Data: 5, 7, 10, 8, 6\n",
        "\n",
        "Mean\n",
        "=\n",
        "5\n",
        "+\n",
        "7\n",
        "+\n",
        "10\n",
        "+\n",
        "8\n",
        "+\n",
        "6\n",
        "5\n",
        "=\n",
        "36\n",
        "5\n",
        "=\n",
        "7.2\n",
        "Mean=\n",
        "5\n",
        "5+7+10+8+6\n",
        "\t​\n",
        "\n",
        "=\n",
        "5\n",
        "36\n",
        "\t​\n",
        "\n",
        "=7.2\n",
        "\n",
        "Key Point:\n",
        "The mean is sensitive to extreme values (outliers).\n",
        "\n",
        "- Median\n",
        "\n",
        "Definition:\n",
        "The median is the middle value when the data is arranged in ascending or descending order. If there is an even number of values, it is the average of the two middle values.\n",
        "\n",
        "Example:\n",
        "Data: 5, 7, 10, 8, 6 → arrange in order: 5, 6, 7, 8, 10\n",
        "\n",
        "Median = 7 (middle value)\n",
        "\n",
        "Data: 5, 6, 7, 8 → median = (6 + 7)/2 = 6.5\n",
        "\n",
        "Key Point:\n",
        "The median is not affected by outliers, so it gives a better central value for skewed distributions.\n",
        "\n",
        "- Mode\n",
        "\n",
        "Definition:\n",
        "The mode is the value that occurs most frequently in the dataset.\n",
        "\n",
        "Example:\n",
        "Data: 5, 7, 10, 7, 6 → Mode = 7 (appears twice)\n",
        "\n",
        "Question 4: Explain skewness and kurtosis. What does a positive skew imply about the\n",
        "data?\n",
        "-  Skewness\n",
        "\n",
        "Definition:\n",
        "Skewness measures the asymmetry of a data distribution around its mean. It tells us whether the data is symmetrical or leans to one side.\n",
        "\n",
        "Types of Skewness:\n",
        "\n",
        "Positive Skew (Right-skewed):\n",
        "\n",
        "Tail on the right side is longer.\n",
        "\n",
        "Most data values are concentrated on the left.\n",
        "\n",
        "Mean > Median > Mode\n",
        "\n",
        "Negative Skew (Left-skewed):\n",
        "\n",
        "Tail on the left side is longer.\n",
        "\n",
        "Most data values are concentrated on the right.\n",
        "\n",
        "Mean < Median < Mode\n",
        "\n",
        "Example:\n",
        "\n",
        "Positive skew: Incomes of people in a city (most people earn low-to-moderate income, few earn very high).\n",
        "\n",
        "Implication of Positive Skew:\n",
        "\n",
        "The data has a long right tail, meaning there are some unusually high values.\n",
        "\n",
        "The mean is pulled to the right, so it is higher than the median.\n",
        "\n",
        "- Kurtosis\n",
        "\n",
        "Definition:\n",
        "Kurtosis measures the “peakedness” or flatness of a data distribution relative to a normal distribution.\n",
        "\n",
        "Types of Kurtosis:\n",
        "\n",
        "Leptokurtic (Kurtosis > 3):\n",
        "\n",
        "Tall and narrow peak.\n",
        "\n",
        "Data are concentrated around the mean.\n",
        "\n",
        "Mesokurtic (Kurtosis ≈ 3):\n",
        "\n",
        "Normal distribution shape.\n",
        "\n",
        "Platykurtic (Kurtosis < 3):\n",
        "\n",
        "Flat and wide peak.\n",
        "\n",
        "Data are more spread out.\n",
        "\n",
        "Example:\n",
        "\n",
        "Leptokurtic: Test scores where most students score near the average.\n",
        "\n",
        "Platykurtic: Test scores widely spread with no clear peak.\n",
        "\n"
      ],
      "metadata": {
        "id": "Frrf-dGO3TWe"
      }
    },
    {
      "cell_type": "markdown",
      "source": [
        "Question 5: Implement a Python program to compute the mean, median, and mode of\n",
        "a given list of numbers.\n",
        "numbers = [12, 15, 12, 18, 19, 12, 20, 22, 19, 19, 24, 24, 24, 26, 28]\n"
      ],
      "metadata": {
        "id": "-HspW2Yi4Oag"
      }
    },
    {
      "cell_type": "code",
      "execution_count": 1,
      "metadata": {
        "colab": {
          "base_uri": "https://localhost:8080/"
        },
        "id": "t2Jj5gJb3Jcd",
        "outputId": "3a4bcb8a-e58a-4ff8-d85d-2477c420df46"
      },
      "outputs": [
        {
          "output_type": "stream",
          "name": "stdout",
          "text": [
            "Numbers: [12, 15, 12, 18, 19, 12, 20, 22, 19, 19, 24, 24, 24, 26, 28]\n",
            "Mean: 19.6\n",
            "Median: 19\n",
            "Mode: 12\n"
          ]
        }
      ],
      "source": [
        "# Import required modules\n",
        "from statistics import mean, median, mode\n",
        "\n",
        "# Given list of numbers\n",
        "numbers = [12, 15, 12, 18, 19, 12, 20, 22, 19, 19, 24, 24, 24, 26, 28]\n",
        "\n",
        "# Calculate mean\n",
        "mean_value = mean(numbers)\n",
        "\n",
        "# Calculate median\n",
        "median_value = median(numbers)\n",
        "\n",
        "# Calculate mode\n",
        "mode_value = mode(numbers)\n",
        "\n",
        "# Display the results\n",
        "print(f\"Numbers: {numbers}\")\n",
        "print(f\"Mean: {mean_value}\")\n",
        "print(f\"Median: {median_value}\")\n",
        "print(f\"Mode: {mode_value}\")\n"
      ]
    },
    {
      "cell_type": "markdown",
      "source": [
        "Question 6: Compute the covariance and correlation coefficient between the following\n",
        "two datasets provided as lists in Python:\n",
        "list_x = [10, 20, 30, 40, 50]\n",
        "list_y = [15, 25, 35, 45, 60]"
      ],
      "metadata": {
        "id": "fA36iNt64SIO"
      }
    },
    {
      "cell_type": "code",
      "source": [
        "# Import required modules\n",
        "import numpy as np\n",
        "\n",
        "# Given datasets\n",
        "list_x = [10, 20, 30, 40, 50]\n",
        "list_y = [15, 25, 35, 45, 60]\n",
        "\n",
        "# Convert lists to numpy arrays\n",
        "x = np.array(list_x)\n",
        "y = np.array(list_y)\n",
        "\n",
        "# Compute covariance\n",
        "cov_matrix = np.cov(x, y, ddof=0)  # ddof=0 for population covariance\n",
        "cov_xy = cov_matrix[0, 1]\n",
        "\n",
        "# Compute correlation coefficient\n",
        "corr_matrix = np.corrcoef(x, y)\n",
        "corr_xy = corr_matrix[0, 1]\n",
        "\n",
        "# Display results\n",
        "print(f\"Covariance: {cov_xy}\")\n",
        "print(f\"Correlation coefficient: {corr_xy}\")\n"
      ],
      "metadata": {
        "colab": {
          "base_uri": "https://localhost:8080/"
        },
        "id": "P08NDBXc4VGz",
        "outputId": "60ad20a0-aa45-4661-cc57-03aa07c24ed3"
      },
      "execution_count": 2,
      "outputs": [
        {
          "output_type": "stream",
          "name": "stdout",
          "text": [
            "Covariance: 220.0\n",
            "Correlation coefficient: 0.995893206467704\n"
          ]
        }
      ]
    },
    {
      "cell_type": "markdown",
      "source": [
        "Question 7: Write a Python script to draw a boxplot for the following numeric list and\n",
        "identify its outliers. Explain the result:\n",
        "data = [12, 14, 14, 15, 18, 19, 19, 21, 22, 22, 23, 23, 24, 26, 29, 35]"
      ],
      "metadata": {
        "id": "K9mUwHLa4Zje"
      }
    },
    {
      "cell_type": "code",
      "source": [
        "# Import required libraries\n",
        "import matplotlib.pyplot as plt\n",
        "import numpy as np\n",
        "\n",
        "# Given data\n",
        "data = [12, 14, 14, 15, 18, 19, 19, 21, 22, 22, 23, 23, 24, 26, 29, 35]\n",
        "\n",
        "# Draw the boxplot\n",
        "plt.boxplot(data, vert=True, patch_artist=True)\n",
        "plt.title(\"Boxplot of Data\")\n",
        "plt.ylabel(\"Values\")\n",
        "plt.show()\n",
        "\n",
        "# Identify outliers using IQR\n",
        "Q1 = np.percentile(data, 25)  # First quartile\n",
        "Q3 = np.percentile(data, 75)  # Third quartile\n",
        "IQR = Q3 - Q1  # Interquartile range\n",
        "\n",
        "# Outlier boundaries\n",
        "lower_bound = Q1 - 1.5 * IQR\n",
        "upper_bound = Q3 + 1.5 * IQR\n",
        "\n",
        "# Find outliers\n",
        "outliers = [x for x in data if x < lower_bound or x > upper_bound]\n",
        "\n",
        "print(f\"Q1: {Q1}, Q3: {Q3}, IQR: {IQR}\")\n",
        "print(f\"Lower Bound: {lower_bound}, Upper Bound: {upper_bound}\")\n",
        "print(f\"Outliers: {outliers}\")\n"
      ],
      "metadata": {
        "colab": {
          "base_uri": "https://localhost:8080/",
          "height": 504
        },
        "id": "5vEEZT-C4b_x",
        "outputId": "65ffb73b-18b1-41cb-e5cc-8429e043a437"
      },
      "execution_count": 3,
      "outputs": [
        {
          "output_type": "display_data",
          "data": {
            "text/plain": [
              "<Figure size 640x480 with 1 Axes>"
            ],
            "image/png": "[encoded data removed]"
          },
          "metadata": {}
        },
        {
          "output_type": "stream",
          "name": "stdout",
          "text": [
            "Q1: 17.25, Q3: 23.25, IQR: 6.0\n",
            "Lower Bound: 8.25, Upper Bound: 32.25\n",
            "Outliers: [35]\n"
          ]
        }
      ]
    },
    {
      "cell_type": "markdown",
      "source": [
        "Question 8: You are working as a data analyst in an e-commerce company. The\n",
        "marketing team wants to know if there is a relationship between advertising spend and\n",
        "daily sales.\n",
        "● Explain how you would use covariance and correlation to explore this\n",
        "relationship.\n",
        "● Write Python code to compute the correlation between the two lists:\n",
        "advertising_spend = [200, 250, 300, 400, 500]\n",
        "daily_sales = [2200, 2450, 2750, 3200, 4000]\n"
      ],
      "metadata": {
        "id": "_m0i-9o04evO"
      }
    },
    {
      "cell_type": "code",
      "source": [
        "import numpy as np\n",
        "\n",
        "# Given data\n",
        "advertising_spend = [200, 250, 300, 400, 500]\n",
        "daily_sales = [2200, 2450, 2750, 3200, 4000]\n",
        "\n",
        "# Convert to numpy arrays\n",
        "x = np.array(advertising_spend)\n",
        "y = np.array(daily_sales)\n",
        "\n",
        "# Compute covariance\n",
        "cov_xy = np.cov(x, y, ddof=0)[0, 1]\n",
        "\n",
        "# Compute correlation coefficient\n",
        "corr_xy = np.corrcoef(x, y)[0, 1]\n",
        "\n",
        "# Display results\n",
        "print(f\"Covariance: {cov_xy}\")\n",
        "print(f\"Correlation coefficient: {corr_xy}\")\n"
      ],
      "metadata": {
        "colab": {
          "base_uri": "https://localhost:8080/"
        },
        "id": "al2UZRpC4hav",
        "outputId": "13e239b3-03b0-4a8a-866e-1e7fee779ec7"
      },
      "execution_count": 4,
      "outputs": [
        {
          "output_type": "stream",
          "name": "stdout",
          "text": [
            "Covariance: 67900.0\n",
            "Correlation coefficient: 0.9935824101653329\n"
          ]
        }
      ]
    },
    {
      "cell_type": "markdown",
      "source": [
        "Question 9: Your team has collected customer satisfaction survey data on a scale of\n",
        "1-10 and wants to understand its distribution before launching a new product.\n",
        "● Explain which summary statistics and visualizations (e.g. mean, standard\n",
        "deviation, histogram) you’d use.\n",
        "● Write Python code to create a histogram using Matplotlib for the survey data:\n",
        "survey_scores = [7, 8, 5, 9, 6, 7, 8, 9, 10, 4, 7, 6, 9, 8, 7]\n"
      ],
      "metadata": {
        "id": "2ULJfqVV4oEq"
      }
    },
    {
      "cell_type": "code",
      "source": [
        "import matplotlib.pyplot as plt\n",
        "\n",
        "# Given survey scores\n",
        "survey_scores = [7, 8, 5, 9, 6, 7, 8, 9, 10, 4, 7, 6, 9, 8, 7]\n",
        "\n",
        "# Create histogram\n",
        "plt.hist(survey_scores, bins=7, edgecolor='black', color='skyblue')  # bins=7 for scores 4-10\n",
        "plt.title(\"Customer Satisfaction Survey Scores\")\n",
        "plt.xlabel(\"Survey Score\")\n",
        "plt.ylabel(\"Frequency\")\n",
        "plt.xticks(range(4, 11))  # Set x-axis for scores 4 to 10\n",
        "plt.show()\n"
      ],
      "metadata": {
        "colab": {
          "base_uri": "https://localhost:8080/",
          "height": 472
        },
        "id": "mznP_sOE4tX7",
        "outputId": "82dcccab-a20c-4cdf-f3a7-7a8583996a66"
      },
      "execution_count": 5,
      "outputs": [
        {
          "output_type": "display_data",
          "data": {
            "text/plain": [
              "<Figure size 640x480 with 1 Axes>"
            ],
            "image/png": "[encoded data removed]"
          },
          "metadata": {}
        }
      ]
    },
    {
      "cell_type": "markdown",
      "source": [],
      "metadata": {
        "id": "kGfX8Bcv4xUp"
      }
    }
  ]
}