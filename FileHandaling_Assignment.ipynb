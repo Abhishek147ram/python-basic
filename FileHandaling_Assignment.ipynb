{
  "nbformat": 4,
  "nbformat_minor": 0,
  "metadata": {
    "colab": {
      "provenance": []
    },
    "kernelspec": {
      "name": "python3",
      "display_name": "Python 3"
    },
    "language_info": {
      "name": "python"
    }
  },
  "cells": [
    {
      "cell_type": "markdown",
      "source": [
        "# **File Handling Assignment**"
      ],
      "metadata": {
        "id": "sDEg_nzfN3HH"
      }
    },
    {
      "cell_type": "markdown",
      "source": [
        "1 What is the difference between interpreted and compiled languages?\n",
        " - Interpreted Languages\n",
        "Execution Method: Code is translated line by line at runtime by an interpreter.\n",
        "Speed: Slower since translation happens during execution.\n",
        "Examples: Python, JavaScript, Ruby.\n",
        "Pros: Easy to debug, no need to compile before running.\n",
        "Cons: Lower performance compared to compiled languages.\n",
        "Compiled Languages\n",
        "- Execution Method: Entire code is translated into machine code before execution by a compiler, producing an executable file.\n",
        "Speed: Faster since code runs directly as machine instructions.\n",
        "Examples: C, C++, Rust, Go.\n",
        "Pros: High performance, optimized execution.\n",
        "Cons: Compilation required before running; debugging may take longer.\n",
        "\n",
        "2 What is exception handling in Python?\n",
        " - Exception handling in Python is a mechanism to detect and respond to errors (exceptions) at runtime without stopping the entire program.\n",
        "\n",
        "3 What is the purpose of the finally block in exception handling?\n",
        "- The finally block in Python is used to define a section of code that will always execute, regardless of whether an exception occurs in the try block or not.\n",
        "\n",
        "4 What is logging in Python?\n",
        " - Logging in Python is the process of recording events that occur during a program's execution. It helps developers track what the program is doing, debug errors, and keep a record of runtime information.\n",
        "\n",
        "5 What is the significance of the __del__ method in Python?\n",
        " - The __del__ method is a destructor method in Python, called automatically when an object is about to be destroyed (i.e., when it goes out of scope or is explicitly deleted).\n",
        "\n",
        "6 What is the difference between import and from ... import in Python?\n",
        " - import Statement\n",
        "\n",
        "     - Imports the entire module.\n",
        "     - You must use the module name (namespace) to access its functions, classes, or variables.\n",
        "\n",
        "  - from ... import Statement\n",
        "\n",
        "     - Imports specific attributes (functions, classes, variables) directly from a module.\n",
        "     - You can use them without the module name.\n",
        "\n",
        "7 How can you handle multiple exceptions in Python?\n",
        " - Handling multiple exceptions in Python means using a single try block to catch and handle different types of errors that may occur during program execution.\n",
        "\n",
        "8 What is the purpose of the with statement when handling files in Python?\n",
        " - The with statement is used to simplify resource management (e.g., opening and closing files) by ensuring that resources are properly released after use, even if an error occurs during processing.\n",
        "\n",
        "9 What is the difference between multithreading and multiprocessing?\n",
        " - Multithreading\n",
        "\n",
        "     - Definition: Runs multiple threads (smaller units of a process) within the same process.\n",
        "\n",
        "     - Memory Usage: Threads share the same memory space.\n",
        "\n",
        "     - Best For: I/O-bound tasks (e.g., file operations, network requests) where CPU is often idle waiting for input/output.\n",
        "\n",
        "     - Limitation in Python: Due to the Global Interpreter Lock (GIL), only one thread executes Python bytecode at a time, limiting true parallelism for CPU-bound tasks.\n",
        "\n",
        "     - Example Use Case: Web scraping, downloading multiple files, handling multiple user requests in servers.\n",
        " - Multiprocessing\n",
        "\n",
        "     - Definition: Runs multiple processes, each with its own Python interpreter and memory space.\n",
        "\n",
        "     - Memory Usage: Each process has a separate memory space.\n",
        "\n",
        "     - Best For: CPU-bound tasks (e.g., mathematical computations, data processing) where full CPU cores are utilized.\n",
        "\n",
        "     - No GIL Limitation: Each process runs independently, achieving true parallelism.\n",
        "\n",
        "     - Example Use Case: Machine learning model training, image/video processing, large data computations.\n",
        "\n",
        "10 What are the advantages of using logging in a program?\n",
        " - Tracks Program Execution\n",
        "\n",
        " - Logs record events and provide insights into what the program is doing at different points.\n",
        "\n",
        " - Helps in Debugging\n",
        "\n",
        " - Developers can review logs to find where and why errors occurred without using print statements everywhere.\n",
        "\n",
        " - Error Diagnosis and Reporting\n",
        "\n",
        " - Logs capture error messages, warnings, and exceptions for future analysis.\n",
        "\n",
        " - Historical Record\n",
        "\n",
        " - Maintains a record of program execution for auditing, troubleshooting, and monitoring.\n",
        "\n",
        " - Flexible Output\n",
        "\n",
        " - Logs can be written to the console, files, or external systems for centralized monitoring.\n",
        "\n",
        " - Configurable Levels\n",
        "\n",
        " - Different logging levels (DEBUG, INFO, WARNING, ERROR, CRITICAL) allow filtering messages by importance.\n",
        "\n",
        " - Non-Intrusive\n",
        "\n",
        " - Unlike print(), logging can be easily turned on/off or redirected without modifying the program logic.\n",
        "\n",
        "11 What is memory management in Python?\n",
        " - Memory management in Python refers to how the interpreter allocates, tracks, and frees memory during program execution to ensure efficient use of system resources.\n",
        "\n",
        "12 What are the basic steps involved in exception handling in Python?\n",
        " - Identify Risky Code (try block)\n",
        "\n",
        " - Place code that might raise an exception inside a try block.\n",
        "\n",
        " - Catch Exceptions (except block)\n",
        "\n",
        " - Use one or more except blocks to handle specific or general exceptions.\n",
        "\n",
        " - Optional Else Block (else block)\n",
        "\n",
        " - Runs if no exceptions occur in the try block.\n",
        "\n",
        " - Cleanup Actions (finally block)\n",
        "\n",
        " - Code inside finally runs whether or not an exception occurred (e.g., closing files, releasing resources).\n",
        "\n",
        "13 Why is memory management important in Python?\n",
        " - Efficient Use of Resources\n",
        "\n",
        " - Prevents unnecessary memory consumption, ensuring programs run smoothly without exhausting system resources.\n",
        "\n",
        " - Improved Performance\n",
        "\n",
        " - Proper memory allocation and garbage collection reduce lag and speed up program execution.\n",
        "\n",
        " - Prevents Memory Leaks\n",
        "\n",
        " - Ensures unused objects are released, avoiding situations where memory is allocated but never freed.\n",
        "\n",
        " - Automatic Garbage Collection\n",
        "\n",
        " - Python’s built-in garbage collector frees developers from manual memory management, reducing errors.\n",
        "\n",
        " - Stability and Scalability\n",
        "\n",
        " - Helps maintain performance when working with large datasets or long-running applications.\n",
        "\n",
        "14 What is the role of try and except in exception handling?\n",
        " - try Block\n",
        "\n",
        "     - Contains the code that might raise an exception.\n",
        "\n",
        "     - If no exception occurs, the except block is skipped.\n",
        "\n",
        " - except Block\n",
        "\n",
        "     - Executes only when an exception occurs in the try block.\n",
        "\n",
        "     - Can handle specific exceptions or a general exception.\n",
        "\n",
        "15 How does Python's garbage collection system work?\n",
        " - Reference Counting\n",
        "\n",
        "   - Every object keeps track of how many references point to it.\n",
        "\n",
        "   - When the reference count drops to zero, the object is immediately destroyed.\n",
        "\n",
        " - Cyclic Garbage Collector\n",
        "\n",
        "   - Handles situations where objects reference each other (reference cycles), which reference counting alone cannot resolve.\n",
        "\n",
        "   - Periodically scans for such cycles and frees the memory.\n",
        "\n",
        "16 What is the purpose of the else block in exception handling?\n",
        " - The else block in Python exception handling is used to define code that should run only if no exception occurs in the try block.\n",
        "\n",
        "17 What are the common logging levels in Python?\n",
        " - Python's logging module defines several logging levels to categorize messages by importance or severity:\n",
        "\n",
        " - DEBUG\n",
        "   - Detailed information for diagnosing problems (used during development).\n",
        " - INFO\n",
        "   - General information confirming that things are working as expected.\n",
        " - WARNING\n",
        "   - Indicates something unexpected happened, but the program is still running.\n",
        " - ERROR\n",
        "   - A serious problem has occurred, preventing a part of the program from functioning.\n",
        " - CRITICAL\n",
        "   - A severe error indicating the program may not continue running.\n",
        "\n",
        "18 What is the difference between os.fork() and multiprocessing in Python?\n",
        " - os.fork()\n",
        "\n",
        "   - Definition: Creates a new child process by duplicating the current process (works like Unix system call fork()).\n",
        "\n",
        "   - Platform Support: Available only on Unix-like systems (Linux, macOS); not supported on Windows.\n",
        "\n",
        "   - Usage: Low-level process creation; requires manual handling of process IDs and communication.\n",
        " - multiprocessing Module\n",
        "\n",
        "   - Definition: A high-level Python module for creating and managing multiple processes.\n",
        "\n",
        "   - Platform Support: Cross-platform (works on Windows, Linux, macOS).\n",
        "\n",
        "   - Usage: Easier process management, provides queues, pipes, shared memory, and pools for inter-process communication.\n",
        "\n",
        "19 What is the importance of closing a file in Python?\n",
        " - Flushes Data to Disk\n",
        "\n",
        "   - Any data stored in a buffer (temporary memory) is written to the file when closed.\n",
        "\n",
        " - Frees System Resources\n",
        "\n",
        "   - Closing releases memory and file descriptors, preventing resource leaks.\n",
        "\n",
        " - Prevents Data Corruption\n",
        "\n",
        "   - Ensures that file contents are saved properly, especially in write (w) or append (a) mode.\n",
        "\n",
        " - Avoids Errors in Other Programs\n",
        "\n",
        "   - Some systems lock files while open; closing allows other programs to access them.\n",
        "\n",
        "20 What is the difference between file.read() and file.readline() in Python?\n",
        " - file.read()\n",
        "\n",
        "   - Reads the entire file or a specified number of bytes.\n",
        "\n",
        "   - Returns the content as a single string.\n",
        " - file.readline()\n",
        "\n",
        "   - Reads only one line from the file at a time.\n",
        "\n",
        "   - Returns the line as a string, including the newline character \\n.\n",
        "\n",
        "21 What is the logging module in Python used for?\n",
        "\n",
        " - The logging module in Python is used to record (log) messages about a program's execution. It helps track events, debug issues, and monitor applications without using print() statements.\n",
        "   - Debugging – Capture detailed information to trace issues.\n",
        "\n",
        "   - Error Tracking – Log warnings, errors, and critical failures.\n",
        "\n",
        "   - Monitoring – Keep a record of program behavior for analysis.\n",
        "\n",
        "   - Persistent Logs – Store logs in files, databases, or external systems.\n",
        "\n",
        "   - Configurable Levels – Filter messages by importance (DEBUG, INFO, WARNING, ERROR, CRITICAL).\n",
        "\n",
        "22 What is the os module in Python used for in file handling?\n",
        " - The os module in Python provides functions to interact with the operating system, particularly for tasks related to file and directory management.\n",
        "\n",
        "23 What are the challenges associated with memory management in Python?\n",
        " - Garbage Collection Overhead\n",
        "\n",
        "   - Automatic garbage collection can introduce performance overhead, especially in programs with frequent object creation and deletion.\n",
        "\n",
        " - Reference Cycles\n",
        "\n",
        "   - Objects referencing each other may prevent reference counts from reaching zero, requiring additional cycle detection by the garbage collector.\n",
        "\n",
        " - Memory Leaks\n",
        "\n",
        "  - Occur when objects remain referenced unintentionally (e.g., stored in global structures or caches), preventing garbage collection.\n",
        "\n",
        " - Fragmentation\n",
        "\n",
        "   - Frequent allocation and deallocation of memory blocks can lead to fragmentation, reducing available memory for large objects.\n",
        "\n",
        " - Global Interpreter Lock (GIL) Impact\n",
        "\n",
        "   - In CPython, the GIL prevents true parallel execution of threads, limiting efficient memory use in multithreaded programs.\n",
        "\n",
        " - Manual Intervention\n",
        "\n",
        "   - While automatic, sometimes developers need to use the gc module to force ga\n",
        "  rbage collection or manage resources explicitly.\n",
        "\n",
        "24 How do you raise an exception manually in Python?\n",
        " - In Python, you can raise an exception manually using the raise statement, typically with a built-in or custom exception class.\n",
        "\n",
        "25 Why is it important to use multithreading in certain applications?\n",
        " - Improved Performance for I/O-Bound Tasks\n",
        "\n",
        "   - Ideal for applications waiting on external resources (file I/O, network requests, database queries).\n",
        "\n",
        "   - While one thread waits, others can continue processing.\n",
        "\n",
        " - Responsiveness in User Interfaces\n",
        "\n",
        "   - Prevents freezing by allowing background operations (e.g., file downloads) while keeping the UI active.\n",
        "\n",
        " - Efficient Resource Utilization\n",
        "\n",
        "   - Makes better use of CPU time by overlapping I/O operations with computation.\n",
        "\n",
        " - Parallel Task Execution\n",
        "\n",
        "   - Allows multiple tasks (e.g., handling multiple client requests in a server) to run simultaneously.\n",
        "\n",
        " - Reduced Latency\n",
        "\n",
        "   - Tasks can complete faster by overlapping operations, improving application responsiveness."
      ],
      "metadata": {
        "id": "T8L4iw6HOJAs"
      }
    },
    {
      "cell_type": "markdown",
      "source": [
        "# **Practice Question**"
      ],
      "metadata": {
        "id": "TC5l9JeFYkMi"
      }
    },
    {
      "cell_type": "markdown",
      "source": [
        " How can you open a file for writing in Python and write a string to it?\n"
      ],
      "metadata": {
        "id": "doAoscjsYpfv"
      }
    },
    {
      "cell_type": "code",
      "source": [
        "file = open(\"example.txt\", \"w\")\n",
        "file.write(\"Hello, Python!\")\n",
        "file.close()\n"
      ],
      "metadata": {
        "id": "trnVuk7rYi8L"
      },
      "execution_count": 2,
      "outputs": []
    },
    {
      "cell_type": "markdown",
      "source": [
        "Write a Python program to read the contents of a file and print each line?"
      ],
      "metadata": {
        "id": "1B7OZW4zZDpa"
      }
    },
    {
      "cell_type": "code",
      "source": [
        "with open(\"example.txt\", \"r\") as file:\n",
        "   for line in file:\n",
        "        print(line.strip())\n"
      ],
      "metadata": {
        "colab": {
          "base_uri": "https://localhost:8080/"
        },
        "id": "UmshwV_jZCK_",
        "outputId": "7f0f850a-1e1c-4f3d-8ed7-e701a77d3f64"
      },
      "execution_count": 3,
      "outputs": [
        {
          "output_type": "stream",
          "name": "stdout",
          "text": [
            "Hello, Python!\n"
          ]
        }
      ]
    },
    {
      "cell_type": "markdown",
      "source": [
        "How would you handle a case where the file doesn't exist while trying to open it for reading?"
      ],
      "metadata": {
        "id": "7r0pMGG_Zemy"
      }
    },
    {
      "cell_type": "code",
      "source": [
        "try:\n",
        "    with open(\"example.txt\", \"r\") as file:\n",
        "        print(file.read())\n",
        "except FileNotFoundError:\n",
        "    print(\"Error: The file does not exist.\")\n"
      ],
      "metadata": {
        "colab": {
          "base_uri": "https://localhost:8080/"
        },
        "id": "elRco920ZgNA",
        "outputId": "6d5eba23-b88c-43c7-e74a-827fdf537923"
      },
      "execution_count": 4,
      "outputs": [
        {
          "output_type": "stream",
          "name": "stdout",
          "text": [
            "Hello, Python!\n"
          ]
        }
      ]
    },
    {
      "cell_type": "markdown",
      "source": [
        "Write a Python script that reads from one file and writes its content to another file?"
      ],
      "metadata": {
        "id": "pjy1NgMCZpuE"
      }
    },
    {
      "cell_type": "code",
      "source": [
        "try:\n",
        "    with open(\"source.txt\", \"r\") as src:\n",
        "        content = src.read()\n",
        "\n",
        "    with open(\"destination.txt\", \"w\") as dest:\n",
        "        dest.write(content)\n",
        "\n",
        "    print(\"File copied successfully.\")\n",
        "\n",
        "except FileNotFoundError:\n",
        "    print(\"Error: Source file does not exist.\")\n"
      ],
      "metadata": {
        "colab": {
          "base_uri": "https://localhost:8080/"
        },
        "id": "P59t0ZoCZot1",
        "outputId": "e919ffc4-d0ac-4b9d-fbbb-5c90472a2192"
      },
      "execution_count": 5,
      "outputs": [
        {
          "output_type": "stream",
          "name": "stdout",
          "text": [
            "Error: Source file does not exist.\n"
          ]
        }
      ]
    },
    {
      "cell_type": "markdown",
      "source": [
        "How would you catch and handle division by zero error in Python?\n"
      ],
      "metadata": {
        "id": "NdyDZOSIZ2nJ"
      }
    },
    {
      "cell_type": "code",
      "source": [
        "try:\n",
        "    num = int(input(\"Enter a number: \"))\n",
        "    result = 10 / num\n",
        "    print(f\"Result: {result}\")\n",
        "except ZeroDivisionError:\n",
        "    print(\"Error: Division by zero is not allowed.\")\n"
      ],
      "metadata": {
        "colab": {
          "base_uri": "https://localhost:8080/"
        },
        "id": "rOlSlrYxZ1Gp",
        "outputId": "7aee4491-2085-4a9b-fadf-b5656c323b59"
      },
      "execution_count": 6,
      "outputs": [
        {
          "output_type": "stream",
          "name": "stdout",
          "text": [
            "Enter a number: 2\n",
            "Result: 5.0\n"
          ]
        }
      ]
    },
    {
      "cell_type": "markdown",
      "source": [
        "Write a Python program that logs an error message to a log file when a division by zero exception occurs?\n"
      ],
      "metadata": {
        "id": "A8hsA37LaFRX"
      }
    },
    {
      "cell_type": "code",
      "source": [
        "import logging\n",
        "logging.basicConfig(filename=\"errors.log\",\n",
        "                    level=logging.ERROR,\n",
        "                    format=\"%(asctime)s - %(levelname)s - %(message)s\")\n",
        "\n",
        "try:\n",
        "    num = int(input(\"Enter a number: \"))\n",
        "    result = 10 / num\n",
        "    print(f\"Result: {result}\")\n",
        "except ZeroDivisionError:\n",
        "    logging.error(\"Division by zero attempted.\")\n",
        "    print(\"Error: Cannot divide by zero. Logged to errors.log.\")\n"
      ],
      "metadata": {
        "colab": {
          "base_uri": "https://localhost:8080/"
        },
        "id": "QGMcYVQgZ_jH",
        "outputId": "811bd0c4-3bc2-4c08-b252-c5ddf8d367d5"
      },
      "execution_count": 7,
      "outputs": [
        {
          "output_type": "stream",
          "name": "stdout",
          "text": [
            "Enter a number: 2\n",
            "Result: 5.0\n"
          ]
        }
      ]
    },
    {
      "cell_type": "markdown",
      "source": [
        "How do you log information at different levels (INFO, ERROR, WARNING) in Python using the logging module?"
      ],
      "metadata": {
        "id": "sv4C1w-iaWmO"
      }
    },
    {
      "cell_type": "code",
      "source": [
        "import logging\n",
        "logging.basicConfig(filename=\"app.log\",\n",
        "                    level=logging.DEBUG,\n",
        "                    format=\"%(asctime)s - %(levelname)s - %(message)s\")\n",
        "\n",
        "logging.debug(\"Debug message: useful for diagnosing problems.\")\n",
        "logging.info(\"Info message: program is running as expected.\")\n",
        "logging.warning(\"Warning message: something unexpected happened.\")\n",
        "logging.error(\"Error message: a problem occurred.\")\n",
        "logging.critical(\"Critical message: severe problem, program may stop.\")\n"
      ],
      "metadata": {
        "colab": {
          "base_uri": "https://localhost:8080/"
        },
        "id": "5f-t5TPnaPPc",
        "outputId": "7cb3ff10-a5aa-4117-aa98-275af6a2bafb"
      },
      "execution_count": 8,
      "outputs": [
        {
          "output_type": "stream",
          "name": "stderr",
          "text": [
            "WARNING:root:Warning message: something unexpected happened.\n",
            "ERROR:root:Error message: a problem occurred.\n",
            "CRITICAL:root:Critical message: severe problem, program may stop.\n"
          ]
        }
      ]
    },
    {
      "cell_type": "markdown",
      "source": [
        "Write a program to handle a file opening error using exception handling?"
      ],
      "metadata": {
        "id": "Nn5nZ9zrakUg"
      }
    },
    {
      "cell_type": "code",
      "source": [
        "try:\n",
        "    with open(\"data.txt\", \"r\") as file:\n",
        "        content = file.read()\n",
        "        print(content)\n",
        "\n",
        "except FileNotFoundError:\n",
        "    print(\"Error: The file does not exist.\")\n",
        "except PermissionError:\n",
        "    print(\"Error: You do not have permission to open this file.\")\n",
        "except Exception as e:\n",
        "    print(f\"An unexpected error occurred: {e}\")\n"
      ],
      "metadata": {
        "colab": {
          "base_uri": "https://localhost:8080/"
        },
        "id": "2qosrMUKaf1j",
        "outputId": "089d72bc-3381-4bd1-8db5-31233b00cda3"
      },
      "execution_count": 9,
      "outputs": [
        {
          "output_type": "stream",
          "name": "stdout",
          "text": [
            "Error: The file does not exist.\n"
          ]
        }
      ]
    },
    {
      "cell_type": "markdown",
      "source": [
        "How can you read a file line by line and store its content in a list in Python?"
      ],
      "metadata": {
        "id": "iyQZGVLWaxmX"
      }
    },
    {
      "cell_type": "code",
      "source": [
        "lines = []\n",
        "with open(\"example.txt\", \"r\") as file:\n",
        "    for line in file:\n",
        "        lines.append(line.strip())\n",
        "\n",
        "print(lines)\n"
      ],
      "metadata": {
        "colab": {
          "base_uri": "https://localhost:8080/"
        },
        "id": "VmezCF2aat83",
        "outputId": "6c029376-52ce-4f6e-8d2b-e801ff3fb3b4"
      },
      "execution_count": 10,
      "outputs": [
        {
          "output_type": "stream",
          "name": "stdout",
          "text": [
            "['Hello, Python!']\n"
          ]
        }
      ]
    },
    {
      "cell_type": "markdown",
      "source": [
        "How can you append data to an existing file in Python?"
      ],
      "metadata": {
        "id": "SnM6PblsbBa4"
      }
    },
    {
      "cell_type": "code",
      "source": [
        "with open(\"example.txt\", \"a\") as file:\n",
        "    file.write(\"\\nThis is a new line added to the file.\")\n"
      ],
      "metadata": {
        "id": "SJEfc9Ima-hk"
      },
      "execution_count": 11,
      "outputs": []
    },
    {
      "cell_type": "markdown",
      "source": [
        "Write a Python program that uses a try-except block to handle an error when attempting to access a\n",
        "dictionary key that doesn't exist?"
      ],
      "metadata": {
        "id": "b6oR4fnSbWE8"
      }
    },
    {
      "cell_type": "code",
      "source": [
        "my_dict = {\"name\": \"Alice\", \"age\": 25}\n",
        "\n",
        "try:\n",
        "    print(\"Address:\", my_dict[\"address\"])\n",
        "except KeyError:\n",
        "    print(\"Error: The key does not exist in the dictionary.\")\n"
      ],
      "metadata": {
        "colab": {
          "base_uri": "https://localhost:8080/"
        },
        "id": "SYh0ZRmSbKZ2",
        "outputId": "f15f5a5c-a5c0-4210-abbf-411755ea0b2e"
      },
      "execution_count": 12,
      "outputs": [
        {
          "output_type": "stream",
          "name": "stdout",
          "text": [
            "Error: The key does not exist in the dictionary.\n"
          ]
        }
      ]
    },
    {
      "cell_type": "markdown",
      "source": [
        "Write a program that demonstrates using multiple except blocks to handle different types of exceptions?"
      ],
      "metadata": {
        "id": "wnkLfCncbj07"
      }
    },
    {
      "cell_type": "code",
      "source": [
        "try:\n",
        "    num = int(input(\"Enter a number: \"))\n",
        "    result = 10 / num\n",
        "    print(f\"Result: {result}\")\n",
        "\n",
        "except ValueError:\n",
        "    print(\"Error: Invalid input! Please enter an integer.\")\n",
        "\n",
        "except ZeroDivisionError:\n",
        "    print(\"Error: Division by zero is not allowed.\")\n",
        "\n",
        "except Exception as e:\n",
        "    print(f\"An unexpected error occurred: {e}\")\n"
      ],
      "metadata": {
        "colab": {
          "base_uri": "https://localhost:8080/"
        },
        "id": "gGv4UtfebijZ",
        "outputId": "f5f37281-ec49-408e-ac8f-cbedd657c244"
      },
      "execution_count": 13,
      "outputs": [
        {
          "output_type": "stream",
          "name": "stdout",
          "text": [
            "Enter a number: 5\n",
            "Result: 2.0\n"
          ]
        }
      ]
    },
    {
      "cell_type": "markdown",
      "source": [
        " How would you check if a file exists before attempting to read it in Python?"
      ],
      "metadata": {
        "id": "hlmHD_Hmbuyl"
      }
    },
    {
      "cell_type": "code",
      "source": [
        "import os\n",
        "\n",
        "file_path = \"example.txt\"\n",
        "\n",
        "if os.path.exists(file_path):\n",
        "    with open(file_path, \"r\") as file:\n",
        "        content = file.read()\n",
        "        print(content)\n",
        "else:\n",
        "    print(\"Error: File does not exist.\")\n"
      ],
      "metadata": {
        "colab": {
          "base_uri": "https://localhost:8080/"
        },
        "id": "FV3Ageg7bsKm",
        "outputId": "0d6b4b8d-60ab-4bec-d2f7-755fd1242f89"
      },
      "execution_count": 14,
      "outputs": [
        {
          "output_type": "stream",
          "name": "stdout",
          "text": [
            "Hello, Python!\n",
            "This is a new line added to the file.\n"
          ]
        }
      ]
    },
    {
      "cell_type": "markdown",
      "source": [
        "Write a program that uses the logging module to log both informational and error messages?"
      ],
      "metadata": {
        "id": "0CnZecIYb8-a"
      }
    },
    {
      "cell_type": "code",
      "source": [
        "import logging\n",
        "logging.basicConfig(\n",
        "    filename=\"app.log\",\n",
        "    level=logging.INFO,\n",
        "    format=\"%(asctime)s - %(levelname)s - %(message)s\"\n",
        ")\n",
        "\n",
        "logging.info(\"Program started successfully.\")\n",
        "\n",
        "try:\n",
        "    num = int(input(\"Enter a number to divide 10: \"))\n",
        "    result = 10 / num\n",
        "    logging.info(f\"Division successful: 10 / {num} = {result}\")\n",
        "except ZeroDivisionError:\n",
        "    logging.error(\"Error: Division by zero attempted.\")\n",
        "except ValueError:\n",
        "    logging.error(\"Error: Invalid input, not a number.\")\n"
      ],
      "metadata": {
        "colab": {
          "base_uri": "https://localhost:8080/"
        },
        "id": "KIx9CMSgb7qV",
        "outputId": "a2edfab9-c4fa-437f-95ab-0946be503267"
      },
      "execution_count": 15,
      "outputs": [
        {
          "name": "stdout",
          "output_type": "stream",
          "text": [
            "Enter a number to divide 10: 10\n"
          ]
        }
      ]
    },
    {
      "cell_type": "markdown",
      "source": [
        "Write a Python program that prints the content of a file and handles the case when the file is empty?"
      ],
      "metadata": {
        "id": "yfbCf3RRcRrS"
      }
    },
    {
      "cell_type": "code",
      "source": [
        "try:\n",
        "    with open(\"example.txt\", \"r\") as file:\n",
        "        content = file.read()\n",
        "        if content:\n",
        "            print(\"File content:\")\n",
        "            print(content)\n",
        "        else:\n",
        "            print(\"The file is empty.\")\n",
        "except FileNotFoundError:\n",
        "    print(\"Error: The file does not exist.\")\n"
      ],
      "metadata": {
        "colab": {
          "base_uri": "https://localhost:8080/"
        },
        "id": "GKW7hX9AcJMj",
        "outputId": "dbda36fc-65ef-4ceb-9392-8e11f2074305"
      },
      "execution_count": 16,
      "outputs": [
        {
          "output_type": "stream",
          "name": "stdout",
          "text": [
            "File content:\n",
            "Hello, Python!\n",
            "This is a new line added to the file.\n"
          ]
        }
      ]
    },
    {
      "cell_type": "markdown",
      "source": [
        " Demonstrate how to use memory profiling to check the memory usage of a small program?"
      ],
      "metadata": {
        "id": "Qqt_mMTncVtB"
      }
    },
    {
      "cell_type": "code",
      "source": [
        "from memory_profiler import profile\n",
        "\n",
        "@profile\n",
        "def my_function():\n",
        "    data = [i for i in range(100000)]  # Allocate a list\n",
        "    total = sum(data)\n",
        "    print(f\"Sum: {total}\")\n",
        "\n",
        "if __name__ == \"__main__\":\n",
        "    my_function()\n"
      ],
      "metadata": {
        "id": "gPb2M6uWcgpq"
      },
      "execution_count": null,
      "outputs": []
    },
    {
      "cell_type": "markdown",
      "source": [
        " Write a Python program to create and write a list of numbers to a file, one number per line?"
      ],
      "metadata": {
        "id": "ZO17ImBTcmcn"
      }
    },
    {
      "cell_type": "code",
      "source": [
        "numbers = [10, 20, 30, 40, 50]\n",
        "with open(\"numbers.txt\", \"w\") as file:\n",
        "    for number in numbers:\n",
        "        file.write(f\"{number}\\n\")\n",
        "\n",
        "print(\"Numbers written to numbers.txt successfully.\")\n"
      ],
      "metadata": {
        "colab": {
          "base_uri": "https://localhost:8080/"
        },
        "id": "k4unsFUbcrzz",
        "outputId": "21f914cb-7537-4c89-d354-be1eed7d0b73"
      },
      "execution_count": 18,
      "outputs": [
        {
          "output_type": "stream",
          "name": "stdout",
          "text": [
            "Numbers written to numbers.txt successfully.\n"
          ]
        }
      ]
    },
    {
      "cell_type": "markdown",
      "source": [
        "How would you implement a basic logging setup that logs to a file with rotation after 1MB?"
      ],
      "metadata": {
        "id": "XkHvWwySdDYT"
      }
    },
    {
      "cell_type": "code",
      "source": [
        "import logging\n",
        "from logging.handlers import RotatingFileHandler\n",
        "\n",
        "handler = RotatingFileHandler(\n",
        "    \"app.log\",\n",
        "    maxBytes=1_000_000,\n",
        "    backupCount=3\n",
        ")\n",
        "\n",
        "logging.basicConfig(\n",
        "    handlers=[handler],\n",
        "    level=logging.INFO,\n",
        "    format=\"%(asctime)s - %(levelname)s - %(message)s\"\n",
        ")\n",
        "\n",
        "logging.info(\"Program started\")\n",
        "logging.warning(\"This is a warning\")\n",
        "logging.error(\"This is an error\")\n"
      ],
      "metadata": {
        "colab": {
          "base_uri": "https://localhost:8080/"
        },
        "id": "pM5dw_4jdB3Z",
        "outputId": "711544e9-e942-4483-ced3-e42b1293a1c5"
      },
      "execution_count": 19,
      "outputs": [
        {
          "output_type": "stream",
          "name": "stderr",
          "text": [
            "WARNING:root:This is a warning\n",
            "ERROR:root:This is an error\n"
          ]
        }
      ]
    },
    {
      "cell_type": "markdown",
      "source": [
        "Write a program that handles both IndexError and KeyError using a try-except block?"
      ],
      "metadata": {
        "id": "_G13s3LTda6p"
      }
    },
    {
      "cell_type": "code",
      "source": [
        "my_list = [10, 20, 30]\n",
        "my_dict = {\"name\": \"Alice\", \"age\": 25}\n",
        "\n",
        "try:\n",
        "    print(\"List element:\", my_list[5])\n",
        "    print(\"Dictionary value:\", my_dict[\"address\"])\n",
        "\n",
        "except IndexError:\n",
        "    print(\"Error: List index is out of range.\")\n",
        "\n",
        "except KeyError:\n",
        "    print(\"Error: Key does not exist in the dictionary.\")\n"
      ],
      "metadata": {
        "colab": {
          "base_uri": "https://localhost:8080/"
        },
        "id": "x9ldQKaMdTko",
        "outputId": "0a44bcaf-754f-4cbd-d0cf-1303c5be7ac9"
      },
      "execution_count": 20,
      "outputs": [
        {
          "output_type": "stream",
          "name": "stdout",
          "text": [
            "Error: List index is out of range.\n"
          ]
        }
      ]
    },
    {
      "cell_type": "markdown",
      "source": [
        "How would you open a file and read its contents using a context manager in Python?"
      ],
      "metadata": {
        "id": "bnKvuABidpoF"
      }
    },
    {
      "cell_type": "code",
      "source": [
        "\n",
        "with open(\"example.txt\", \"r\") as file:\n",
        "    content = file.read()\n",
        "    print(content)\n"
      ],
      "metadata": {
        "colab": {
          "base_uri": "https://localhost:8080/"
        },
        "id": "djVzucwwdojo",
        "outputId": "c8912a30-fdff-4c4c-8ca4-64c5431aab1a"
      },
      "execution_count": 21,
      "outputs": [
        {
          "output_type": "stream",
          "name": "stdout",
          "text": [
            "Hello, Python!\n",
            "This is a new line added to the file.\n"
          ]
        }
      ]
    },
    {
      "cell_type": "markdown",
      "source": [
        "Write a Python program that reads a file and prints the number of occurrences of a specific word?"
      ],
      "metadata": {
        "id": "TqFT-8khdyT3"
      }
    },
    {
      "cell_type": "code",
      "source": [
        "search_word = \"Python\"\n",
        "count = 0\n",
        "\n",
        "try:\n",
        "    with open(\"example.txt\", \"r\") as file:\n",
        "        for line in file:\n",
        "            words = line.strip().split()\n",
        "            count += words.count(search_word)\n",
        "\n",
        "    print(f\"The word '{search_word}' occurred {count} times in the file.\")\n",
        "\n",
        "except FileNotFoundError:\n",
        "    print(\"Error: The file does not exist.\")\n"
      ],
      "metadata": {
        "colab": {
          "base_uri": "https://localhost:8080/"
        },
        "id": "FHm9xyYydxX7",
        "outputId": "59ace600-5e4a-48a0-82d3-7a0fcd56ae53"
      },
      "execution_count": 22,
      "outputs": [
        {
          "output_type": "stream",
          "name": "stdout",
          "text": [
            "The word 'Python' occurred 0 times in the file.\n"
          ]
        }
      ]
    },
    {
      "cell_type": "markdown",
      "source": [
        "How can you check if a file is empty before attempting to read its contents?"
      ],
      "metadata": {
        "id": "5j3OjZmRd8Ah"
      }
    },
    {
      "cell_type": "code",
      "source": [
        "import os\n",
        "\n",
        "file_path = \"example.txt\"\n",
        "\n",
        "if os.path.exists(file_path) and os.path.getsize(file_path) > 0:\n",
        "    with open(file_path, \"r\") as file:\n",
        "        content = file.read()\n",
        "        print(content)\n",
        "else:\n",
        "    print(\"The file is empty or does not exist.\")\n"
      ],
      "metadata": {
        "colab": {
          "base_uri": "https://localhost:8080/"
        },
        "id": "g8_3s_gfd6sG",
        "outputId": "5dcd2bbf-1f5a-43bd-95a2-6414769669b1"
      },
      "execution_count": 23,
      "outputs": [
        {
          "output_type": "stream",
          "name": "stdout",
          "text": [
            "Hello, Python!\n",
            "This is a new line added to the file.\n"
          ]
        }
      ]
    },
    {
      "cell_type": "markdown",
      "source": [
        "Write a Python program that writes to a log file when an error occurs during file handling."
      ],
      "metadata": {
        "id": "o8om30jIeGh-"
      }
    },
    {
      "cell_type": "code",
      "source": [
        "import logging\n",
        "logging.basicConfig(\n",
        "    filename=\"file_errors.log\",\n",
        "    level=logging.ERROR,\n",
        "    format=\"%(asctime)s - %(levelname)s - %(message)s\"\n",
        ")\n",
        "\n",
        "try:\n",
        "    with open(\"example.txt\", \"r\") as file:\n",
        "        content = file.read()\n",
        "        print(content)\n",
        "except FileNotFoundError as e:\n",
        "    logging.error(f\"File not found: {e}\")\n",
        "    print(\"Error: File not found. Check log for details.\")\n",
        "except PermissionError as e:\n",
        "    logging.error(f\"Permission denied: {e}\")\n",
        "    print(\"Error: Permission denied. Check log for details.\")\n",
        "except Exception as e:\n",
        "    logging.error(f\"An unexpected error occurred: {e}\")\n",
        "    print(\"An unexpected error occurred. Check log for details.\")\n"
      ],
      "metadata": {
        "colab": {
          "base_uri": "https://localhost:8080/"
        },
        "id": "wBQjSZIAeDNz",
        "outputId": "d8d27b35-7d75-4aff-d5a9-bad4994b5357"
      },
      "execution_count": 24,
      "outputs": [
        {
          "output_type": "stream",
          "name": "stdout",
          "text": [
            "Hello, Python!\n",
            "This is a new line added to the file.\n"
          ]
        }
      ]
    }
  ]
}