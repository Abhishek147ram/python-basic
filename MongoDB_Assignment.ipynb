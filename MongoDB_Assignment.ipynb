{
  "nbformat": 4,
  "nbformat_minor": 0,
  "metadata": {
    "colab": {
      "provenance": []
    },
    "kernelspec": {
      "name": "python3",
      "display_name": "Python 3"
    },
    "language_info": {
      "name": "python"
    }
  },
  "cells": [
    {
      "cell_type": "markdown",
      "source": [
        "# **Theoretical Questions**"
      ],
      "metadata": {
        "id": "YxbeTV2Qj_WJ"
      }
    },
    {
      "cell_type": "markdown",
      "source": [
        "1) What are the key differences between SQL and NoSQL database?\n",
        "\n",
        "-  SQL (Relational Databases):\n",
        "\n",
        "Use structured, tabular data (rows and columns).\n",
        "\n",
        "Data is organized into tables with predefined schemas.\n",
        "\n",
        "Examples: MySQL, PostgreSQL, Oracle, SQL Server.\n",
        "\n",
        "- NoSQL (Non-Relational Databases):\n",
        "\n",
        "Use flexible models: key-value pairs, documents, column-family, or graphs.\n",
        "\n",
        "Schema-less or schema-flexible, allowing unstructured or semi-structured data.\n",
        "\n",
        "2) What makes MongoDB a good choice for modern applications?\n",
        "- 1. Flexible Data Model (Schema-less)\n",
        "\n",
        "Stores data in JSON-like documents (BSON).\n",
        "\n",
        "No need to predefine schema — each document can have different fields.\n",
        "\n",
        "Ideal for apps where data structures evolve frequently (e.g., startups, agile development).\n",
        "\n",
        "- Scalability\n",
        "\n",
        "Built for horizontal scaling using sharding.\n",
        "\n",
        "Handles large amounts of data and high user traffic by distributing data across multiple servers.\n",
        "\n",
        "Perfect for cloud-native and global applications.\n",
        "\n",
        "- High Performance\n",
        "\n",
        "Optimized for fast reads and writes.\n",
        "\n",
        "Uses in-memory storage engine options and indexing for efficient queries.\n",
        "\n",
        "Supports large-scale, real-time applications (e.g., social media feeds, IoT data ingestion).\n",
        "\n",
        "- Developer-Friendly\n",
        "\n",
        "Stores data in a format similar to JSON → very natural for developers.\n",
        "\n",
        "Reduces the “impedance mismatch” between application objects and database records.\n",
        "\n",
        "Rich query language with support for ad-hoc queries, aggregation framework, geospatial queries, and full-text search.\n",
        "\n",
        "- Supports Modern Application Needs\n",
        "\n",
        "Handles unstructured, semi-structured, and structured data.\n",
        "\n",
        "Works well with big data, analytics, content management, catalogs, IoT, and mobile apps.\n",
        "\n",
        "Easy integration with modern programming languages and cloud platforms.\n",
        "\n",
        "- High Availability & Reliability\n",
        "\n",
        "Replica sets provide automatic failover and data redundancy.\n",
        "\n",
        "Ensures your app stays available even if a server goes down.\n",
        "\n",
        "- Cloud-Native & Ecosystem\n",
        "\n",
        "MongoDB Atlas (managed cloud service) simplifies deployment, scaling, and monitoring.\n",
        "\n",
        "3)  Explain the concept of collections in MongoDB?\n",
        "- A collection is a group of MongoDB documents.\n",
        "\n",
        "- Documents inside a collection are stored in a BSON (binary JSON) format.\n",
        "\n",
        "- Unlike SQL tables, collections do not enforce a schema — documents in the same collection can have different structures\n",
        "\n",
        "4) How does MongoDB ensure high availability using replication?\n",
        "- MongoDB ensures high availability using replica sets, which provide data redundancy, automatic replication, and automatic failover. This allows applications to stay online with minimal interruption, even if servers fail.\n",
        "\n",
        "5) < What are the main benefits of MongoDB Atlas?\n",
        "\n",
        "- MongoDB Atlas offers high availability, scalability, global reach, built-in security, and developer-friendly tools — making it an excellent choice for cloud-native and modern applications.\n",
        "\n",
        "6) What is the role of indexes in MongoDB, and how do they improve performance?\n",
        "- Indexes in MongoDB make queries faster by avoiding full collection scans. They are crucial for improving performance, sorting, uniqueness, and complex queries, but should be used wisely to balance read and write performance.\n",
        "\n",
        "7) Describe the stages of the MongoDB aggregation pipeline?\n",
        "- The aggregation pipeline has stages like $match, $project, $group, $sort, $limit, $skip, $unwind, $lookup, $out/$merge, which allow MongoDB to perform powerful data transformations similar to SQL’s GROUP BY, JOIN, and analytic queries.\n",
        "\n",
        "8) What is sharding in MongoDB? How does it differ from replication?\n",
        "- Sharding is MongoDB’s way of horizontally scaling a database by distributing data across multiple servers (called shards).\n",
        "\n",
        "- Each shard holds a subset of the data, allowing the database to handle very large datasets and high throughput.\n",
        "9) What is PyMongo, and why is it used?\n",
        "- PyMongo is the official Python driver for MongoDB.\n",
        "\n",
        "- It allows Python applications to connect to, query, and interact with MongoDB databases.\n",
        "\n",
        "- Essentially, it provides a Python interface to perform MongoDB operations like inserting, updating, deleting, and querying documents.\n",
        "\n",
        "10) What are the ACID properties in the context of MongoDB transactions?\n",
        "- MongoDB transactions ensure ACID properties so that complex operations involving multiple documents are safe, reliable, and consistent, just like in traditional relational databases.\n",
        "\n",
        "11)  What is the purpose of MongoDB’s explain() function?\n",
        "\n",
        "- The explain() function in MongoDB is used to analyze how a query is executed. It helps developers understand query performance and optimize database operations.\n",
        "\n",
        "12) How does MongoDB handle schema validation?\n",
        "- Unlike relational databases, MongoDB is schema-less by default, meaning documents in a collection can have different structures. However, MongoDB supports schema validation to enforce rules on the data for consistency and integrity.\n",
        "\n",
        "13) What is the difference between a primary and a secondary node in a replica set?\n",
        "- Primary: The main node for writes and replication source.\n",
        "\n",
        "- Secondary: Copies data from primary for redundancy and optional reads, and can become primary if needed.\n",
        "14) What security mechanisms does MongoDB provide for data protection?\n",
        "- MongoDB provides security at multiple layers:\n",
        "\n",
        "- Authentication – who can access the database\n",
        "\n",
        "- Authorization / RBAC – what users can do\n",
        "\n",
        "- Encryption – protect data in transit and at rest\n",
        "\n",
        "- Auditing – monitor and log database activity\n",
        "\n",
        "- Network Security – restrict access and secure communication\n",
        "\n",
        "- Data Integrity – ensure reliability and detect tampering\n",
        "15) Explain the concept of embedded documents and when they should be used?\n",
        "- An embedded document is a document nested inside another document in a MongoDB collection.\n",
        "\n",
        "- This allows related data to be stored together in a single record, rather than in separate collections.\n",
        "\n",
        "- MongoDB stores data in BSON format, so documents can contain nested objects or arrays.\n",
        "\n",
        "16)  What is the purpose of MongoDB’s $lookup stage in aggregation?\n",
        "- The $lookup stage in MongoDB’s aggregation pipeline allows you to join documents from different collections, combining related data into a single result set — effectively enabling relational-style queries in a NoSQL database.\n",
        "\n",
        "17)  What are some common use cases for MongoDB?\n",
        "- MongoDB is especially suited for applications that require:\n",
        "\n",
        "- Flexible schema for evolving data.\n",
        "\n",
        "- High scalability for large datasets and heavy traffic.\n",
        "\n",
        "- Real-time analytics and fast reads/writes.\n",
        "\n",
        "- Complex hierarchical or nested data.\n",
        "\n",
        "18) What are the advantages of using MongoDB for horizontal scaling?\n",
        "- Large dataset handling\n",
        "\n",
        "- Parallel query processing\n",
        "\n",
        "- Elastic growth\n",
        "\n",
        "- High availability\n",
        "\n",
        "- Global distribution\n",
        "\n",
        "19) How do MongoDB transactions differ from SQL transactions?\n",
        "- MongoDB transactions: Designed for multi-document operations in a NoSQL environment, single-document operations are already atomic.\n",
        "\n",
        "- SQL transactions: Standard for multi-row operations in relational databases, fully ACID by default.\n",
        "\n",
        "- Key difference: MongoDB emphasizes flexibility and performance, while SQL relies on strict schema and mature transactional support.\n",
        "\n",
        "20)  What are the main differences between capped collections and regular collections?\n",
        "- Capped collections are fixed-size, circular, and insertion-ordered, ideal for logs and queues.\n",
        "\n",
        "- Regular collections are dynamic, flexible, and general-purpose, suitable for most application data.\n",
        "21) What is the purpose of the $match stage in MongoDB’s aggregation pipeline?\n",
        "- $match filters documents in the aggregation pipeline.\n",
        "\n",
        "- Acts like SQL’s WHERE clause.\n",
        "\n",
        "- Optimizes performance when placed early in the pipeline.\n",
        "22) How can you secure access to a MongoDB database?\n",
        "- Enable authentication and require users to log in.\n",
        "\n",
        "- Use RBAC to control what users can access.\n",
        "\n",
        "- Encrypt data in transit and at rest.\n",
        "\n",
        "- Restrict network access via IP whitelists and firewalls.\n",
        "\n",
        "- Monitor activity with auditing.\n",
        "\n",
        "- Follow security best practices like strong passwords and least privilege.\n",
        "\n",
        "23) What is MongoDB’s WiredTiger storage engine, and why is it important?\n",
        "- WiredTiger is MongoDB’s high-performance, default storage engine that provides:\n",
        "\n",
        "- Concurrency for multiple operations\n",
        "\n",
        "- Data compression for efficiency\n",
        "\n",
        "- Durability and ACID compliance\n",
        "\n",
        "- Support for modern features like transactions"
      ],
      "metadata": {
        "id": "fQXlkQTUkGFp"
      }
    },
    {
      "cell_type": "markdown",
      "source": [
        "# **Practical Questions**"
      ],
      "metadata": {
        "id": "sQ8xbygqt9vo"
      }
    },
    {
      "cell_type": "markdown",
      "source": [
        "1) Write a Python script to load the Superstore dataset from a CSV file into MongoDB?"
      ],
      "metadata": {
        "id": "ldtnYGGouALh"
      }
    },
    {
      "cell_type": "code",
      "source": [
        "import csv\n",
        "from pymongo import MongoClient\n",
        "\n",
        "# 1. Connect to MongoDB\n",
        "client = MongoClient(\"mongodb://localhost:27017/\")\n",
        "db = client[\"superstore_db\"]          # Database\n",
        "collection = db[\"orders\"]             # Collection\n",
        "\n",
        "# 2. Load CSV and insert documents\n",
        "csv_file_path = \"Superstore.csv\"      # Path to your CSV file\n",
        "\n",
        "with open(csv_file_path, mode='r', encoding='utf-8-sig') as file:\n",
        "    reader = csv.DictReader(file)\n",
        "    data = []\n",
        "    for row in reader:\n",
        "        # Optional: convert numeric fields\n",
        "        if 'Sales' in row:\n",
        "            row['Sales'] = float(row['Sales']) if row['Sales'] else 0.0\n",
        "        if 'Quantity' in row:\n",
        "            row['Quantity'] = int(row['Quantity']) if row['Quantity'] else 0\n",
        "        if 'Profit' in row:\n",
        "            row['Profit'] = float(row['Profit']) if row['Profit'] else 0.0\n",
        "        data.append(row)\n",
        "\n",
        "# 3. Insert all documents into MongoDB\n",
        "if data:\n",
        "    result = collection.insert_many(data)\n",
        "    print(f\"{len(result.inserted_ids)} documents inserted successfully!\")\n",
        "else:\n",
        "    print(\"No data found in the CSV file.\")\n"
      ],
      "metadata": {
        "id": "tdX7h6JTuvZd"
      },
      "execution_count": null,
      "outputs": []
    },
    {
      "cell_type": "markdown",
      "source": [
        " 2) Retrieve and print all documents from the Orders collection?"
      ],
      "metadata": {
        "id": "xci0OUCFuyG9"
      }
    },
    {
      "cell_type": "code",
      "source": [
        "from pymongo import MongoClient\n",
        "import pprint  # Pretty-print for nicer output\n",
        "\n",
        "# 1. Connect to MongoDB\n",
        "client = MongoClient(\"mongodb://localhost:27017/\")\n",
        "db = client[\"superstore_db\"]     # Replace with your database name\n",
        "collection = db[\"orders\"]        # Replace with your collection name\n",
        "\n",
        "# 2. Retrieve all documents\n",
        "documents = collection.find()    # Returns a cursor\n",
        "\n",
        "# 3. Print each document\n",
        "for doc in documents:\n",
        "    pprint.pprint(doc)\n"
      ],
      "metadata": {
        "id": "ITlR7mq3uxZB"
      },
      "execution_count": null,
      "outputs": []
    },
    {
      "cell_type": "markdown",
      "source": [
        "3) Count and display the total number of documents in the Orders collection?"
      ],
      "metadata": {
        "id": "aVguwF40u7DP"
      }
    },
    {
      "cell_type": "code",
      "source": [
        "from pymongo import MongoClient\n",
        "\n",
        "# 1. Connect to MongoDB\n",
        "client = MongoClient(\"mongodb://localhost:27017/\")\n",
        "db = client[\"superstore_db\"]   # Replace with your database name\n",
        "collection = db[\"orders\"]      # Replace with your collection name\n",
        "\n",
        "# 2. Count total documents\n",
        "total_docs = collection.count_documents({})  # Empty filter counts all documents\n",
        "\n",
        "# 3. Display the count\n",
        "print(f\"Total number of documents in Orders collection: {total_docs}\")\n"
      ],
      "metadata": {
        "id": "kxDXu6FKu7mW"
      },
      "execution_count": null,
      "outputs": []
    },
    {
      "cell_type": "markdown",
      "source": [
        "4) Write a query to fetch all orders from the \"West\" region?\n"
      ],
      "metadata": {
        "id": "DKrJ3bObvI3i"
      }
    },
    {
      "cell_type": "code",
      "source": [
        "from pymongo import MongoClient\n",
        "import pprint\n",
        "\n",
        "# 1. Connect to MongoDB\n",
        "client = MongoClient(\"mongodb://localhost:27017/\")\n",
        "db = client[\"superstore_db\"]    # Replace with your database name\n",
        "collection = db[\"orders\"]       # Replace with your collection name\n",
        "\n",
        "# 2. Query orders from the \"West\" region\n",
        "west_orders = collection.find({\"Region\": \"West\"})\n",
        "\n",
        "# 3. Print the results\n",
        "for order in west_orders:\n",
        "    pprint.pprint(order)\n"
      ],
      "metadata": {
        "id": "3kmgRot9vIVI"
      },
      "execution_count": null,
      "outputs": []
    },
    {
      "cell_type": "markdown",
      "source": [
        "5) Write a query to find orders where Sales is greater than 500<"
      ],
      "metadata": {
        "id": "8tZz4KcOvW3i"
      }
    },
    {
      "cell_type": "code",
      "source": [
        "from pymongo import MongoClient\n",
        "import pprint\n",
        "\n",
        "# 1. Connect to MongoDB\n",
        "client = MongoClient(\"mongodb://localhost:27017/\")\n",
        "db = client[\"superstore_db\"]    # Replace with your database name\n",
        "collection = db[\"orders\"]       # Replace with your collection name\n",
        "\n",
        "# 2. Query orders where Sales > 500\n",
        "high_sales_orders = collection.find({\"Sales\": {\"$gt\": 500}})\n",
        "\n",
        "# 3. Print the results\n",
        "for order in high_sales_orders:\n",
        "    pprint.pprint(order)\n"
      ],
      "metadata": {
        "id": "G0OafcAsvEP6"
      },
      "execution_count": null,
      "outputs": []
    },
    {
      "cell_type": "markdown",
      "source": [
        "6) Fetch the top 3 orders with the highest Profit?"
      ],
      "metadata": {
        "id": "XO4E0bqNvdcB"
      }
    },
    {
      "cell_type": "code",
      "source": [
        "from pymongo import MongoClient\n",
        "import pprint\n",
        "\n",
        "# 1. Connect to MongoDB\n",
        "client = MongoClient(\"mongodb://localhost:27017/\")\n",
        "db = client[\"superstore_db\"]    # Replace with your database name\n",
        "collection = db[\"orders\"]       # Replace with your collection name\n",
        "\n",
        "# 2. Query top 3 orders with highest Profit\n",
        "top_profit_orders = collection.find().sort(\"Profit\", -1).limit(3)\n",
        "\n",
        "# 3. Print the results\n",
        "for order in top_profit_orders:\n",
        "    pprint.pprint(order)\n"
      ],
      "metadata": {
        "id": "9DtSpRJLvjBu"
      },
      "execution_count": null,
      "outputs": []
    },
    {
      "cell_type": "markdown",
      "source": [
        "7) Update all orders with Ship Mode as \"First Class\" to \"Premium Class.?"
      ],
      "metadata": {
        "id": "icGMIPPBvnbc"
      }
    },
    {
      "cell_type": "code",
      "source": [
        "from pymongo import MongoClient\n",
        "\n",
        "# 1. Connect to MongoDB\n",
        "client = MongoClient(\"mongodb://localhost:27017/\")\n",
        "db = client[\"superstore_db\"]    # Replace with your database name\n",
        "collection = db[\"orders\"]       # Replace with your collection name\n",
        "\n",
        "# 2. Update all matching documents\n",
        "update_result = collection.update_many(\n",
        "    {\"Ship Mode\": \"First Class\"},           # Filter\n",
        "    {\"$set\": {\"Ship Mode\": \"Premium Class\"}} # Update operation\n",
        ")\n",
        "\n",
        "# 3. Print the result\n",
        "print(f\"Matched documents: {update_result.matched_count}\")\n",
        "print(f\"Modified documents: {update_result.modified_count}\")\n"
      ],
      "metadata": {
        "id": "-6Hnv0A8vre-"
      },
      "execution_count": null,
      "outputs": []
    },
    {
      "cell_type": "markdown",
      "source": [
        "8) Delete all orders where Sales is less than 50?"
      ],
      "metadata": {
        "id": "7y09cS6vvvxZ"
      }
    },
    {
      "cell_type": "code",
      "source": [
        "from pymongo import MongoClient\n",
        "\n",
        "# 1. Connect to MongoDB\n",
        "client = MongoClient(\"mongodb://localhost:27017/\")\n",
        "db = client[\"superstore_db\"]    # Replace with your database name\n",
        "collection = db[\"orders\"]       # Replace with your collection name\n",
        "\n",
        "# 2. Delete all matching documents\n",
        "delete_result = collection.delete_many({\"Sales\": {\"$lt\": 50}})\n",
        "\n",
        "# 3. Print the result\n",
        "print(f\"Number of orders deleted: {delete_result.deleted_count}\")\n"
      ],
      "metadata": {
        "id": "N50D-Ksuv0a7"
      },
      "execution_count": null,
      "outputs": []
    },
    {
      "cell_type": "markdown",
      "source": [
        " 9) Use aggregation to group orders by Region and calculate total sales per region?"
      ],
      "metadata": {
        "id": "WJ-c5w2qv6bV"
      }
    },
    {
      "cell_type": "code",
      "source": [
        "from pymongo import MongoClient\n",
        "import pprint\n",
        "\n",
        "# 1. Connect to MongoDB\n",
        "client = MongoClient(\"mongodb://localhost:27017/\")\n",
        "db = client[\"superstore_db\"]    # Replace with your database name\n",
        "collection = db[\"orders\"]       # Replace with your collection name\n",
        "\n",
        "# 2. Aggregation pipeline\n",
        "pipeline = [\n",
        "    {\n",
        "        \"$group\": {\n",
        "            \"_id\": \"$Region\",           # Group by Region\n",
        "            \"totalSales\": {\"$sum\": \"$Sales\"}  # Calculate total Sales per region\n",
        "        }\n",
        "    },\n",
        "    {\n",
        "        \"$sort\": {\"totalSales\": -1}     # Optional: sort by totalSales descending\n",
        "    }\n",
        "]\n",
        "\n",
        "# 3. Execute the aggregation\n",
        "results = collection.aggregate(pipeline)\n",
        "\n",
        "# 4. Print the results\n",
        "for result in results:\n",
        "    pprint.pprint(result)\n"
      ],
      "metadata": {
        "id": "Eo4PAaHlv_KR"
      },
      "execution_count": null,
      "outputs": []
    },
    {
      "cell_type": "markdown",
      "source": [
        "10) Fetch all distinct values for Ship Mode from the collection?"
      ],
      "metadata": {
        "id": "kQz0-X_jwDs-"
      }
    },
    {
      "cell_type": "code",
      "source": [
        "from pymongo import MongoClient\n",
        "\n",
        "# 1. Connect to MongoDB\n",
        "client = MongoClient(\"mongodb://localhost:27017/\")\n",
        "db = client[\"superstore_db\"]    # Replace with your database name\n",
        "collection = db[\"orders\"]       # Replace with your collection name\n",
        "\n",
        "# 2. Fetch distinct Ship Mode values\n",
        "distinct_ship_modes = collection.distinct(\"Ship Mode\")\n",
        "\n",
        "# 3. Print the results\n",
        "print(\"Distinct Ship Modes:\")\n",
        "for mode in distinct_ship_modes:\n",
        "    print(mode)\n"
      ],
      "metadata": {
        "id": "AAmIIvGSwHzI"
      },
      "execution_count": null,
      "outputs": []
    },
    {
      "cell_type": "markdown",
      "source": [
        "11) Count the number of orders for each category?"
      ],
      "metadata": {
        "id": "CFkYX4T1wPZm"
      }
    },
    {
      "cell_type": "code",
      "source": [
        "from pymongo import MongoClient\n",
        "import pprint\n",
        "\n",
        "# 1. Connect to MongoDB\n",
        "client = MongoClient(\"mongodb://localhost:27017/\")\n",
        "db = client[\"superstore_db\"]    # Replace with your database name\n",
        "collection = db[\"orders\"]       # Replace with your collection name\n",
        "\n",
        "# 2. Aggregation pipeline to count orders per category\n",
        "pipeline = [\n",
        "    {\n",
        "        \"$group\": {\n",
        "            \"_id\": \"$Category\",       # Group by Category\n",
        "            \"orderCount\": {\"$sum\": 1} # Count the number of orders\n",
        "        }\n",
        "    },\n",
        "    {\n",
        "        \"$sort\": {\"orderCount\": -1}   # Optional: sort descending by order count\n",
        "    }\n",
        "]\n",
        "\n",
        "# 3. Execute aggregation\n",
        "results = collection.aggregate(pipeline)\n",
        "\n",
        "# 4. Print results\n",
        "for result in results:\n",
        "    pprint.pprint(result)\n"
      ],
      "metadata": {
        "id": "qqdhfOtEwVRH"
      },
      "execution_count": null,
      "outputs": []
    }
  ]
}