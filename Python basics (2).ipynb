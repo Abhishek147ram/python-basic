{
 "cells": [
  {
   "cell_type": "markdown",
   "metadata": {
    "id": "DosyErE1i1Te"
   },
   "source": [
    "# **PYTHON BASIC**"
   ]
  },
  {
   "cell_type": "markdown",
   "metadata": {
    "id": "p6vZqzIvjBEx"
   },
   "source": [
    "1. What is Python, and why is it popular?\n",
    "  - Python is a programming language with certain set of instruction which help us to connect with computer easily .\n",
    "  - Python  is popular because its easy to learn and python has more than 13700 liberies that makes python special and make owr work easer.\n",
    "\n",
    "2. What is an interpreter in Python?\n",
    "   - An interpreter in Python is a program that reads and executes your Python code. It translates your code into a language that the computer's processor can understand and execute.\n",
    "\n",
    "3. What are pre-defined keywords in Python    \n",
    "   - Python predefine keywords are reserved words that have special meaning in the language , they are like grammer of python . you cant used them as veriable , function and identifier.\n",
    "\n",
    "4. Can keywords be used as variable names?\n",
    "   - No keywords cannot used as veriable name they are used for special purpous and functions in the language.\n",
    "\n",
    "5. What is mutability in Python?\n",
    "   - Python handle imtability at the object level and this plays a big role .\n",
    "   - A mutable object can be change after its create.\n",
    "\n",
    "6. Why are lists mutable, but tuples are immutable?\n",
    "   - List  are mutable because you can change, add or remove elements, like [1,2,3]\n",
    "   - Tuple are immutable because its can create once, like(1,2,3)\n",
    "\n",
    "7. What is the difference between “==” and “is” operators in Python?\n",
    "   -The \"==\" operator compares the values of two objects and \"is\" operator checks if two variables point to the same object or not in memory.\n",
    "\n",
    "8.  What are logical operators in Python?\n",
    "    - Logical operators in Python are combine conditional statements and their are three logical operators are and, or, and not.\n",
    "\n",
    "9. What is type casting in Python?\n",
    "   - Type casting is python is the process of converting a veriable form of one data type to another data type, like\n",
    "   Implicit type casting,\n",
    "   explicit type casting\n",
    "\n",
    "10. What is the difference between implicit and explicit type casting?\n",
    "    - In implicit type casting python automatically convert one data type to anotherduring an operation\n",
    "    - In explicit type casting you manually convert data type using function like, int() ,float(), str()\n",
    "\n",
    "11. What is the purpose of conditional statements in Python?\n",
    "    - The purpous of conditional statement in python is allows for decision-making and control flow within the program and the most common conditional statements are if, elif (else if), and else.\n",
    "\n",
    "12. How does the elif statement work?\n",
    "    - The elif statement is used in conditional statements to check for additional conditions if the previous if or elif statements were false. The elif statement will only checked if the preceding if or elif conditions are not.\n",
    "\n",
    "13.  What is the difference between for and while loops?\n",
    "    - For loop is used when you are working with structural data like CSV row or dictionary keys.\n",
    "    - While loop is using when you're building interactive program or handeling user input where the end condition is not fixed.\n",
    "\n",
    "14. Describe a scenario where a while loop is more suitable than a for loop?\n",
    "    - A while loop is more suitable than a for loop when you want to repeat a block of code as long as a certain condition is true, but you don't know in advance how many times the loop will need to run."
   ]
  },
  {
   "cell_type": "markdown",
   "metadata": {
    "id": "fXcuyL5xyTNS"
   },
   "source": [
    "# **PRACTICAL QUESTIONS**"
   ]
  },
  {
   "cell_type": "markdown",
   "metadata": {
    "id": "ZsuacUpZyrmL"
   },
   "source": [
    "1. Write a Python program to print \"Hello, World!\" ?"
   ]
  },
  {
   "cell_type": "code",
   "execution_count": 77,
   "metadata": {
    "colab": {
     "base_uri": "https://localhost:8080/"
    },
    "executionInfo": {
     "elapsed": 476,
     "status": "ok",
     "timestamp": 1753911484856,
     "user": {
      "displayName": "Abhishek Ram",
      "userId": "09336585370685233823"
     },
     "user_tz": -330
    },
    "id": "v-IvNbvjyPX4",
    "outputId": "3b799fc4-d1a2-4061-ef3e-dceeb7126d5b"
   },
   "outputs": [
    {
     "name": "stdout",
     "output_type": "stream",
     "text": [
      "Hello, World!\n"
     ]
    }
   ],
   "source": [
    "print(\"Hello, World!\")"
   ]
  },
  {
   "cell_type": "markdown",
   "metadata": {
    "id": "v4hQOC_7zQEb"
   },
   "source": [
    "2. Write a Python program that displays your name and age?"
   ]
  },
  {
   "cell_type": "code",
   "execution_count": 78,
   "metadata": {
    "colab": {
     "base_uri": "https://localhost:8080/"
    },
    "executionInfo": {
     "elapsed": 19,
     "status": "ok",
     "timestamp": 1753911485342,
     "user": {
      "displayName": "Abhishek Ram",
      "userId": "09336585370685233823"
     },
     "user_tz": -330
    },
    "id": "l9UVyuKEzDQk",
    "outputId": "f796e60c-4050-45f0-df96-8fd9a5cc34cd"
   },
   "outputs": [
    {
     "name": "stdout",
     "output_type": "stream",
     "text": [
      "Abhishek Kumar Ram\n",
      "23\n"
     ]
    }
   ],
   "source": [
    "name =\"Abhishek Kumar Ram\"\n",
    "age = 23\n",
    "print(name)\n",
    "print(age)"
   ]
  },
  {
   "cell_type": "markdown",
   "metadata": {
    "id": "5yj8uZk70Rvq"
   },
   "source": [
    "3. Write code to print all the pre-defined keywords in Python using the keyword library?"
   ]
  },
  {
   "cell_type": "code",
   "execution_count": 79,
   "metadata": {
    "colab": {
     "base_uri": "https://localhost:8080/"
    },
    "executionInfo": {
     "elapsed": 19,
     "status": "ok",
     "timestamp": 1753911485343,
     "user": {
      "displayName": "Abhishek Ram",
      "userId": "09336585370685233823"
     },
     "user_tz": -330
    },
    "id": "Bsf01Zze1M4w",
    "outputId": "fd67a6d4-edf2-4d8d-82fb-bda745ba191e"
   },
   "outputs": [
    {
     "name": "stdout",
     "output_type": "stream",
     "text": [
      "['False', 'None', 'True', 'and', 'as', 'assert', 'async', 'await', 'break', 'class', 'continue', 'def', 'del', 'elif', 'else', 'except', 'finally', 'for', 'from', 'global', 'if', 'import', 'in', 'is', 'lambda', 'nonlocal', 'not', 'or', 'pass', 'raise', 'return', 'try', 'while', 'with', 'yield']\n"
     ]
    }
   ],
   "source": [
    "import keyword\n",
    "print(keyword.kwlist)"
   ]
  },
  {
   "cell_type": "markdown",
   "metadata": {
    "id": "6cckjOv12fIT"
   },
   "source": [
    "4. Write a program that checks if a given word is a Python keyword?"
   ]
  },
  {
   "cell_type": "code",
   "execution_count": 80,
   "metadata": {
    "colab": {
     "base_uri": "https://localhost:8080/"
    },
    "executionInfo": {
     "elapsed": 17,
     "status": "ok",
     "timestamp": 1753911485343,
     "user": {
      "displayName": "Abhishek Ram",
      "userId": "09336585370685233823"
     },
     "user_tz": -330
    },
    "id": "IQysknYU2Xdn",
    "outputId": "2d80824e-8da9-4112-e956-1b7aa43cedce"
   },
   "outputs": [
    {
     "name": "stdout",
     "output_type": "stream",
     "text": [
      "'if' is a Python keyword.\n"
     ]
    }
   ],
   "source": [
    "import keyword\n",
    "word = \"if\"\n",
    "print(f\"'{word}' is a Python keyword.\")\n"
   ]
  },
  {
   "cell_type": "markdown",
   "metadata": {
    "id": "TxwiovdK3gx-"
   },
   "source": [
    "5. Create a list and tuple in Python, and demonstrate how attempting to change an element works differently\n",
    "for each?"
   ]
  },
  {
   "cell_type": "code",
   "execution_count": 81,
   "metadata": {
    "colab": {
     "base_uri": "https://localhost:8080/"
    },
    "executionInfo": {
     "elapsed": 15,
     "status": "ok",
     "timestamp": 1753911485343,
     "user": {
      "displayName": "Abhishek Ram",
      "userId": "09336585370685233823"
     },
     "user_tz": -330
    },
    "id": "cIglN6CV9aX5",
    "outputId": "bbbb79a4-0cdc-47b8-d669-691d215b273c"
   },
   "outputs": [
    {
     "name": "stdout",
     "output_type": "stream",
     "text": [
      "real list: [1, 2, 3, 4, 5]\n",
      "updated list: [10, 2, 3, 4, 5]\n",
      "real tuple: (1, 2, 3, 4, 5)\n"
     ]
    }
   ],
   "source": [
    "list = [1,2,3,4,5]\n",
    "print(f\"real list: {list}\")\n",
    "list[0] = 10\n",
    "print(f\"updated list: {list}\")\n",
    "tuple = (1,2,3,4,5)\n",
    "print(f\"real tuple: {tuple}\")"
   ]
  },
  {
   "cell_type": "markdown",
   "metadata": {
    "id": "pa47rWij7O6n"
   },
   "source": [
    "6. Write a function to demonstrate the behavior of mutable and immutable arguments?"
   ]
  },
  {
   "cell_type": "code",
   "execution_count": 82,
   "metadata": {
    "colab": {
     "base_uri": "https://localhost:8080/"
    },
    "executionInfo": {
     "elapsed": 13,
     "status": "ok",
     "timestamp": 1753911485343,
     "user": {
      "displayName": "Abhishek Ram",
      "userId": "09336585370685233823"
     },
     "user_tz": -330
    },
    "id": "bDruNqp2_b5p",
    "outputId": "c56cc275-331d-44d2-84a9-d47040416a52"
   },
   "outputs": [
    {
     "name": "stdout",
     "output_type": "stream",
     "text": [
      "Mutable object: [1, 2, 3, 4, 5, 99]\n",
      "Immutable object: 92\n"
     ]
    }
   ],
   "source": [
    "def demo_mutable_immutable(mutable_obj, immutable_obj):\n",
    "    mutable_obj.append(99)\n",
    "    immutable_obj += 1\n",
    "    print(\"Mutable object:\", mutable_obj)\n",
    "    print(\"Immutable object:\", immutable_obj)\n",
    "my_list = [1, 2, 3,4,5]\n",
    "my_int = 91\n",
    "demo_mutable_immutable(my_list, my_int)\n"
   ]
  },
  {
   "cell_type": "markdown",
   "metadata": {
    "id": "OimkhLYfBtpL"
   },
   "source": [
    "7. Write a program that performs basic arithmetic operations on two user-input numbers?"
   ]
  },
  {
   "cell_type": "code",
   "execution_count": 101,
   "metadata": {
    "colab": {
     "base_uri": "https://localhost:8080/"
    },
    "executionInfo": {
     "elapsed": 15708,
     "status": "ok",
     "timestamp": 1753913802050,
     "user": {
      "displayName": "Abhishek Ram",
      "userId": "09336585370685233823"
     },
     "user_tz": -330
    },
    "id": "19gJht6qZxwR",
    "outputId": "4c435369-a206-4598-b733-7945c3ac8237"
   },
   "outputs": [
    {
     "name": "stdout",
     "output_type": "stream",
     "text": [
      "Enter the first number: 46\n",
      "Enter the second number: 23\n",
      "Addition:        69.0\n",
      "Subtraction:     23.0\n",
      "Multiplication:  1058.0\n",
      "Division:        2.0\n",
      "Modulus:         0.0\n"
     ]
    }
   ],
   "source": [
    "num1 = float(input(\"Enter the first number: \"))\n",
    "num2 = float(input(\"Enter the second number: \"))\n",
    "print(\"Addition:       \", num1 + num2)\n",
    "print(\"Subtraction:    \", num1 - num2)\n",
    "print(\"Multiplication: \", num1 * num2)\n",
    "print(\"Division:       \", num1 / num2)\n",
    "print(\"Modulus:        \", num1 % num2)\n"
   ]
  },
  {
   "cell_type": "markdown",
   "metadata": {
    "id": "aQadpHWDDJ8l"
   },
   "source": [
    "8. Write a program to demonstrate the use of logical operators?"
   ]
  },
  {
   "cell_type": "code",
   "execution_count": 90,
   "metadata": {
    "colab": {
     "base_uri": "https://localhost:8080/"
    },
    "executionInfo": {
     "elapsed": 4877,
     "status": "ok",
     "timestamp": 1753913080819,
     "user": {
      "displayName": "Abhishek Ram",
      "userId": "09336585370685233823"
     },
     "user_tz": -330
    },
    "id": "P5G-XzJlFpyQ",
    "outputId": "d32eeaf0-d8f5-4695-8426-98367ce9dc23"
   },
   "outputs": [
    {
     "name": "stdout",
     "output_type": "stream",
     "text": [
      "What is your age: 23\n",
      "You are eligible for vote\n"
     ]
    }
   ],
   "source": [
    "age = float(input(\"What is your age: \"))\n",
    "if age >= 18:\n",
    "    print(\"You are eligible for vote\")\n",
    "else:\n",
    "    print(\"You are not eligible for vote\")"
   ]
  },
  {
   "cell_type": "markdown",
   "metadata": {
    "id": "9RCM3wdaL0Oh"
   },
   "source": [
    "9. Write a Python program to convert user input from string to integer, float, and boolean types?"
   ]
  },
  {
   "cell_type": "code",
   "execution_count": 100,
   "metadata": {
    "colab": {
     "base_uri": "https://localhost:8080/"
    },
    "executionInfo": {
     "elapsed": 631,
     "status": "ok",
     "timestamp": 1753913430349,
     "user": {
      "displayName": "Abhishek Ram",
      "userId": "09336585370685233823"
     },
     "user_tz": -330
    },
    "id": "5Mpu4dCwLeXA",
    "outputId": "bd2bd8e8-2952-43da-cab3-1ee470669c52"
   },
   "outputs": [
    {
     "name": "stdout",
     "output_type": "stream",
     "text": [
      "23.0\n",
      "True\n"
     ]
    }
   ],
   "source": [
    "a = \"23\"\n",
    "#if I want to change in intiger then i get \"int\" object is not colabe so I cant change it.\n",
    "print(float(a))\n",
    "print(bool(a))"
   ]
  },
  {
   "cell_type": "markdown",
   "metadata": {
    "id": "FJzhM9fGZH7F"
   },
   "source": [
    "10. Write code to demonstrate type casting with list elements?"
   ]
  },
  {
   "cell_type": "code",
   "execution_count": 114,
   "metadata": {
    "colab": {
     "base_uri": "https://localhost:8080/"
    },
    "executionInfo": {
     "elapsed": 433,
     "status": "ok",
     "timestamp": 1753914762188,
     "user": {
      "displayName": "Abhishek Ram",
      "userId": "09336585370685233823"
     },
     "user_tz": -330
    },
    "id": "MVyuCXQkcEff",
    "outputId": "1a23ab94-1f51-4ec9-9d85-108e7904f30b"
   },
   "outputs": [
    {
     "name": "stdout",
     "output_type": "stream",
     "text": [
      "Type cast list:  [1.0, '2', 3.5, True]\n"
     ]
    }
   ],
   "source": [
    "data = ['1', 2, '3.5', 'Abhishek', 'True']\n",
    "converted_data = [\n",
    "    float(data[0]),\n",
    "    str(data[1]),\n",
    "    float(data[2]),\n",
    "    bool(data[4])\n",
    "]\n",
    "print(\"Type cast list: \", converted_data)"
   ]
  },
  {
   "cell_type": "markdown",
   "metadata": {
    "id": "vekNEYzId4ys"
   },
   "source": [
    "11. Write a program that checks if a number is positive, negative, or zero?"
   ]
  },
  {
   "cell_type": "code",
   "execution_count": 115,
   "metadata": {
    "colab": {
     "base_uri": "https://localhost:8080/"
    },
    "executionInfo": {
     "elapsed": 7561,
     "status": "ok",
     "timestamp": 1753914914313,
     "user": {
      "displayName": "Abhishek Ram",
      "userId": "09336585370685233823"
     },
     "user_tz": -330
    },
    "id": "hhK3FxtKcgLm",
    "outputId": "9ae44800-4fd8-419c-8482-97c779cbe03c"
   },
   "outputs": [
    {
     "name": "stdout",
     "output_type": "stream",
     "text": [
      "Enter a number: 23\n",
      "The number is positive.\n"
     ]
    }
   ],
   "source": [
    "number = float(input(\"Enter a number: \"))\n",
    "if number > 0:\n",
    "    print(\"The number is positive.\")\n",
    "elif number < 0:\n",
    "    print(\"The number is negative.\")\n",
    "else:\n",
    "    print(\"The number is zero.\")"
   ]
  },
  {
   "cell_type": "markdown",
   "metadata": {
    "id": "YQK_ThmoeclL"
   },
   "source": [
    "12. Write a for loop to print numbers from 1 to 10?"
   ]
  },
  {
   "cell_type": "code",
   "execution_count": 116,
   "metadata": {
    "colab": {
     "base_uri": "https://localhost:8080/"
    },
    "executionInfo": {
     "elapsed": 7,
     "status": "ok",
     "timestamp": 1753914995588,
     "user": {
      "displayName": "Abhishek Ram",
      "userId": "09336585370685233823"
     },
     "user_tz": -330
    },
    "id": "UeGSsT6IeZW_",
    "outputId": "05fe9089-8f6b-45eb-cdff-76afb17c3637"
   },
   "outputs": [
    {
     "name": "stdout",
     "output_type": "stream",
     "text": [
      "1\n",
      "2\n",
      "3\n",
      "4\n",
      "5\n",
      "6\n",
      "7\n",
      "8\n",
      "9\n",
      "10\n"
     ]
    }
   ],
   "source": [
    "for i in range(1, 11):\n",
    "  print(i)"
   ]
  },
  {
   "cell_type": "markdown",
   "metadata": {
    "id": "Kh1KS4ClexgH"
   },
   "source": [
    "13. Write a Python program to find the sum of all even numbers between 1 and 50?"
   ]
  },
  {
   "cell_type": "code",
   "execution_count": 118,
   "metadata": {
    "colab": {
     "base_uri": "https://localhost:8080/"
    },
    "executionInfo": {
     "elapsed": 461,
     "status": "ok",
     "timestamp": 1753915351098,
     "user": {
      "displayName": "Abhishek Ram",
      "userId": "09336585370685233823"
     },
     "user_tz": -330
    },
    "id": "TfJzHZR3eu3o",
    "outputId": "5b90efc3-09cb-41b9-9e42-f900f51f90e1"
   },
   "outputs": [
    {
     "name": "stdout",
     "output_type": "stream",
     "text": [
      "2\n",
      "4\n",
      "6\n",
      "8\n",
      "10\n",
      "12\n",
      "14\n",
      "16\n",
      "18\n",
      "20\n",
      "22\n",
      "24\n",
      "26\n",
      "28\n",
      "30\n",
      "32\n",
      "34\n",
      "36\n",
      "38\n",
      "40\n",
      "42\n",
      "44\n",
      "46\n",
      "48\n",
      "50\n"
     ]
    }
   ],
   "source": [
    "sum = 0\n",
    "for i in range(1, 51):\n",
    "  if i % 2 == 0:\n",
    "    sum += i\n",
    "\n",
    "\n"
   ]
  },
  {
   "cell_type": "markdown",
   "metadata": {
    "id": "TfjTHRkFgaI8"
   },
   "source": [
    "14. Write a program to reverse a string using a while loop?"
   ]
  },
  {
   "cell_type": "code",
   "execution_count": 120,
   "metadata": {
    "colab": {
     "base_uri": "https://localhost:8080/"
    },
    "executionInfo": {
     "elapsed": 837,
     "status": "ok",
     "timestamp": 1753915543119,
     "user": {
      "displayName": "Abhishek Ram",
      "userId": "09336585370685233823"
     },
     "user_tz": -330
    },
    "id": "_64oV3RPfyW9",
    "outputId": "daea625d-c381-4a4d-8abb-2303368d760a"
   },
   "outputs": [
    {
     "name": "stdout",
     "output_type": "stream",
     "text": [
      "Reversed string: !dlroW ,olleH\n"
     ]
    }
   ],
   "source": [
    "original_string = \"Hello, World!\"\n",
    "reversed_string = \"\"\n",
    "index = len(original_string) - 1\n",
    "while index >= 0:\n",
    "    reversed_string += original_string[index]\n",
    "    index -= 1\n",
    "print(\"Reversed string:\", reversed_string)"
   ]
  },
  {
   "cell_type": "markdown",
   "metadata": {
    "id": "JoJdRxkhg2wN"
   },
   "source": [
    " 15. Write a Python program to calculate the factorial of a number provided by the user using a while loop?"
   ]
  },
  {
   "cell_type": "code",
   "execution_count": 123,
   "metadata": {
    "colab": {
     "base_uri": "https://localhost:8080/"
    },
    "executionInfo": {
     "elapsed": 9371,
     "status": "ok",
     "timestamp": 1753915691797,
     "user": {
      "displayName": "Abhishek Ram",
      "userId": "09336585370685233823"
     },
     "user_tz": -330
    },
    "id": "5_PvdDF4gnoj",
    "outputId": "ec2649aa-c855-4189-daac-85c212f56e09"
   },
   "outputs": [
    {
     "name": "stdout",
     "output_type": "stream",
     "text": [
      "Enter a non-negative integer: 108\n",
      "The factorial of 108.0 is: 1.324641819451829e+174\n"
     ]
    }
   ],
   "source": [
    "num = float(input(\"Enter a non-negative integer: \"))\n",
    "factorial = 1\n",
    "counter = num\n",
    "while counter > 1:\n",
    "    factorial *= counter\n",
    "    counter -= 1\n",
    "print(f\"The factorial of {num} is: {factorial}\")\n"
   ]
  }
 ],
 "metadata": {
  "colab": {
   "authorship_tag": "ABX9TyPOhBl+KL3AYXm1GrRnq1tY",
   "provenance": []
  },
  "kernelspec": {
   "display_name": "Python 3",
   "name": "python3"
  },
  "language_info": {
   "name": "python"
  }
 },
 "nbformat": 4,
 "nbformat_minor": 0
}
