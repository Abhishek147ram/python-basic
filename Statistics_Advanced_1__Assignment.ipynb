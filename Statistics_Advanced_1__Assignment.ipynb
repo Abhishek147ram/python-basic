{
  "nbformat": 4,
  "nbformat_minor": 0,
  "metadata": {
    "colab": {
      "provenance": []
    },
    "kernelspec": {
      "name": "python3",
      "display_name": "Python 3"
    },
    "language_info": {
      "name": "python"
    }
  },
  "cells": [
    {
      "cell_type": "markdown",
      "source": [
        "# **Statistics Advanced - 1| Assignment**"
      ],
      "metadata": {
        "id": "75EQR2ZESorL"
      }
    },
    {
      "cell_type": "markdown",
      "source": [
        "Question 1: What is a random variable in probability theory?\n",
        "- A random variable in probability theory is a numerical quantity that represents the possible outcomes of a random experiment.\n",
        "\n",
        "- It assigns a number to each outcome in the sample space.\n",
        "\n",
        "- There are two main types:\n",
        "\n",
        "  - Discrete random variable → Takes countable values (e.g., number of heads in 3 coin tosses).\n",
        "\n",
        "  - Continuous random variable → Takes values from an interval or continuum (e.g., height, time, temperature).\n",
        "\n",
        "Question 2: What are the types of random variables?\n",
        "- Random variables are mainly of two types:\n",
        "\n",
        "- Discrete Random Variable\n",
        "\n",
        "  - Takes countable values (finite or infinite but countable).\n",
        "\n",
        "  - Example: Number of heads in 5 coin tosses (0, 1, 2, 3, 4, 5).\n",
        "\n",
        "  - Probability distribution is described using a probability mass function (PMF).\n",
        "\n",
        "- Continuous Random Variable\n",
        "\n",
        "  - Takes uncountably infinite values over an interval or range.\n",
        "\n",
        "  - Example: Height of students, time to finish a race, temperature.\n",
        "\n",
        "  - Probability distribution is described using a probability density function (PDF).\n",
        "\n",
        "Question 3: Explain the difference between discrete and continuous distributions.\n",
        "- | Feature                           | **Discrete Distribution**                                                        | **Continuous Distribution**                                                                   |\n",
        "| --------------------------------- | -------------------------------------------------------------------------------- | --------------------------------------------------------------------------------------------- |\n",
        "| **Definition**                    | Probability distribution of a **discrete random variable** (countable outcomes). | Probability distribution of a **continuous random variable** (uncountably infinite outcomes). |\n",
        "| **Possible Values**               | Finite or countably infinite (e.g., 0, 1, 2, 3 …).                               | Any value within an interval (e.g., 2.31, 2.315, 2.3156 …).                                   |\n",
        "| **Probability Measure**           | Uses a **Probability Mass Function (PMF)**.                                      | Uses a **Probability Density Function (PDF)**.                                                |\n",
        "| **Probability of a Single Value** | Can be **non-zero** (e.g., P(X = 2) = 0.3).                                      | Always **zero** (P(X = 2.5) = 0), probability is for intervals.                               |\n",
        "| **Examples**                      | Number of heads in 3 coin tosses, number of students in a class.                 | Height of a person, time taken to run a race, temperature.                                    |\n",
        "\n",
        "\n",
        "Question 4: What is a binomial distribution, and how is it used in probability?\n",
        "\n",
        "- A binomial distribution is a discrete probability distribution that describes the number of successes in a fixed number of independent trials, where each trial has only two possible outcomes: success or failure.\n",
        "\n",
        "- Key Characteristics:\n",
        "\n",
        "  - Fixed number of trials (n)\n",
        "\n",
        "  - Two outcomes per trial → success (p) or failure (q = 1 − p)\n",
        "\n",
        "  - Independent trials (one trial’s outcome does not affect another)\n",
        "Question 5: What is the standard normal distribution, and why is it important?\n",
        "\n",
        "- The standard normal distribution is a special case of the normal distribution where:\n",
        "   The mean (μ) = 0\n",
        "\n",
        "  The standard deviation (σ) = 1\n",
        "\n",
        "  It is a bell-shaped, symmetric curve centered at 0.\n",
        "\n",
        "  The random variable that follows this distribution is usually denoted as Z, called a z-score.\n",
        "\n",
        "- Why is it important?\n",
        "\n",
        "  Simplifies probability calculations – Any normal distribution can be converted into the standard normal using:\n",
        "\n",
        "\n",
        "  Widely used in hypothesis testing (e.g., Z-test, confidence intervals).\n",
        "\n",
        "  Statistical tables are available for the standard normal, making it easy to compute probabilities.\n",
        "\n",
        "  Serves as the foundation for many statistical methods in inferential statistics.\n",
        "\n",
        "Question 6: What is the Central Limit Theorem (CLT), and why is it critical in statistics?\n",
        "\n",
        "- The Central Limit Theorem (CLT) is one of the most important results in statistics.\n",
        "\n",
        "- The CLT states that:\n",
        "\n",
        "  If we take many random samples of size\n",
        "  𝑛\n",
        "  n from any population (with finite mean\n",
        "  𝜇\n",
        "  μ and finite variance\n",
        "  𝜎\n",
        "  2\n",
        "  σ\n",
        "  2\n",
        "  ),\n",
        "\n",
        "  Then the sampling distribution of the sample mean (\n",
        "  𝑋\n",
        "  ˉ\n",
        "  X\n",
        "  ˉ\n",
        "  ) will approach a normal distribution as\n",
        "  𝑛\n",
        "  n becomes large,\n",
        "\n",
        "  Regardless of the original population’s distribution (skewed, uniform, etc.).\n",
        "Question 7: What is the significance of confidence intervals in statistical analysis?\n",
        "- Significance of Confidence Intervals\n",
        "\n",
        "- Provides a Range Instead of a Single Value\n",
        "\n",
        "  Unlike a point estimate (e.g., sample mean = 50), a CI gives an interval (e.g., 47 to 53) that reflects the uncertainty in estimation.\n",
        "\n",
        "- Indicates Reliability of Estimates\n",
        "\n",
        "  A wider interval suggests more uncertainty, while a narrower interval indicates more precision in the estimate.\n",
        "\n",
        "- Links with Hypothesis Testing\n",
        "\n",
        "  If a hypothesized parameter value (e.g., population mean) falls outside the CI, it suggests that the hypothesis may not be valid.\n",
        "\n",
        "- Helps in Decision Making\n",
        "\n",
        "  Businesses, researchers, and policymakers use CIs to make informed decisions with a known margin of error.\n",
        "\n",
        "- Associated with Confidence Level\n",
        "\n",
        "  A 95% CI means that if we took many random samples, about 95% of the intervals would contain the true parameter.\n",
        "\n",
        "Question 8: What is the concept of expected value in a probability distribution?\n",
        "\n",
        "- The expected value (EV) in a probability distribution is the long-run average outcome of a random variable if an experiment is repeated many times. It represents the center of the distribution in terms of probability.\n"
      ],
      "metadata": {
        "id": "XSf0jR2OS1Yd"
      }
    },
    {
      "cell_type": "markdown",
      "source": [
        "Question 9: Write a Python program to generate 1000 random numbers from a normal\n",
        "distribution with mean = 50 and standard deviation = 5. Compute its mean and standard\n",
        "deviation using NumPy, and draw a histogram to visualize the distribution.\n"
      ],
      "metadata": {
        "id": "R5l3deeFWF3l"
      }
    },
    {
      "cell_type": "code",
      "source": [
        "import numpy as np\n",
        "import matplotlib.pyplot as plt\n",
        "\n",
        "# Parameters\n",
        "mean = 50\n",
        "std_dev = 5\n",
        "n_samples = 1000\n",
        "\n",
        "# Generate 1000 random numbers from normal distribution\n",
        "data = np.random.normal(loc=mean, scale=std_dev, size=n_samples)\n",
        "\n",
        "# Compute mean and standard deviation\n",
        "computed_mean = np.mean(data)\n",
        "computed_std = np.std(data)\n",
        "\n",
        "print(f\"Computed Mean: {computed_mean:.2f}\")\n",
        "print(f\"Computed Standard Deviation: {computed_std:.2f}\")\n",
        "\n",
        "# Plot histogram\n",
        "plt.hist(data, bins=30, color='skyblue', edgecolor='black')\n",
        "plt.title('Histogram of Normally Distributed Data')\n",
        "plt.xlabel('Value')\n",
        "plt.ylabel('Frequency')\n",
        "plt.grid(True)\n",
        "plt.show()\n"
      ],
      "metadata": {
        "colab": {
          "base_uri": "https://localhost:8080/",
          "height": 507
        },
        "id": "9GwkcbtmWKNe",
        "outputId": "2e967e7f-2114-4e23-9522-0e020485834c"
      },
      "execution_count": 1,
      "outputs": [
        {
          "output_type": "stream",
          "name": "stdout",
          "text": [
            "Computed Mean: 50.40\n",
            "Computed Standard Deviation: 5.29\n"
          ]
        },
        {
          "output_type": "display_data",
          "data": {
            "text/plain": [
              "<Figure size 640x480 with 1 Axes>"
            ],
            "image/png": "[encoded data removed]"
          },
          "metadata": {}
        }
      ]
    },
    {
      "cell_type": "markdown",
      "source": [
        "Question 10: You are working as a data analyst for a retail company. The company has\n",
        "collected daily sales data for 2 years and wants you to identify the overall sales trend.\n",
        "daily_sales = [220, 245, 210, 265, 230, 250, 260, 275, 240, 255,\n",
        " 235, 260, 245, 250, 225, 270, 265, 255, 250, 260]\n",
        "● Explain how you would apply the Central Limit Theorem to estimate the average sales\n",
        "with a 95% confidence interval.\n",
        "● Write the Python code to compute the mean sales and its confidence interval."
      ],
      "metadata": {
        "id": "Z_EzCAQYWZlr"
      }
    },
    {
      "cell_type": "code",
      "source": [
        "import numpy as np\n",
        "from scipy import stats\n",
        "\n",
        "# Daily sales data\n",
        "daily_sales = [220, 245, 210, 265, 230, 250, 260, 275, 240, 255,\n",
        "               235, 260, 245, 250, 225, 270, 265, 255, 250, 260]\n",
        "\n",
        "# Convert to numpy array\n",
        "sales = np.array(daily_sales)\n",
        "n = len(sales)\n",
        "\n",
        "# Sample mean and standard deviation\n",
        "mean_sales = np.mean(sales)\n",
        "std_sales = np.std(sales, ddof=1)  # ddof=1 for sample std deviation\n",
        "\n",
        "# 95% confidence interval\n",
        "confidence = 0.95\n",
        "z_score = stats.norm.ppf(0.975)  # two-tailed 95% CI\n",
        "margin_of_error = z_score * (std_sales / np.sqrt(n))\n",
        "\n",
        "ci_lower = mean_sales - margin_of_error\n",
        "ci_upper = mean_sales + margin_of_error\n",
        "\n",
        "print(f\"Mean Daily Sales: {mean_sales:.2f}\")\n",
        "print(f\"95% Confidence Interval: ({ci_lower:.2f}, {ci_upper:.2f})\")\n"
      ],
      "metadata": {
        "colab": {
          "base_uri": "https://localhost:8080/"
        },
        "id": "iCVF9hgAWbdq",
        "outputId": "bed53a80-559d-43b3-fddb-4475cc590f26"
      },
      "execution_count": 2,
      "outputs": [
        {
          "output_type": "stream",
          "name": "stdout",
          "text": [
            "Mean Daily Sales: 248.25\n",
            "95% Confidence Interval: (240.68, 255.82)\n"
          ]
        }
      ]
    }
  ]
}