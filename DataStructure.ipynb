{
  "nbformat": 4,
  "nbformat_minor": 0,
  "metadata": {
    "colab": {
      "provenance": []
    },
    "kernelspec": {
      "name": "python3",
      "display_name": "Python 3"
    },
    "language_info": {
      "name": "python"
    }
  },
  "cells": [
    {
      "cell_type": "markdown",
      "source": [
        "#   **Data Structure**                              "
      ],
      "metadata": {
        "id": "HwWDkCZNwRAI"
      }
    },
    {
      "cell_type": "code",
      "execution_count": null,
      "metadata": {
        "id": "ePPflXK7wPlh"
      },
      "outputs": [],
      "source": []
    },
    {
      "cell_type": "markdown",
      "source": [
        "1)  What are data structures, and why are they important?\n",
        "   - A data structure is a specialized format for organizing, storing, and managing data so it can be used efficiently. Think of it as a container that holds data in a specific layout, allowing you to perform operations like searching, sorting, inserting, or deleting with ease.\n",
        "\n",
        "2) Explain the difference between mutable and immutable data types with examples?\n",
        " - Mutable data type can be changed after they’re created. You can modify, add, or remove elements without creating a new object. Example-list, dictionary , set.\n",
        " - Immutable data type  cannot be changed once created. Any operation that seems to \"change\" them actually creates a new object.Example- integer,float,string.\n",
        "\n",
        "3) What are the main differences between lists and tuples in Python?\n",
        " - In python list are mutable , you can change, add or remove element like [1,2,3]\n",
        " - In python tuple are immutable , it is fixed once its create.You're optimizing for performance in large-scale applications, like(1,2,3)\n",
        "\n",
        "4) Describe how dictionaries store data?\n",
        " - Dictionaries in Python are one of the most powerful and flexible data structures, especially when you're working with structured data like CSV files or building systems like gradebooks or bank statements. Let’s dive into how they store data and why they’re so useful.\n",
        "\n",
        "5) Why might you use a set instead of a list in Python?\n",
        " - Sets automatically remove duplicates. If you need a collection of unique items, sets are your go-to.Its  use hashing, so checking if an item exists is much faster than in lists—especially with large datasets.\n",
        "\n",
        "6) What is a string in Python, and how is it different from a list?\n",
        " - Strings and lists in Python can look similar especially since both are sequences—but they behave quite differently. Let’s break it down with clarity, examples, and practical insights.\n",
        "\n",
        "7) How do tuples ensure data integrity in Python?\n",
        "  - Tuples are like the guardians of data integrity in Python.Let’s explore how they work and why they’re so valuable when you want to protect your data from accidental changes.\n",
        "\n",
        "8) What is a hash table, and how does it relate to dictionaries in Python?\n",
        " - A hash table is a data structure that stores key-value pairs and allows fast access to values based on their keys.When you search for a key, Python uses the hash code to jump directly to the value—no need to scan the whole table.\n",
        "\n",
        "9) Can lists contain different data types in Python?\n",
        " - Python lists are heterogeneous, meaning they can store elements of different types—integers, strings, floats, booleans, even other lists or dictionaries.\n",
        "\n",
        "10) Explain why strings are immutable in Python?\n",
        " - Strings are used frequently—especially as keys in dictionaries.\n",
        " - Immutability allows Python to cache and reuse string objects safely.\n",
        " - Immutable objects are hashable, which means they can be used as dictionary keys.\n",
        "\n",
        "11) What advantages do dictionaries offer over lists for certain tasks?\n",
        " - Dictionaries let you access values using descriptive keys, not just numeric indexes.\n",
        " - This makes your code more readable and intuitive.\n",
        "\n",
        "12) Describe a scenario where using a tuple would be preferable over a list?\n",
        " - Coordinates are fixed and shouldn't change → tuples are immutable.\n",
        " - Tuples are hashable, so they can be used as dictionary keys or stored in sets.\n",
        " - Semantically, a pair of values with a fixed meaning fits a tuple better than a list.\n",
        "\n",
        "13)  How do sets handle duplicate values in Python?\n",
        " -  When you create a set, any duplicate values are removed.\n",
        " - Sets rely on hashing to determine uniqueness.\n",
        " - Only hashable (immutable) types can be stored in a set.\n",
        "\n",
        "14) How does the “in” keyword work differently for lists and dictionaries?\n",
        " - The in keyword is super versatile in Python, but its behavior depends on the data structure you're using. Let’s break down how it works differently for lists vs dictionaries.\n",
        "\n",
        "15) Can you modify the elements of a tuple? Explain why or why not?\n",
        " - No, you cannot modify the elements of a tuple because this are immutable, once creatted their contents are fixed.\n",
        "   - Tuples are immutable in Python.\n",
        "   - Once created, their contents are fixed—you can’t change, add, or remove elements.\n",
        "\n",
        "\n",
        "  - Safety: Prevents accidental changes to data.\n",
        "  - Hashability: Tuples can be used as dictionary keys or set elements.\n",
        "  - Performance: Immutable objects are often faster and more memory-efficient.\n",
        "\n",
        "\n",
        "16) What is a nested dictionary, and give an example of its use case?\n",
        " -  A nested dictionary is simply a dictionary inside another dictionary.\n",
        " -  You want to store each student's name, age, and grades.  \n",
        "\n",
        "17)  Describe the time complexity of accessing elements in a dictionary?\n",
        " -  Accessing elements in a dictionary is one of Python’s superpowers when it comes to performance.\n",
        "    - Dictionary lookups are constant time thanks to hash tables.\n",
        "    - Python computes a hash of the key and jumps directly to the value.\n",
        "  \n",
        "18) In what situations are lists preferred over dictionaries?\n",
        " -  Maintaining Order\n",
        "     - Lists preserve the order of elements.\n",
        "     - Ideal for tasks like sorting, slicing, or iterating in sequence.\n",
        " - Index-Based Access\n",
        "     - You need to access items by position, not by name.\n",
        " - Storing Homogeneous Data\n",
        "     - Lists are great for storing items of the same type (e.g., numbers, strings).\n",
        " - Simple Collections\n",
        "     - When no unique identifier (key) is needed—just a group of items.\n",
        "\n",
        "19) Why are dictionaries considered unordered, and how does that affect data retrieval?\n",
        " - Dictionaries in Python were considered unordered because they didn’t guarantee the order of key-value pairs.\n",
        "    -  Keys were stored based on hash values, not sequence.\n",
        "    - This meant the order of items could change unexpectedly.\n",
        "\n",
        "20) Explain the difference between a list and a dictionary in terms of data retrieval.\n",
        "  - Lists are great when you care about the order or need to access items by position.\n",
        "  - Dictionaries are ideal when you want to retrieve data by a meaningful label (key), not position.\n",
        "\n",
        "\n",
        "\n",
        "\n",
        "\n",
        "\n",
        "\n"
      ],
      "metadata": {
        "id": "vzr_pRIbw_me"
      }
    },
    {
      "cell_type": "markdown",
      "source": [
        "1) Write a code to create a string with your name and print it?"
      ],
      "metadata": {
        "id": "H9QJpzJ7MX5m"
      }
    },
    {
      "cell_type": "code",
      "source": [
        "string = \"My name is Abhishek Kumar Ram\"\n",
        "print(string)"
      ],
      "metadata": {
        "id": "zvXwHium9L3f",
        "colab": {
          "base_uri": "https://localhost:8080/"
        },
        "outputId": "652ae477-420e-4144-fcec-76f7f8a02667"
      },
      "execution_count": 1,
      "outputs": [
        {
          "output_type": "stream",
          "name": "stdout",
          "text": [
            "My name is Abhishek Kumar Ram\n"
          ]
        }
      ]
    },
    {
      "cell_type": "markdown",
      "source": [
        "2) Write a code to find the length of the string \"Hello World\"?"
      ],
      "metadata": {
        "id": "SBbz5ZjuMsEh"
      }
    },
    {
      "cell_type": "code",
      "source": [
        "string = \"Hello World\"\n",
        "len(string)"
      ],
      "metadata": {
        "colab": {
          "base_uri": "https://localhost:8080/"
        },
        "id": "1e4RHsHhMlYe",
        "outputId": "aa6dbb9a-a5ba-4739-a458-af8c1fa83455"
      },
      "execution_count": 2,
      "outputs": [
        {
          "output_type": "execute_result",
          "data": {
            "text/plain": [
              "11"
            ]
          },
          "metadata": {},
          "execution_count": 2
        }
      ]
    },
    {
      "cell_type": "markdown",
      "source": [
        "3) Write a code to slice the first 3 characters from the string \"Python Programming\"?"
      ],
      "metadata": {
        "id": "EZ5m9aRiM600"
      }
    },
    {
      "cell_type": "code",
      "source": [
        "text = \"Python Programming\"\n",
        "print(text[:3])"
      ],
      "metadata": {
        "colab": {
          "base_uri": "https://localhost:8080/"
        },
        "id": "-w7gYH6rM3Bg",
        "outputId": "cd203626-9a63-4642-fc43-8dc447a32177"
      },
      "execution_count": 3,
      "outputs": [
        {
          "output_type": "stream",
          "name": "stdout",
          "text": [
            "Pyt\n"
          ]
        }
      ]
    },
    {
      "cell_type": "markdown",
      "source": [
        "4) Write a code to convert the string \"hello\" to uppercaseP"
      ],
      "metadata": {
        "id": "AsTJxuMoNbR_"
      }
    },
    {
      "cell_type": "code",
      "source": [
        "text = \"hello\"\n",
        "text.upper()"
      ],
      "metadata": {
        "colab": {
          "base_uri": "https://localhost:8080/",
          "height": 35
        },
        "id": "eeWDQlHTNVq9",
        "outputId": "7eff9ae8-b857-4f1e-d192-fd795bd90ea8"
      },
      "execution_count": 6,
      "outputs": [
        {
          "output_type": "execute_result",
          "data": {
            "text/plain": [
              "'HELLO'"
            ],
            "application/vnd.google.colaboratory.intrinsic+json": {
              "type": "string"
            }
          },
          "metadata": {},
          "execution_count": 6
        }
      ]
    },
    {
      "cell_type": "markdown",
      "source": [
        "5) Write a code to replace the word \"apple\" with \"orange\" in the string \"I like apple\"?"
      ],
      "metadata": {
        "id": "pEG4DmpVNwRG"
      }
    },
    {
      "cell_type": "code",
      "source": [
        "text = \"I like apple\"\n",
        "text.replace(\"apple\",\"orange\")"
      ],
      "metadata": {
        "colab": {
          "base_uri": "https://localhost:8080/",
          "height": 35
        },
        "id": "bEUW9V0bNow_",
        "outputId": "b02a5f68-9e34-495d-c4ec-7ad907ee0daa"
      },
      "execution_count": 9,
      "outputs": [
        {
          "output_type": "execute_result",
          "data": {
            "text/plain": [
              "'I like orange'"
            ],
            "application/vnd.google.colaboratory.intrinsic+json": {
              "type": "string"
            }
          },
          "metadata": {},
          "execution_count": 9
        }
      ]
    },
    {
      "cell_type": "markdown",
      "source": [
        "6) Write a code to create a list with numbers 1 to 5 and print it?"
      ],
      "metadata": {
        "id": "QyR2ivKDOQlU"
      }
    },
    {
      "cell_type": "code",
      "source": [
        "num = [1,2,3,4,5]\n",
        "num"
      ],
      "metadata": {
        "colab": {
          "base_uri": "https://localhost:8080/"
        },
        "id": "c6c7eHQ3OG_f",
        "outputId": "48e83eaf-5f79-4729-9486-0ee05a167d34"
      },
      "execution_count": 10,
      "outputs": [
        {
          "output_type": "execute_result",
          "data": {
            "text/plain": [
              "[1, 2, 3, 4, 5]"
            ]
          },
          "metadata": {},
          "execution_count": 10
        }
      ]
    },
    {
      "cell_type": "markdown",
      "source": [
        "7) Write a code to append the number 10 to the list [1, 2, 3, 4]?"
      ],
      "metadata": {
        "id": "tsOd8F_aOh1L"
      }
    },
    {
      "cell_type": "code",
      "source": [
        "list = [1,2,3,4]\n",
        "list.append(10)\n",
        "list"
      ],
      "metadata": {
        "colab": {
          "base_uri": "https://localhost:8080/"
        },
        "id": "TV2QG4qpOgHX",
        "outputId": "0891ea1c-e05e-4bba-9d49-533a9f509c7d"
      },
      "execution_count": 11,
      "outputs": [
        {
          "output_type": "execute_result",
          "data": {
            "text/plain": [
              "[1, 2, 3, 4, 10]"
            ]
          },
          "metadata": {},
          "execution_count": 11
        }
      ]
    },
    {
      "cell_type": "markdown",
      "source": [
        "8) Write a code to remove the number 3 from the list [1, 2, 3, 4, 5]?"
      ],
      "metadata": {
        "id": "Kkn23hiiOx4l"
      }
    },
    {
      "cell_type": "code",
      "source": [
        "list = [1,2,3,4,5]\n",
        "list.remove(3)\n",
        "list"
      ],
      "metadata": {
        "colab": {
          "base_uri": "https://localhost:8080/"
        },
        "id": "RrIYD7AqOsw5",
        "outputId": "1658bd80-3b68-4229-cb11-86c29fe01475"
      },
      "execution_count": 12,
      "outputs": [
        {
          "output_type": "execute_result",
          "data": {
            "text/plain": [
              "[1, 2, 4, 5]"
            ]
          },
          "metadata": {},
          "execution_count": 12
        }
      ]
    },
    {
      "cell_type": "markdown",
      "source": [
        "9)  Write a code to access the second element in the list ['a', 'b', 'c', 'd']?"
      ],
      "metadata": {
        "id": "f0f_4SRgO-WI"
      }
    },
    {
      "cell_type": "code",
      "source": [
        "list = ['a','b','c','d']\n",
        "list[1]"
      ],
      "metadata": {
        "colab": {
          "base_uri": "https://localhost:8080/",
          "height": 35
        },
        "id": "OH4xoeJOO9F2",
        "outputId": "db4d82ee-0d67-47df-da75-aa9038ec2494"
      },
      "execution_count": 15,
      "outputs": [
        {
          "output_type": "execute_result",
          "data": {
            "text/plain": [
              "'b'"
            ],
            "application/vnd.google.colaboratory.intrinsic+json": {
              "type": "string"
            }
          },
          "metadata": {},
          "execution_count": 15
        }
      ]
    },
    {
      "cell_type": "markdown",
      "source": [
        "10) Write a code to reverse the list [10, 20, 30, 40, 50]."
      ],
      "metadata": {
        "id": "8vnpycy7PjUF"
      }
    },
    {
      "cell_type": "code",
      "source": [
        "list = [10,20,30,40,50]\n",
        "list.reverse()\n",
        "list"
      ],
      "metadata": {
        "colab": {
          "base_uri": "https://localhost:8080/"
        },
        "id": "ifB8gE_8PWar",
        "outputId": "6ea8bbcb-332a-4311-d700-1b1692e45f7e"
      },
      "execution_count": 18,
      "outputs": [
        {
          "output_type": "execute_result",
          "data": {
            "text/plain": [
              "[50, 40, 30, 20, 10]"
            ]
          },
          "metadata": {},
          "execution_count": 18
        }
      ]
    },
    {
      "cell_type": "markdown",
      "source": [
        "11) Write a code to create a tuple with the elements 100, 200, 300 and print it."
      ],
      "metadata": {
        "id": "CwpTWkzQP9wu"
      }
    },
    {
      "cell_type": "code",
      "source": [
        "tuple = (100,200,300)\n",
        "tuple"
      ],
      "metadata": {
        "colab": {
          "base_uri": "https://localhost:8080/"
        },
        "id": "h47IxpzVP0wt",
        "outputId": "bfb0bb03-3c26-4935-fb94-c95e8350172a"
      },
      "execution_count": 19,
      "outputs": [
        {
          "output_type": "execute_result",
          "data": {
            "text/plain": [
              "(100, 200, 300)"
            ]
          },
          "metadata": {},
          "execution_count": 19
        }
      ]
    },
    {
      "cell_type": "markdown",
      "source": [
        "12) Write a code to access the second-to-last element of the tuple ('red', 'green', 'blue', 'yellow')"
      ],
      "metadata": {
        "id": "w_pJonHwQL5q"
      }
    },
    {
      "cell_type": "code",
      "source": [
        "tuple = ('red','green','blue','yellow')\n",
        "tuple[2]"
      ],
      "metadata": {
        "colab": {
          "base_uri": "https://localhost:8080/",
          "height": 35
        },
        "id": "MUw_bo5NQIP0",
        "outputId": "b8410bf6-1688-4b78-e30f-f7c58fb535a7"
      },
      "execution_count": 20,
      "outputs": [
        {
          "output_type": "execute_result",
          "data": {
            "text/plain": [
              "'blue'"
            ],
            "application/vnd.google.colaboratory.intrinsic+json": {
              "type": "string"
            }
          },
          "metadata": {},
          "execution_count": 20
        }
      ]
    },
    {
      "cell_type": "markdown",
      "source": [
        "13) Write a code to find the minimum number in the tuple (10, 20, 5, 15)"
      ],
      "metadata": {
        "id": "r1gegj7OQazE"
      }
    },
    {
      "cell_type": "code",
      "source": [
        "tuple = (10,20,5,15)\n",
        "min(tuple)"
      ],
      "metadata": {
        "colab": {
          "base_uri": "https://localhost:8080/"
        },
        "id": "ks9RlWFwQZHi",
        "outputId": "ded414fe-5056-4c51-e93d-d00a0833686c"
      },
      "execution_count": 24,
      "outputs": [
        {
          "output_type": "execute_result",
          "data": {
            "text/plain": [
              "5"
            ]
          },
          "metadata": {},
          "execution_count": 24
        }
      ]
    },
    {
      "cell_type": "markdown",
      "source": [
        "14)  Write a code to find the index of the element \"cat\" in the tuple ('dog', 'cat', 'rabbit')"
      ],
      "metadata": {
        "id": "fJtELUcHRA6A"
      }
    },
    {
      "cell_type": "code",
      "source": [
        "tuple = ('dog','cat','rabbit')\n",
        "tuple.index('cat')"
      ],
      "metadata": {
        "colab": {
          "base_uri": "https://localhost:8080/"
        },
        "id": "euYFxCe-QoZp",
        "outputId": "25af8c76-43b4-420d-a4c2-cd20f75d994a"
      },
      "execution_count": 25,
      "outputs": [
        {
          "output_type": "execute_result",
          "data": {
            "text/plain": [
              "1"
            ]
          },
          "metadata": {},
          "execution_count": 25
        }
      ]
    },
    {
      "cell_type": "markdown",
      "source": [
        "15) Write a code to create a tuple containing three different fruits and check if \"kiwi\" is in it."
      ],
      "metadata": {
        "id": "ZKWNd0y4RQHa"
      }
    },
    {
      "cell_type": "code",
      "source": [
        "tuple = (\"apple\",\"banana\",\"kiwi\")\n",
        "\"kiwi\" in tuple"
      ],
      "metadata": {
        "colab": {
          "base_uri": "https://localhost:8080/"
        },
        "id": "hGt-SXiIRLr9",
        "outputId": "ebc66f92-3f5b-4456-ed3c-845837e23ac9"
      },
      "execution_count": 26,
      "outputs": [
        {
          "output_type": "execute_result",
          "data": {
            "text/plain": [
              "True"
            ]
          },
          "metadata": {},
          "execution_count": 26
        }
      ]
    },
    {
      "cell_type": "markdown",
      "source": [
        "16) Write a code to create a set with the elements 'a', 'b', 'c' and print it"
      ],
      "metadata": {
        "id": "xjLbJta6RhTJ"
      }
    },
    {
      "cell_type": "code",
      "source": [
        "set = {'a','b','c'}\n",
        "set"
      ],
      "metadata": {
        "colab": {
          "base_uri": "https://localhost:8080/"
        },
        "id": "QaxS0I38RcR2",
        "outputId": "2f373337-3685-484a-d273-cb0d90ee5caf"
      },
      "execution_count": 28,
      "outputs": [
        {
          "output_type": "execute_result",
          "data": {
            "text/plain": [
              "{'a', 'b', 'c'}"
            ]
          },
          "metadata": {},
          "execution_count": 28
        }
      ]
    },
    {
      "cell_type": "markdown",
      "source": [
        "17)  Write a code to clear all elements from the set {1, 2, 3, 4, 5}."
      ],
      "metadata": {
        "id": "VxRZxznIRviz"
      }
    },
    {
      "cell_type": "code",
      "source": [
        "set = {1,2,3,4,5}\n",
        "set.clear()\n",
        "set"
      ],
      "metadata": {
        "colab": {
          "base_uri": "https://localhost:8080/"
        },
        "id": "DtRJuCI9Rmo-",
        "outputId": "3bd91a13-31aa-4b07-bc4e-48e1d9a287fb"
      },
      "execution_count": 29,
      "outputs": [
        {
          "output_type": "execute_result",
          "data": {
            "text/plain": [
              "set()"
            ]
          },
          "metadata": {},
          "execution_count": 29
        }
      ]
    },
    {
      "cell_type": "markdown",
      "source": [
        "18) Write a code to remove the element 4 from the set {1, 2, 3, 4}."
      ],
      "metadata": {
        "id": "EMO-L32hR4iK"
      }
    },
    {
      "cell_type": "code",
      "source": [
        "set = {1,2,3,4}\n",
        "set.remove(4)\n",
        "set"
      ],
      "metadata": {
        "colab": {
          "base_uri": "https://localhost:8080/"
        },
        "id": "Y3Jflp_mRz-O",
        "outputId": "1aa9bbb0-a303-4fee-87dc-035f7129e6ea"
      },
      "execution_count": 30,
      "outputs": [
        {
          "output_type": "execute_result",
          "data": {
            "text/plain": [
              "{1, 2, 3}"
            ]
          },
          "metadata": {},
          "execution_count": 30
        }
      ]
    },
    {
      "cell_type": "markdown",
      "source": [
        "19) Write a code to find the union of two sets {1, 2, 3} and {3, 4, 5}.."
      ],
      "metadata": {
        "id": "nN279e6mSG8z"
      }
    },
    {
      "cell_type": "code",
      "source": [
        "s1 = {1,2,3}\n",
        "s2 = {3,4,5}\n",
        "s1|s2"
      ],
      "metadata": {
        "colab": {
          "base_uri": "https://localhost:8080/"
        },
        "id": "ujT1ZrmUR_hb",
        "outputId": "164ec446-1987-4c83-9eba-d701d232f9b4"
      },
      "execution_count": 31,
      "outputs": [
        {
          "output_type": "execute_result",
          "data": {
            "text/plain": [
              "{1, 2, 3, 4, 5}"
            ]
          },
          "metadata": {},
          "execution_count": 31
        }
      ]
    },
    {
      "cell_type": "markdown",
      "source": [
        "20) Write a code to find the intersection of two sets {1, 2, 3} and {2, 3, 4}."
      ],
      "metadata": {
        "id": "z7WLaGxVSjG2"
      }
    },
    {
      "cell_type": "code",
      "source": [
        "s1 = {1,2,3}\n",
        "s2 = {2,3,4}\n",
        "s1&s2"
      ],
      "metadata": {
        "colab": {
          "base_uri": "https://localhost:8080/"
        },
        "id": "-W0JYO_1SeFv",
        "outputId": "a3cb10e2-cca4-4330-8c77-0ba75655d2cf"
      },
      "execution_count": 33,
      "outputs": [
        {
          "output_type": "execute_result",
          "data": {
            "text/plain": [
              "{2, 3}"
            ]
          },
          "metadata": {},
          "execution_count": 33
        }
      ]
    },
    {
      "cell_type": "markdown",
      "source": [
        "21) Write a code to create a dictionary with the keys \"name\", \"age\", and \"city\", and print it."
      ],
      "metadata": {
        "id": "3wiZsaN8S8ik"
      }
    },
    {
      "cell_type": "code",
      "source": [
        "dict = {\"name\":\"Abhishek\",\"age\":23,\"city\":\"Kolkata\"}\n",
        "dict"
      ],
      "metadata": {
        "colab": {
          "base_uri": "https://localhost:8080/"
        },
        "id": "HRWnG701Syzj",
        "outputId": "d2ad92f1-9c1b-4653-cdb5-a0ff62819ae7"
      },
      "execution_count": 34,
      "outputs": [
        {
          "output_type": "execute_result",
          "data": {
            "text/plain": [
              "{'name': 'Abhishek', 'age': 23, 'city': 'Kolkata'}"
            ]
          },
          "metadata": {},
          "execution_count": 34
        }
      ]
    },
    {
      "cell_type": "markdown",
      "source": [
        "22)  Write a code to add a new key-value pair \"country\": \"USA\" to the dictionary {'name': 'John', 'age': 25}."
      ],
      "metadata": {
        "id": "dzSh_9TGTTTB"
      }
    },
    {
      "cell_type": "code",
      "source": [
        "dict = {'name': 'John', 'age': 23}\n",
        "dict[\"country\"] = \"USA\"\n",
        "dict"
      ],
      "metadata": {
        "colab": {
          "base_uri": "https://localhost:8080/"
        },
        "id": "oPFMmWXuTL-d",
        "outputId": "8380d35c-c8ad-48dc-e986-b789c0f5938b"
      },
      "execution_count": 35,
      "outputs": [
        {
          "output_type": "execute_result",
          "data": {
            "text/plain": [
              "{'name': 'John', 'age': 23, 'country': 'USA'}"
            ]
          },
          "metadata": {},
          "execution_count": 35
        }
      ]
    },
    {
      "cell_type": "markdown",
      "source": [
        "23) Write a code to access the value associated with the key \"name\" in the dictionary {'name': 'Alice', 'age': 30}."
      ],
      "metadata": {
        "id": "9JJRx4orTkHf"
      }
    },
    {
      "cell_type": "code",
      "source": [
        "dict = {'name': 'Alice', 'age': 30}\n",
        "dict[\"name\"]"
      ],
      "metadata": {
        "colab": {
          "base_uri": "https://localhost:8080/",
          "height": 35
        },
        "id": "jzhh1HneTeS6",
        "outputId": "334c7aa1-88d4-48e6-8561-9e57f91ae019"
      },
      "execution_count": 36,
      "outputs": [
        {
          "output_type": "execute_result",
          "data": {
            "text/plain": [
              "'Alice'"
            ],
            "application/vnd.google.colaboratory.intrinsic+json": {
              "type": "string"
            }
          },
          "metadata": {},
          "execution_count": 36
        }
      ]
    },
    {
      "cell_type": "markdown",
      "source": [
        "24) Write a code to remove the key \"age\" from the dictionary {'name': 'Bob', 'age': 22, 'city': 'New York'}."
      ],
      "metadata": {
        "id": "dGx_CGulTuwu"
      }
    },
    {
      "cell_type": "code",
      "source": [
        "dict = {'name': 'Bob', 'age': 23, 'city': 'New York'}\n",
        "dict.pop(\"age\")\n",
        "dict"
      ],
      "metadata": {
        "colab": {
          "base_uri": "https://localhost:8080/"
        },
        "id": "93jgSQCtTq9T",
        "outputId": "0e65fe98-5cec-456b-9c6a-aab1ed02cb2a"
      },
      "execution_count": 37,
      "outputs": [
        {
          "output_type": "execute_result",
          "data": {
            "text/plain": [
              "{'name': 'Bob', 'city': 'New York'}"
            ]
          },
          "metadata": {},
          "execution_count": 37
        }
      ]
    },
    {
      "cell_type": "markdown",
      "source": [
        "25) Write a code to check if the key \"city\" exists in the dictionary {'name': 'Alice', 'city': 'Paris'}."
      ],
      "metadata": {
        "id": "78QUFw3aT53j"
      }
    },
    {
      "cell_type": "code",
      "source": [
        "dict = { 'name': 'Alice', 'city': 'Paris'}\n",
        "\"city\" in dict"
      ],
      "metadata": {
        "colab": {
          "base_uri": "https://localhost:8080/"
        },
        "id": "WOhDppvvT2rA",
        "outputId": "267f1b3c-2fe1-4531-b31f-63a760c1e9a4"
      },
      "execution_count": 38,
      "outputs": [
        {
          "output_type": "execute_result",
          "data": {
            "text/plain": [
              "True"
            ]
          },
          "metadata": {},
          "execution_count": 38
        }
      ]
    },
    {
      "cell_type": "markdown",
      "source": [
        "26) Write a code to create a list, a tuple, and a dictionary, and print them all."
      ],
      "metadata": {
        "id": "WmYCMoZkUEFO"
      }
    },
    {
      "cell_type": "code",
      "source": [
        "list = [1,2,3,4,5]\n",
        "tuple = (1,2,3,4,5)\n",
        "dict = {\"name\":\"Abhishek\",\"age\":23,\"city\":\"Kolkata\"}\n",
        "print(list)\n",
        "print(tuple)\n",
        "print(dict)"
      ],
      "metadata": {
        "colab": {
          "base_uri": "https://localhost:8080/"
        },
        "id": "y-J2xZXLUBQn",
        "outputId": "293b5f50-0d43-487c-89fc-aeedf99beb28"
      },
      "execution_count": 39,
      "outputs": [
        {
          "output_type": "stream",
          "name": "stdout",
          "text": [
            "[1, 2, 3, 4, 5]\n",
            "(1, 2, 3, 4, 5)\n",
            "{'name': 'Abhishek', 'age': 23, 'city': 'Kolkata'}\n"
          ]
        }
      ]
    },
    {
      "cell_type": "markdown",
      "source": [
        "27)  Write a code to create a list of 5 random numbers between 1 and 100, sort it in ascending order, and print the\n",
        "result.(replaced)"
      ],
      "metadata": {
        "id": "3sdL1MrhURFl"
      }
    },
    {
      "cell_type": "code",
      "source": [
        "list = [43,64,73,27,93]\n",
        "list.sort()\n",
        "list"
      ],
      "metadata": {
        "colab": {
          "base_uri": "https://localhost:8080/"
        },
        "id": "0vG3h6l4UNiv",
        "outputId": "0c55a190-d595-4b57-e97d-3e38f954ad07"
      },
      "execution_count": 43,
      "outputs": [
        {
          "output_type": "execute_result",
          "data": {
            "text/plain": [
              "[27, 43, 64, 73, 93]"
            ]
          },
          "metadata": {},
          "execution_count": 43
        }
      ]
    },
    {
      "cell_type": "markdown",
      "source": [
        "28) Write a code to create a list with strings and print the element at the third index."
      ],
      "metadata": {
        "id": "iBKZhvW6UzLp"
      }
    },
    {
      "cell_type": "code",
      "source": [
        "list = [\"apple\",\"banana\",\"Abhishek\",\"orange\",\"grapes\"]\n",
        "list[2]"
      ],
      "metadata": {
        "colab": {
          "base_uri": "https://localhost:8080/",
          "height": 35
        },
        "id": "ygXE-fNGUkqV",
        "outputId": "cd8eba3b-ba9a-4a87-952f-620e68e28dae"
      },
      "execution_count": 45,
      "outputs": [
        {
          "output_type": "execute_result",
          "data": {
            "text/plain": [
              "'Abhishek'"
            ],
            "application/vnd.google.colaboratory.intrinsic+json": {
              "type": "string"
            }
          },
          "metadata": {},
          "execution_count": 45
        }
      ]
    },
    {
      "cell_type": "markdown",
      "source": [
        "29) Write a code to combine two dictionaries into one and print the result"
      ],
      "metadata": {
        "id": "wgiqjqJWVGWY"
      }
    },
    {
      "cell_type": "code",
      "source": [
        "d1 = {'name':'Abhishek'}\n",
        "d2 = {'age':23}\n",
        "d1.update(d2)\n",
        "d1"
      ],
      "metadata": {
        "colab": {
          "base_uri": "https://localhost:8080/"
        },
        "id": "Hv0PFNEPU-xE",
        "outputId": "e86f79ec-c670-4ccc-b7d4-5488a055b3e3"
      },
      "execution_count": 47,
      "outputs": [
        {
          "output_type": "execute_result",
          "data": {
            "text/plain": [
              "{'name': 'Abhishek', 'age': 23}"
            ]
          },
          "metadata": {},
          "execution_count": 47
        }
      ]
    },
    {
      "cell_type": "markdown",
      "source": [
        "30) Write a code to convert a list of strings into a set"
      ],
      "metadata": {
        "id": "U7Bh03UGVhY0"
      }
    },
    {
      "cell_type": "code",
      "source": [
        "list = [\"apple\",\"banana\",\"Abhishek\",\"orange\",\"grapes\"]\n",
        "set(list)"
      ],
      "metadata": {
        "colab": {
          "base_uri": "https://localhost:8080/",
          "height": 159
        },
        "id": "sA8NAZJDXzNk",
        "outputId": "79cdc4e7-aca3-47ff-8745-9f91ca9470f2"
      },
      "execution_count": 61,
      "outputs": [
        {
          "output_type": "error",
          "ename": "TypeError",
          "evalue": "'set' object is not callable",
          "traceback": [
            "\u001b[0;31m---------------------------------------------------------------------------\u001b[0m",
            "\u001b[0;31mTypeError\u001b[0m                                 Traceback (most recent call last)",
            "\u001b[0;32m/tmp/ipython-input-2218046704.py\u001b[0m in \u001b[0;36m<cell line: 0>\u001b[0;34m()\u001b[0m\n\u001b[1;32m      1\u001b[0m \u001b[0mlist\u001b[0m \u001b[0;34m=\u001b[0m \u001b[0;34m[\u001b[0m\u001b[0;34m\"apple\"\u001b[0m\u001b[0;34m,\u001b[0m\u001b[0;34m\"banana\"\u001b[0m\u001b[0;34m,\u001b[0m\u001b[0;34m\"Abhishek\"\u001b[0m\u001b[0;34m,\u001b[0m\u001b[0;34m\"orange\"\u001b[0m\u001b[0;34m,\u001b[0m\u001b[0;34m\"grapes\"\u001b[0m\u001b[0;34m]\u001b[0m\u001b[0;34m\u001b[0m\u001b[0;34m\u001b[0m\u001b[0m\n\u001b[0;32m----> 2\u001b[0;31m \u001b[0mset\u001b[0m\u001b[0;34m(\u001b[0m\u001b[0mlist\u001b[0m\u001b[0;34m)\u001b[0m\u001b[0;34m\u001b[0m\u001b[0;34m\u001b[0m\u001b[0m\n\u001b[0m",
            "\u001b[0;31mTypeError\u001b[0m: 'set' object is not callable"
          ]
        }
      ]
    },
    {
      "cell_type": "code",
      "source": [],
      "metadata": {
        "id": "g4JNoPPsYLcf"
      },
      "execution_count": null,
      "outputs": []
    }
  ]
}