{
  "nbformat": 4,
  "nbformat_minor": 0,
  "metadata": {
    "colab": {
      "provenance": []
    },
    "kernelspec": {
      "name": "python3",
      "display_name": "Python 3"
    },
    "language_info": {
      "name": "python"
    }
  },
  "cells": [
    {
      "cell_type": "markdown",
      "source": [
        "# **Feature Engineering Assignment Questions**"
      ],
      "metadata": {
        "id": "GIkl3gj3K2IL"
      }
    },
    {
      "cell_type": "markdown",
      "source": [
        "What is a parameter?\n",
        "- A parameter is a quantity that helps define a system, function, or model and influences its behavior or outcome.\n",
        "\n",
        "What is correlation?\n",
        "What does negative correlation mean?\n",
        "- Correlation is a statistical measure that shows the strength and direction of the relationship between two variables.\n",
        "- Negative correlation means that when one variable increases, the other tends to decrease (and vice versa).\n",
        "\n",
        "Define Machine Learning. What are the main components in Machine Learning?\n",
        "- Machine Learning is a branch of Artificial Intelligence (AI) that focuses on developing algorithms and models that enable computers to learn patterns from data and make predictions or decisions without being explicitly programmed.\n",
        "- Machine Learning involves data, a model, a learning algorithm, a loss function, and an evaluation process to build systems that learn patterns and make predictions.\n",
        "\n",
        "How does loss value help in determining whether the model is good or not?\n",
        "- Loss value helps measure how well a model is performing. A smaller loss means the model is better at predicting, but you must check it on unseen data to ensure the model is truly good.\n",
        "\n",
        "What are continuous and categorical variables?\n",
        "1. Continuous Variables\n",
        "\n",
        " - Variables that can take any numerical value within a range (infinite possibilities).\n",
        "\n",
        "- They are measured, not counted.\n",
        "\n",
        "- Can have decimal or fractional values.\n",
        "2. Categorical Variables\n",
        "\n",
        "- Variables that represent groups or categories, not numerical measurements.\n",
        "\n",
        "- They are counted (not measured).\n",
        "\n",
        "- Can be further divided into:\n",
        "\n",
        "- Nominal: Categories with no order. (e.g., Colors: Red, Blue, Green)\n",
        "\n",
        "- Ordinal: Categories with a logical order. (e.g., Education level: High School < Bachelor < Master < PhD)\n",
        "\n",
        "How do we handle categorical variables in Machine Learning? What are the common t\n",
        "echniques?\n",
        "- Label Encoding → Simple, but adds false order.\n",
        "\n",
        "- One-Hot Encoding → Most common, safe for nominal categories.\n",
        "\n",
        "- Ordinal Encoding → For ordered categories.\n",
        "\n",
        "- Frequency/Target Encoding → For large datasets, but needs caution.\n",
        "\n",
        "What do you mean by training and testing a dataset?\n",
        "1. Training a Dataset\n",
        "\n",
        "- Training data is the portion of the dataset used to teach the model.\n",
        "\n",
        "- The model learns patterns, relationships, and adjusts parameters (like weights in regression or neural networks) using this data.\n",
        "\n",
        "- Example: In predicting house prices, the model learns from data like\n",
        "\n",
        "   - Size: 1200 sq ft → Price: ₹50 lakhs\n",
        "\n",
        "   - Size: 1500 sq ft → Price: ₹65 lakhs\n",
        "2. Testing a Dataset\n",
        "\n",
        "- Testing data is a separate portion of the dataset used to evaluate the model’s performance after training.\n",
        "\n",
        "- The model makes predictions on this unseen data, and we compare predictions with the actual results.\n",
        "\n",
        "- Example: If the test data says:\n",
        "\n",
        "   - Size: 1800 sq ft → Actual Price: ₹75 lakhs\n",
        "\n",
        "   - Model predicts ₹73 lakhs → good performance.\n",
        "\n",
        "What is sklearn.preprocessing?\n",
        "- sklearn.preprocessing = preprocessing toolkit in scikit-learn to scale, normalize, encode, and transform raw data into a format that ML models can understand better.\n",
        "\n",
        "What is a Test set?\n",
        "- A test set is a portion of the dataset that is kept separate from training data and is used only to evaluate the performance of the trained model.\n",
        "\n",
        "How do we split data for model fitting (training and testing) in Python?\n",
        "How do you approach a Machine Learning problem?\n",
        "\n",
        "- Split data → train and test.\n",
        "\n",
        "- Preprocess → handle missing values, encode, scale.\n",
        "\n",
        "- Train model → choose algorithm, fit training data.\n",
        "\n",
        "- Evaluate → test on unseen data.\n",
        "\n",
        "- Iterate → improve and deploy.\n",
        "\n",
        "Why do we have to perform EDA before fitting a model to the data?\n",
        "- EDA is like getting to know your data before modeling. It ensures:\n",
        "\n",
        "   - Data is clean and reliable.\n",
        "\n",
        "   - Features are meaningful.\n",
        "\n",
        "   - You choose the right preprocessing and model\n",
        "\n",
        "What is correlation?\n",
        "- Correlation is a statistical measure that describes the relationship between two variables—specifically, how one variable changes when the other changes.\n",
        "\n",
        "What does negative correlation mean?\n",
        "- Negative correlation occurs when one variable increases while the other variable decreases, and vice versa. In other words, the two variables move in opposite directions.\n"
      ],
      "metadata": {
        "id": "iavFinZpLEgy"
      }
    },
    {
      "cell_type": "markdown",
      "source": [
        "How can you find correlation between variables in Python?"
      ],
      "metadata": {
        "id": "HTkU3ZPeOw9E"
      }
    },
    {
      "cell_type": "code",
      "source": [
        "import pandas as pd\n",
        "\n",
        "# Example dataset\n",
        "data = {\n",
        "    'Hours_Studied': [2, 3, 5, 8, 10],\n",
        "    'Exam_Score': [50, 60, 65, 80, 95]\n",
        "}\n",
        "\n",
        "df = pd.DataFrame(data)\n",
        "\n",
        "# Compute correlation matrix\n",
        "correlation_matrix = df.corr()\n",
        "print(correlation_matrix)\n"
      ],
      "metadata": {
        "colab": {
          "base_uri": "https://localhost:8080/"
        },
        "id": "7XZiiHFVOwVx",
        "outputId": "609b9162-e1f7-42e8-ce0c-bad46933cb2f"
      },
      "execution_count": 1,
      "outputs": [
        {
          "output_type": "stream",
          "name": "stdout",
          "text": [
            "               Hours_Studied  Exam_Score\n",
            "Hours_Studied       1.000000    0.988652\n",
            "Exam_Score          0.988652    1.000000\n"
          ]
        }
      ]
    },
    {
      "cell_type": "markdown",
      "source": [
        "What is causation? Explain difference between correlation and causation with an example.\n",
        "- Causation (or cause-and-effect) means that a change in one variable directly causes a change in another variable.\n",
        "1. Correlation but not causation:\n",
        "\n",
        "  - Ice cream sales and drowning incidents both increase in summer.\n",
        "\n",
        "- They are positively correlated, but ice cream sales do not cause drowning.\n",
        "\n",
        "- The hidden factor (temperature) causes both.\n",
        "\n",
        "2. Causation:\n",
        "\n",
        "- Smoking increases the risk of lung cancer.\n",
        "\n",
        "- Here, smoking directly contributes to cancer development.\n",
        "\n",
        "What is an Optimizer? What are different types of optimizers? Explain each with an example\n",
        "- In Machine Learning (especially in neural networks), an optimizer is an algorithm that adjusts the model’s parameters (weights and biases) to minimize the loss function during training.\n",
        "\n",
        "- The goal is to find the best set of parameters so the model predicts accurately.\n",
        "\n",
        "- Think of it as a guide that helps the model “descend” the error surface to reach the minimum loss\n",
        "\n",
        "What is sklearn.linear_model ?\n",
        "- sklearn.linear_model → provides linear regression and classification algorithms.\n",
        "\n",
        "- Includes regularized regression (Ridge, Lasso) and linear classifiers (LogisticRegression, Perceptron).\n",
        "\n",
        "- Easy to use and interpretable.\n",
        "\n",
        "What does model.fit() do? What arguments must be given?\n",
        "- In scikit-learn, model.fit() is the method used to train a machine learning model.\n",
        "\n",
        "- When you call fit(), the model learns patterns from the training data by adjusting its internal parameters (weights, coefficients, biases, etc.) to minimize error.\n",
        "\n",
        "What does model.predict() do? What arguments must be given?\n",
        "- In scikit-learn, model.predict() is used to make predictions using a trained model.\n",
        "\n",
        "- After you have trained a model with model.fit(), calling predict() allows you to input new data and get the model’s predicted outputs.\n",
        "\n",
        "What are continuous and categorical variables?\n",
        "1. Continuous Variables\n",
        "\n",
        "- Definition: Variables that can take any numerical value within a range. They are measured, not counted, and can have decimal/fractional values.\n",
        "2. Categorical Variables\n",
        "\n",
        "- Definition: Variables that represent distinct categories or groups. They are counted, not measured.\n",
        "\n",
        "What is feature scaling? How does it help in Machine Learning?\n",
        "- Feature scaling is the process of rescaling the values of numerical features in a dataset so that they are on a similar scale.\n",
        "\n",
        "   - Machine Learning algorithms often perform better or converge faster when features have similar ranges, especially if the features vary widely in magnitude.\n",
        "\n",
        "   - Scaling does not change the relationships between features, only their scale.\n",
        "\n"
      ],
      "metadata": {
        "id": "9l2Fd3OuO8kI"
      }
    },
    {
      "cell_type": "markdown",
      "source": [
        "How do we perform scaling in Python?"
      ],
      "metadata": {
        "id": "AXtBz1ZwQTyW"
      }
    },
    {
      "cell_type": "code",
      "source": [
        "from sklearn.preprocessing import StandardScaler\n",
        "\n",
        "# Sample data\n",
        "X = [[1, 100], [2, 200], [3, 300]]\n",
        "\n",
        "# Initialize scaler\n",
        "scaler = StandardScaler()\n",
        "\n",
        "# Fit and transform the data\n",
        "X_scaled = scaler.fit_transform(X)\n",
        "print(\"Standardized Data:\\n\", X_scaled)\n"
      ],
      "metadata": {
        "colab": {
          "base_uri": "https://localhost:8080/"
        },
        "id": "SOUiz5d4O1k2",
        "outputId": "f3440463-9cc2-49de-ef7c-522e0f197851"
      },
      "execution_count": 2,
      "outputs": [
        {
          "output_type": "stream",
          "name": "stdout",
          "text": [
            "Standardized Data:\n",
            " [[-1.22474487 -1.22474487]\n",
            " [ 0.          0.        ]\n",
            " [ 1.22474487  1.22474487]]\n"
          ]
        }
      ]
    },
    {
      "cell_type": "markdown",
      "source": [
        "What is sklearn.preprocessing?\n",
        "- sklearn.preprocessing is a module in scikit-learn that provides tools to prepare and transform raw data before feeding it into a Machine Learning model.\n",
        "\n",
        "   - Raw data often contains different scales, missing values, or categorical labels.\n",
        "   - Preprocessing makes the data clean, consistent, and suitable for ML algorithms.\n",
        "\n"
      ],
      "metadata": {
        "id": "L6Nl_G5xQamf"
      }
    },
    {
      "cell_type": "markdown",
      "source": [
        "How do we split data for model fitting (training and testing) in Python?"
      ],
      "metadata": {
        "id": "sFo1lURfQrsK"
      }
    },
    {
      "cell_type": "code",
      "source": [
        "from sklearn.model_selection import train_test_split\n",
        "import numpy as np\n",
        "\n",
        "# Example dataset\n",
        "X = np.array([[1], [2], [3], [4], [5], [6], [7], [8], [9], [10]])  # Features\n",
        "y = np.array([10, 20, 30, 40, 50, 60, 70, 80, 90, 100])          # Labels\n",
        "\n",
        "# Split data: 80% training, 20% testing\n",
        "X_train, X_test, y_train, y_test = train_test_split(\n",
        "    X, y, test_size=0.2, random_state=42\n",
        ")\n",
        "\n",
        "print(\"X_train:\", X_train)\n",
        "print(\"X_test:\", X_test)\n"
      ],
      "metadata": {
        "colab": {
          "base_uri": "https://localhost:8080/"
        },
        "id": "GPY-G6R8QWgO",
        "outputId": "2b2eb3a7-4202-4201-bb8f-88f5983a51de"
      },
      "execution_count": 3,
      "outputs": [
        {
          "output_type": "stream",
          "name": "stdout",
          "text": [
            "X_train: [[ 6]\n",
            " [ 1]\n",
            " [ 8]\n",
            " [ 3]\n",
            " [10]\n",
            " [ 5]\n",
            " [ 4]\n",
            " [ 7]]\n",
            "X_test: [[9]\n",
            " [2]]\n"
          ]
        }
      ]
    },
    {
      "cell_type": "markdown",
      "source": [
        "Explain data encoding?\n",
        "- Data encoding in Machine Learning is the process of converting categorical data into numerical form so that algorithms can process it.\n",
        "\n",
        "   - Most ML models (like Linear Regression, SVM, Neural Networks) cannot work directly with text or categorical data.\n",
        "\n",
        "   - Encoding transforms these categories into numbers without losing the meaning of the data."
      ],
      "metadata": {
        "id": "4ootuGDNQ0N-"
      }
    },
    {
      "cell_type": "code",
      "source": [],
      "metadata": {
        "id": "A9uDiiU1QuYU"
      },
      "execution_count": null,
      "outputs": []
    }
  ]
}